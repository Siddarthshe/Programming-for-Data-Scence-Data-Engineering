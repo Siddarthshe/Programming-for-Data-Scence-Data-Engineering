{
 "cells": [
  {
   "cell_type": "code",
   "execution_count": 1,
   "metadata": {},
   "outputs": [],
   "source": [
    "#importing libraries\n",
    "import numpy as np\n",
    "import pandas as pd\n",
    "import random\n",
    "import statsmodels.api as sm\n",
    "import statsmodels.formula.api as smf\n",
    "import matplotlib.pyplot as plt\n",
    "from scipy import stats\n",
    "import random"
   ]
  },
  {
   "cell_type": "markdown",
   "metadata": {},
   "source": [
    "## Question 1"
   ]
  },
  {
   "cell_type": "code",
   "execution_count": 2,
   "metadata": {},
   "outputs": [],
   "source": [
    "#creating data generating process\n",
    "def generate(beta0,beta1):\n",
    "    mean = [0, 0]\n",
    "    cov = [[1, 0.5], [0.5, 1]]\n",
    "    x=np.random.multivariate_normal(mean, cov, 1000)\n",
    "    e= np.random.normal(size=(1000,2))\n",
    "    y=beta0+beta1*x+e\n",
    "    return(x,y)"
   ]
  },
  {
   "cell_type": "code",
   "execution_count": 3,
   "metadata": {},
   "outputs": [],
   "source": [
    "# running dgp function\n",
    "x,y=generate(1,3)"
   ]
  },
  {
   "cell_type": "code",
   "execution_count": 4,
   "metadata": {},
   "outputs": [],
   "source": [
    "# building linear Model\n",
    "from sklearn.linear_model import LinearRegression\n",
    "from sklearn.metrics import mean_squared_error\n",
    "lreg = LinearRegression()\n"
   ]
  },
  {
   "cell_type": "code",
   "execution_count": 5,
   "metadata": {},
   "outputs": [],
   "source": [
    "#splitting Data\n",
    "from sklearn.metrics import mean_squared_error\n",
    "from sklearn.model_selection import train_test_split\n",
    "X_train, X_test, y_train, y_test = train_test_split(\n",
    "x, y,random_state=0)\n"
   ]
  },
  {
   "cell_type": "code",
   "execution_count": 6,
   "metadata": {},
   "outputs": [],
   "source": [
    "# splitting data\n",
    "model = lreg.fit(X_train , y_train)"
   ]
  },
  {
   "cell_type": "code",
   "execution_count": 7,
   "metadata": {},
   "outputs": [
    {
     "data": {
      "text/plain": [
       "array([[ 2.94174256,  0.0281521 ],\n",
       "       [-0.04344355,  3.03312281]])"
      ]
     },
     "execution_count": 7,
     "metadata": {},
     "output_type": "execute_result"
    }
   ],
   "source": [
    "model.coef_"
   ]
  },
  {
   "cell_type": "code",
   "execution_count": 8,
   "metadata": {},
   "outputs": [],
   "source": [
    "ypred=model.predict(X_test)"
   ]
  },
  {
   "cell_type": "code",
   "execution_count": 9,
   "metadata": {},
   "outputs": [
    {
     "data": {
      "text/plain": [
       "1.0687492878490787"
      ]
     },
     "execution_count": 9,
     "metadata": {},
     "output_type": "execute_result"
    }
   ],
   "source": [
    "mspesk1 = mean_squared_error(y_test,ypred)\n",
    "mspesk1"
   ]
  },
  {
   "cell_type": "code",
   "execution_count": 10,
   "metadata": {},
   "outputs": [],
   "source": [
    "from sklearn.model_selection import cross_val_score\n",
    "scores = cross_val_score(model, X_test, y_test, cv=5, scoring='neg_mean_squared_error')\n",
    "a=abs(scores.mean())"
   ]
  },
  {
   "cell_type": "code",
   "execution_count": 11,
   "metadata": {},
   "outputs": [],
   "source": [
    "from sklearn.model_selection import cross_val_score\n",
    "scores = cross_val_score(model, X_test, y_test, cv=10, scoring='neg_mean_squared_error')\n",
    "u=abs(scores.mean())"
   ]
  },
  {
   "cell_type": "code",
   "execution_count": 12,
   "metadata": {},
   "outputs": [],
   "source": [
    "# Changing value of beta0 and beta1 for dgp"
   ]
  },
  {
   "cell_type": "code",
   "execution_count": 13,
   "metadata": {},
   "outputs": [],
   "source": [
    "x,y=generate(0.1,1)"
   ]
  },
  {
   "cell_type": "code",
   "execution_count": 14,
   "metadata": {},
   "outputs": [],
   "source": [
    "from sklearn.linear_model import LinearRegression\n",
    "from sklearn.metrics import mean_squared_error\n",
    "lreg = LinearRegression()\n"
   ]
  },
  {
   "cell_type": "code",
   "execution_count": 15,
   "metadata": {},
   "outputs": [],
   "source": [
    "from sklearn.metrics import mean_squared_error\n",
    "from sklearn.model_selection import train_test_split\n",
    "X_train, X_test, y_train, y_test = train_test_split(\n",
    "x, y,random_state=0)"
   ]
  },
  {
   "cell_type": "code",
   "execution_count": 16,
   "metadata": {},
   "outputs": [],
   "source": [
    "# splitting data\n",
    "model = lreg.fit(X_train , y_train)"
   ]
  },
  {
   "cell_type": "code",
   "execution_count": 17,
   "metadata": {},
   "outputs": [
    {
     "data": {
      "text/plain": [
       "array([[0.97319461, 0.04281994],\n",
       "       [0.0640154 , 1.01590763]])"
      ]
     },
     "execution_count": 17,
     "metadata": {},
     "output_type": "execute_result"
    }
   ],
   "source": [
    "model.coef_"
   ]
  },
  {
   "cell_type": "code",
   "execution_count": 18,
   "metadata": {},
   "outputs": [],
   "source": [
    "ypred=model.predict(X_test)"
   ]
  },
  {
   "cell_type": "code",
   "execution_count": 19,
   "metadata": {},
   "outputs": [
    {
     "data": {
      "text/plain": [
       "1.1090274597355683"
      ]
     },
     "execution_count": 19,
     "metadata": {},
     "output_type": "execute_result"
    }
   ],
   "source": [
    "mspesk2 = mean_squared_error(y_test,ypred)\n",
    "mspesk2"
   ]
  },
  {
   "cell_type": "code",
   "execution_count": 20,
   "metadata": {},
   "outputs": [],
   "source": [
    "from sklearn.model_selection import cross_val_score\n",
    "scores = cross_val_score(model, X_test, y_test, cv=5, scoring='neg_mean_squared_error')\n",
    "m=abs(scores.mean())"
   ]
  },
  {
   "cell_type": "code",
   "execution_count": 21,
   "metadata": {
    "scrolled": true
   },
   "outputs": [],
   "source": [
    "from sklearn.model_selection import cross_val_score\n",
    "scores = cross_val_score(model, X_test, y_test, cv=10, scoring='neg_mean_squared_error')\n",
    "n=abs(scores.mean())"
   ]
  },
  {
   "cell_type": "code",
   "execution_count": 22,
   "metadata": {},
   "outputs": [],
   "source": [
    "df={'Beta0':[1,1,0.1,0.1],'beta1':[3,3,1,1],'mspe_actual':[mspesk1,mspesk1,mspesk2,mspesk2],'CV':[5,10,5,10],'mspe_CV':[a,u,m,n],'difference':[(a-mspesk1),(u-mspesk1),(m-mspesk2),(n-mspesk2)]}\n",
    "df1=pd.DataFrame(data=df)\n"
   ]
  },
  {
   "cell_type": "code",
   "execution_count": 23,
   "metadata": {},
   "outputs": [
    {
     "name": "stdout",
     "output_type": "stream",
     "text": [
      "   Beta0  beta1  mspe_actual  CV   mspe_CV  difference\n",
      "0    1.0      3     1.068749   5  1.084933    0.016184\n",
      "1    1.0      3     1.068749  10  1.081814    0.013064\n",
      "2    0.1      1     1.109027   5  1.143365    0.034337\n",
      "3    0.1      1     1.109027  10  1.133760    0.024732\n"
     ]
    }
   ],
   "source": [
    "print(df1)"
   ]
  },
  {
   "cell_type": "markdown",
   "metadata": {},
   "source": [
    "## From the above dataframe, we can see the difference between actual mspe and cross validation."
   ]
  },
  {
   "cell_type": "markdown",
   "metadata": {},
   "source": [
    "## Question 2"
   ]
  },
  {
   "cell_type": "code",
   "execution_count": 24,
   "metadata": {},
   "outputs": [],
   "source": [
    "#creating data generating process\n",
    "def generate(beta0,beta1):\n",
    "    mean = [0, 0]\n",
    "    cov = [[1, 0.5], [0.5, 1]]\n",
    "    x=np.random.multivariate_normal(mean, cov, 1000)\n",
    "    e= np.random.normal(size=(1000,2))\n",
    "    y=beta0+beta1*x+e\n",
    "    return(x,y)"
   ]
  },
  {
   "cell_type": "code",
   "execution_count": 25,
   "metadata": {},
   "outputs": [],
   "source": [
    "x,y=generate(1,3)"
   ]
  },
  {
   "cell_type": "code",
   "execution_count": 26,
   "metadata": {},
   "outputs": [],
   "source": [
    "model = smf.OLS(y, x)\n",
    "model = model.fit()"
   ]
  },
  {
   "cell_type": "code",
   "execution_count": 27,
   "metadata": {},
   "outputs": [
    {
     "data": {
      "text/plain": [
       "array([[3.01013897, 0.02910655],\n",
       "       [0.00492737, 3.07553383]])"
      ]
     },
     "execution_count": 27,
     "metadata": {},
     "output_type": "execute_result"
    }
   ],
   "source": [
    "r=model.params\n",
    "r"
   ]
  },
  {
   "cell_type": "code",
   "execution_count": 28,
   "metadata": {},
   "outputs": [],
   "source": [
    "## Creating Bootstrap\n",
    "from sklearn.utils import resample\n",
    "boot = resample(r, replace=True, n_samples=1000, random_state=1)"
   ]
  },
  {
   "cell_type": "code",
   "execution_count": 29,
   "metadata": {},
   "outputs": [
    {
     "data": {
      "text/plain": [
       "Ttest_indResult(statistic=array([-0.06216128,  0.06216128]), pvalue=array([0.95044682, 0.95044682]))"
      ]
     },
     "execution_count": 29,
     "metadata": {},
     "output_type": "execute_result"
    }
   ],
   "source": [
    "# T-Test Comparision \n",
    "stats.ttest_ind(r,boot)"
   ]
  },
  {
   "cell_type": "code",
   "execution_count": 30,
   "metadata": {},
   "outputs": [],
   "source": [
    "# Changing value of beta0 and beta1 for dgp\n",
    "#creating data generating process\n",
    "def generate(beta0,beta1):\n",
    "    mean = [0, 0]\n",
    "    cov = [[1, 0.5], [0.5, 1]]\n",
    "    x=np.random.multivariate_normal(mean, cov, 1000)\n",
    "    e= np.random.normal(size=(1000,2))\n",
    "    y=beta0+beta1*x+e\n",
    "    return(x,y)"
   ]
  },
  {
   "cell_type": "code",
   "execution_count": 31,
   "metadata": {},
   "outputs": [],
   "source": [
    "x,y=generate(0.1,1)"
   ]
  },
  {
   "cell_type": "code",
   "execution_count": 32,
   "metadata": {},
   "outputs": [],
   "source": [
    "x= sm.add_constant(x)\n",
    "model = smf.OLS(y, x)\n",
    "model = model.fit()"
   ]
  },
  {
   "cell_type": "code",
   "execution_count": 33,
   "metadata": {},
   "outputs": [
    {
     "data": {
      "text/plain": [
       "array([[ 0.07983989,  0.1387926 ],\n",
       "       [ 1.02802391,  0.03248262],\n",
       "       [-0.02948371,  0.9778668 ]])"
      ]
     },
     "execution_count": 33,
     "metadata": {},
     "output_type": "execute_result"
    }
   ],
   "source": [
    "r=model.params\n",
    "r"
   ]
  },
  {
   "cell_type": "code",
   "execution_count": 34,
   "metadata": {},
   "outputs": [],
   "source": [
    "##Creating Bootstrap\n",
    "from sklearn.utils import resample\n",
    "boot = resample(r, replace=True, n_samples=1000, random_state=1)"
   ]
  },
  {
   "cell_type": "code",
   "execution_count": 35,
   "metadata": {},
   "outputs": [
    {
     "data": {
      "text/plain": [
       "Ttest_indResult(statistic=array([ 0.01645756, -0.0144218 ]), pvalue=array([0.98687264, 0.98849634]))"
      ]
     },
     "execution_count": 35,
     "metadata": {},
     "output_type": "execute_result"
    }
   ],
   "source": [
    "# T-Test Comparision \n",
    "stats.ttest_ind(r,boot)"
   ]
  },
  {
   "cell_type": "code",
   "execution_count": 36,
   "metadata": {},
   "outputs": [],
   "source": [
    "df={'Beta0':[1,0.1],'beta1':[3,1],'No_of_Simulation':[1000,1000],'t-stat':[0.0621,0.01646],'Critical_value':[1.96,1.96],'p-value':[0.95,0.988]}\n",
    "df1=pd.DataFrame(data=df)\n"
   ]
  },
  {
   "cell_type": "code",
   "execution_count": 37,
   "metadata": {},
   "outputs": [
    {
     "name": "stdout",
     "output_type": "stream",
     "text": [
      "   Beta0  beta1  No_of_Simulation   t-stat  Critical_value  p-value\n",
      "0    1.0      3              1000  0.06210            1.96    0.950\n",
      "1    0.1      1              1000  0.01646            1.96    0.988\n"
     ]
    }
   ],
   "source": [
    "print(df1)"
   ]
  },
  {
   "cell_type": "markdown",
   "metadata": {},
   "source": [
    "## From the above results, we observe that if we increase the value of beta, then the p- value decreases"
   ]
  },
  {
   "cell_type": "code",
   "execution_count": null,
   "metadata": {},
   "outputs": [],
   "source": []
  },
  {
   "cell_type": "markdown",
   "metadata": {},
   "source": [
    "## Question 3"
   ]
  },
  {
   "cell_type": "code",
   "execution_count": 38,
   "metadata": {},
   "outputs": [],
   "source": [
    "import pandas as pd\n",
    "import matplotlib.pyplot as plt\n",
    "from pandas import Series, DataFrame"
   ]
  },
  {
   "cell_type": "code",
   "execution_count": 39,
   "metadata": {},
   "outputs": [],
   "source": [
    "import pandas as pd\n",
    "sp500= pd.read_csv('SP500 (3).csv')\n",
    "gold= pd.read_csv('GOLDAMGBD228NLBM (1).csv')\n",
    "dcoil= pd.read_csv('DCOILWTICO (1).csv')\n",
    "bt= pd.read_csv('BTC-USD (2).csv')\n",
    "dex= pd.read_csv('DEXUSEU (1).csv')"
   ]
  },
  {
   "cell_type": "code",
   "execution_count": 40,
   "metadata": {},
   "outputs": [
    {
     "data": {
      "text/html": [
       "<div>\n",
       "<style scoped>\n",
       "    .dataframe tbody tr th:only-of-type {\n",
       "        vertical-align: middle;\n",
       "    }\n",
       "\n",
       "    .dataframe tbody tr th {\n",
       "        vertical-align: top;\n",
       "    }\n",
       "\n",
       "    .dataframe thead th {\n",
       "        text-align: right;\n",
       "    }\n",
       "</style>\n",
       "<table border=\"1\" class=\"dataframe\">\n",
       "  <thead>\n",
       "    <tr style=\"text-align: right;\">\n",
       "      <th></th>\n",
       "      <th>DATE</th>\n",
       "      <th>BTC</th>\n",
       "    </tr>\n",
       "  </thead>\n",
       "  <tbody>\n",
       "    <tr>\n",
       "      <th>0</th>\n",
       "      <td>2013-12-31</td>\n",
       "      <td>805.940002</td>\n",
       "    </tr>\n",
       "    <tr>\n",
       "      <th>1</th>\n",
       "      <td>2014-01-01</td>\n",
       "      <td>815.940002</td>\n",
       "    </tr>\n",
       "    <tr>\n",
       "      <th>2</th>\n",
       "      <td>2014-01-02</td>\n",
       "      <td>856.909973</td>\n",
       "    </tr>\n",
       "    <tr>\n",
       "      <th>3</th>\n",
       "      <td>2014-01-03</td>\n",
       "      <td>884.260010</td>\n",
       "    </tr>\n",
       "    <tr>\n",
       "      <th>4</th>\n",
       "      <td>2014-01-04</td>\n",
       "      <td>924.690002</td>\n",
       "    </tr>\n",
       "  </tbody>\n",
       "</table>\n",
       "</div>"
      ],
      "text/plain": [
       "         DATE         BTC\n",
       "0  2013-12-31  805.940002\n",
       "1  2014-01-01  815.940002\n",
       "2  2014-01-02  856.909973\n",
       "3  2014-01-03  884.260010\n",
       "4  2014-01-04  924.690002"
      ]
     },
     "metadata": {},
     "output_type": "display_data"
    },
    {
     "data": {
      "text/html": [
       "<div>\n",
       "<style scoped>\n",
       "    .dataframe tbody tr th:only-of-type {\n",
       "        vertical-align: middle;\n",
       "    }\n",
       "\n",
       "    .dataframe tbody tr th {\n",
       "        vertical-align: top;\n",
       "    }\n",
       "\n",
       "    .dataframe thead th {\n",
       "        text-align: right;\n",
       "    }\n",
       "</style>\n",
       "<table border=\"1\" class=\"dataframe\">\n",
       "  <thead>\n",
       "    <tr style=\"text-align: right;\">\n",
       "      <th></th>\n",
       "      <th>DATE</th>\n",
       "      <th>SP500</th>\n",
       "    </tr>\n",
       "  </thead>\n",
       "  <tbody>\n",
       "    <tr>\n",
       "      <th>0</th>\n",
       "      <td>2013-12-31</td>\n",
       "      <td>1848.36</td>\n",
       "    </tr>\n",
       "    <tr>\n",
       "      <th>1</th>\n",
       "      <td>2014-01-01</td>\n",
       "      <td>.</td>\n",
       "    </tr>\n",
       "    <tr>\n",
       "      <th>2</th>\n",
       "      <td>2014-01-02</td>\n",
       "      <td>1831.98</td>\n",
       "    </tr>\n",
       "    <tr>\n",
       "      <th>3</th>\n",
       "      <td>2014-01-03</td>\n",
       "      <td>1831.37</td>\n",
       "    </tr>\n",
       "    <tr>\n",
       "      <th>4</th>\n",
       "      <td>2014-01-06</td>\n",
       "      <td>1826.77</td>\n",
       "    </tr>\n",
       "  </tbody>\n",
       "</table>\n",
       "</div>"
      ],
      "text/plain": [
       "         DATE    SP500\n",
       "0  2013-12-31  1848.36\n",
       "1  2014-01-01        .\n",
       "2  2014-01-02  1831.98\n",
       "3  2014-01-03  1831.37\n",
       "4  2014-01-06  1826.77"
      ]
     },
     "metadata": {},
     "output_type": "display_data"
    },
    {
     "data": {
      "text/html": [
       "<div>\n",
       "<style scoped>\n",
       "    .dataframe tbody tr th:only-of-type {\n",
       "        vertical-align: middle;\n",
       "    }\n",
       "\n",
       "    .dataframe tbody tr th {\n",
       "        vertical-align: top;\n",
       "    }\n",
       "\n",
       "    .dataframe thead th {\n",
       "        text-align: right;\n",
       "    }\n",
       "</style>\n",
       "<table border=\"1\" class=\"dataframe\">\n",
       "  <thead>\n",
       "    <tr style=\"text-align: right;\">\n",
       "      <th></th>\n",
       "      <th>DATE</th>\n",
       "      <th>GOLDAMGBD228NLBM</th>\n",
       "    </tr>\n",
       "  </thead>\n",
       "  <tbody>\n",
       "    <tr>\n",
       "      <th>0</th>\n",
       "      <td>2014-03-26</td>\n",
       "      <td>1314.500</td>\n",
       "    </tr>\n",
       "    <tr>\n",
       "      <th>1</th>\n",
       "      <td>2014-03-27</td>\n",
       "      <td>1295.000</td>\n",
       "    </tr>\n",
       "    <tr>\n",
       "      <th>2</th>\n",
       "      <td>2014-03-28</td>\n",
       "      <td>1295.750</td>\n",
       "    </tr>\n",
       "    <tr>\n",
       "      <th>3</th>\n",
       "      <td>2014-03-31</td>\n",
       "      <td>1294.000</td>\n",
       "    </tr>\n",
       "    <tr>\n",
       "      <th>4</th>\n",
       "      <td>2014-04-01</td>\n",
       "      <td>1286.50</td>\n",
       "    </tr>\n",
       "  </tbody>\n",
       "</table>\n",
       "</div>"
      ],
      "text/plain": [
       "         DATE GOLDAMGBD228NLBM\n",
       "0  2014-03-26         1314.500\n",
       "1  2014-03-27         1295.000\n",
       "2  2014-03-28         1295.750\n",
       "3  2014-03-31         1294.000\n",
       "4  2014-04-01          1286.50"
      ]
     },
     "metadata": {},
     "output_type": "display_data"
    },
    {
     "data": {
      "text/html": [
       "<div>\n",
       "<style scoped>\n",
       "    .dataframe tbody tr th:only-of-type {\n",
       "        vertical-align: middle;\n",
       "    }\n",
       "\n",
       "    .dataframe tbody tr th {\n",
       "        vertical-align: top;\n",
       "    }\n",
       "\n",
       "    .dataframe thead th {\n",
       "        text-align: right;\n",
       "    }\n",
       "</style>\n",
       "<table border=\"1\" class=\"dataframe\">\n",
       "  <thead>\n",
       "    <tr style=\"text-align: right;\">\n",
       "      <th></th>\n",
       "      <th>DATE</th>\n",
       "      <th>DEXUSEU</th>\n",
       "    </tr>\n",
       "  </thead>\n",
       "  <tbody>\n",
       "    <tr>\n",
       "      <th>0</th>\n",
       "      <td>2013-12-31</td>\n",
       "      <td>1.3779</td>\n",
       "    </tr>\n",
       "    <tr>\n",
       "      <th>1</th>\n",
       "      <td>2014-01-01</td>\n",
       "      <td>.</td>\n",
       "    </tr>\n",
       "    <tr>\n",
       "      <th>2</th>\n",
       "      <td>2014-01-02</td>\n",
       "      <td>1.3670</td>\n",
       "    </tr>\n",
       "    <tr>\n",
       "      <th>3</th>\n",
       "      <td>2014-01-03</td>\n",
       "      <td>1.3606</td>\n",
       "    </tr>\n",
       "    <tr>\n",
       "      <th>4</th>\n",
       "      <td>2014-01-06</td>\n",
       "      <td>1.3636</td>\n",
       "    </tr>\n",
       "  </tbody>\n",
       "</table>\n",
       "</div>"
      ],
      "text/plain": [
       "         DATE DEXUSEU\n",
       "0  2013-12-31  1.3779\n",
       "1  2014-01-01       .\n",
       "2  2014-01-02  1.3670\n",
       "3  2014-01-03  1.3606\n",
       "4  2014-01-06  1.3636"
      ]
     },
     "metadata": {},
     "output_type": "display_data"
    },
    {
     "data": {
      "text/html": [
       "<div>\n",
       "<style scoped>\n",
       "    .dataframe tbody tr th:only-of-type {\n",
       "        vertical-align: middle;\n",
       "    }\n",
       "\n",
       "    .dataframe tbody tr th {\n",
       "        vertical-align: top;\n",
       "    }\n",
       "\n",
       "    .dataframe thead th {\n",
       "        text-align: right;\n",
       "    }\n",
       "</style>\n",
       "<table border=\"1\" class=\"dataframe\">\n",
       "  <thead>\n",
       "    <tr style=\"text-align: right;\">\n",
       "      <th></th>\n",
       "      <th>DATE</th>\n",
       "      <th>DCOILWTICO</th>\n",
       "    </tr>\n",
       "  </thead>\n",
       "  <tbody>\n",
       "    <tr>\n",
       "      <th>0</th>\n",
       "      <td>2013-12-31</td>\n",
       "      <td>98.17</td>\n",
       "    </tr>\n",
       "    <tr>\n",
       "      <th>1</th>\n",
       "      <td>2014-01-01</td>\n",
       "      <td>.</td>\n",
       "    </tr>\n",
       "    <tr>\n",
       "      <th>2</th>\n",
       "      <td>2014-01-02</td>\n",
       "      <td>95.14</td>\n",
       "    </tr>\n",
       "    <tr>\n",
       "      <th>3</th>\n",
       "      <td>2014-01-03</td>\n",
       "      <td>93.66</td>\n",
       "    </tr>\n",
       "    <tr>\n",
       "      <th>4</th>\n",
       "      <td>2014-01-06</td>\n",
       "      <td>93.12</td>\n",
       "    </tr>\n",
       "  </tbody>\n",
       "</table>\n",
       "</div>"
      ],
      "text/plain": [
       "         DATE DCOILWTICO\n",
       "0  2013-12-31      98.17\n",
       "1  2014-01-01          .\n",
       "2  2014-01-02      95.14\n",
       "3  2014-01-03      93.66\n",
       "4  2014-01-06      93.12"
      ]
     },
     "metadata": {},
     "output_type": "display_data"
    }
   ],
   "source": [
    "from IPython.display import display\n",
    "display(bt.head())\n",
    "display(sp500.head())\n",
    "display(gold.head())\n",
    "display(dex.head())\n",
    "display(dcoil.head())"
   ]
  },
  {
   "cell_type": "code",
   "execution_count": 41,
   "metadata": {},
   "outputs": [
    {
     "data": {
      "text/plain": [
       "(1827, 2)"
      ]
     },
     "metadata": {},
     "output_type": "display_data"
    },
    {
     "data": {
      "text/plain": [
       "(1305, 2)"
      ]
     },
     "metadata": {},
     "output_type": "display_data"
    },
    {
     "data": {
      "text/plain": [
       "(1305, 2)"
      ]
     },
     "metadata": {},
     "output_type": "display_data"
    },
    {
     "data": {
      "text/plain": [
       "(1305, 2)"
      ]
     },
     "metadata": {},
     "output_type": "display_data"
    },
    {
     "data": {
      "text/plain": [
       "(1305, 2)"
      ]
     },
     "metadata": {},
     "output_type": "display_data"
    }
   ],
   "source": [
    "from IPython.display import display\n",
    "display(bt.shape)\n",
    "display(sp500.shape)\n",
    "display(gold.shape)\n",
    "display(dex.shape)\n",
    "display(dcoil.shape)"
   ]
  },
  {
   "cell_type": "markdown",
   "metadata": {},
   "source": [
    "## 3.Merging"
   ]
  },
  {
   "cell_type": "code",
   "execution_count": 42,
   "metadata": {},
   "outputs": [],
   "source": [
    "df=pd.merge(sp500,gold)\n",
    "df=pd.merge(df,dcoil)\n",
    "df=pd.merge(df,dex)\n",
    "df=pd.merge(df,bt)"
   ]
  },
  {
   "cell_type": "code",
   "execution_count": 43,
   "metadata": {},
   "outputs": [
    {
     "data": {
      "text/html": [
       "<div>\n",
       "<style scoped>\n",
       "    .dataframe tbody tr th:only-of-type {\n",
       "        vertical-align: middle;\n",
       "    }\n",
       "\n",
       "    .dataframe tbody tr th {\n",
       "        vertical-align: top;\n",
       "    }\n",
       "\n",
       "    .dataframe thead th {\n",
       "        text-align: right;\n",
       "    }\n",
       "</style>\n",
       "<table border=\"1\" class=\"dataframe\">\n",
       "  <thead>\n",
       "    <tr style=\"text-align: right;\">\n",
       "      <th></th>\n",
       "      <th>DATE</th>\n",
       "      <th>SP500</th>\n",
       "      <th>GOLDAMGBD228NLBM</th>\n",
       "      <th>DCOILWTICO</th>\n",
       "      <th>DEXUSEU</th>\n",
       "      <th>BTC</th>\n",
       "    </tr>\n",
       "  </thead>\n",
       "  <tbody>\n",
       "    <tr>\n",
       "      <th>0</th>\n",
       "      <td>2014-03-26</td>\n",
       "      <td>1852.56</td>\n",
       "      <td>1314.500</td>\n",
       "      <td>100.61</td>\n",
       "      <td>1.3786</td>\n",
       "      <td>562.450012</td>\n",
       "    </tr>\n",
       "    <tr>\n",
       "      <th>1</th>\n",
       "      <td>2014-03-27</td>\n",
       "      <td>1849.04</td>\n",
       "      <td>1295.000</td>\n",
       "      <td>101.25</td>\n",
       "      <td>1.3752</td>\n",
       "      <td>460.450012</td>\n",
       "    </tr>\n",
       "    <tr>\n",
       "      <th>2</th>\n",
       "      <td>2014-03-28</td>\n",
       "      <td>1857.62</td>\n",
       "      <td>1295.750</td>\n",
       "      <td>101.73</td>\n",
       "      <td>1.3753</td>\n",
       "      <td>482.609985</td>\n",
       "    </tr>\n",
       "    <tr>\n",
       "      <th>3</th>\n",
       "      <td>2014-03-31</td>\n",
       "      <td>1872.34</td>\n",
       "      <td>1294.000</td>\n",
       "      <td>101.57</td>\n",
       "      <td>1.3777</td>\n",
       "      <td>463.450012</td>\n",
       "    </tr>\n",
       "    <tr>\n",
       "      <th>4</th>\n",
       "      <td>2014-04-01</td>\n",
       "      <td>1885.52</td>\n",
       "      <td>1286.50</td>\n",
       "      <td>99.69</td>\n",
       "      <td>1.3804</td>\n",
       "      <td>424.369995</td>\n",
       "    </tr>\n",
       "  </tbody>\n",
       "</table>\n",
       "</div>"
      ],
      "text/plain": [
       "         DATE    SP500 GOLDAMGBD228NLBM DCOILWTICO DEXUSEU         BTC\n",
       "0  2014-03-26  1852.56         1314.500     100.61  1.3786  562.450012\n",
       "1  2014-03-27  1849.04         1295.000     101.25  1.3752  460.450012\n",
       "2  2014-03-28  1857.62         1295.750     101.73  1.3753  482.609985\n",
       "3  2014-03-31  1872.34         1294.000     101.57  1.3777  463.450012\n",
       "4  2014-04-01  1885.52          1286.50      99.69  1.3804  424.369995"
      ]
     },
     "execution_count": 43,
     "metadata": {},
     "output_type": "execute_result"
    }
   ],
   "source": [
    "df.head()"
   ]
  },
  {
   "cell_type": "code",
   "execution_count": 44,
   "metadata": {},
   "outputs": [
    {
     "data": {
      "text/plain": [
       "(1244, 6)"
      ]
     },
     "execution_count": 44,
     "metadata": {},
     "output_type": "execute_result"
    }
   ],
   "source": [
    "df.shape"
   ]
  },
  {
   "cell_type": "code",
   "execution_count": 45,
   "metadata": {},
   "outputs": [],
   "source": [
    "df=df[df['SP500']!='.']\n",
    "df=df[df['GOLDAMGBD228NLBM']!='.']\n",
    "df=df[df['DCOILWTICO']!='.']\n",
    "df=df[df['DEXUSEU']!='.']"
   ]
  },
  {
   "cell_type": "code",
   "execution_count": 46,
   "metadata": {},
   "outputs": [
    {
     "data": {
      "text/html": [
       "<div>\n",
       "<style scoped>\n",
       "    .dataframe tbody tr th:only-of-type {\n",
       "        vertical-align: middle;\n",
       "    }\n",
       "\n",
       "    .dataframe tbody tr th {\n",
       "        vertical-align: top;\n",
       "    }\n",
       "\n",
       "    .dataframe thead th {\n",
       "        text-align: right;\n",
       "    }\n",
       "</style>\n",
       "<table border=\"1\" class=\"dataframe\">\n",
       "  <thead>\n",
       "    <tr style=\"text-align: right;\">\n",
       "      <th></th>\n",
       "      <th>DATE</th>\n",
       "      <th>SP500</th>\n",
       "      <th>GOLDAMGBD228NLBM</th>\n",
       "      <th>DCOILWTICO</th>\n",
       "      <th>DEXUSEU</th>\n",
       "      <th>BTC</th>\n",
       "    </tr>\n",
       "  </thead>\n",
       "  <tbody>\n",
       "    <tr>\n",
       "      <th>0</th>\n",
       "      <td>2014-03-26</td>\n",
       "      <td>1852.56</td>\n",
       "      <td>1314.500</td>\n",
       "      <td>100.61</td>\n",
       "      <td>1.3786</td>\n",
       "      <td>562.450012</td>\n",
       "    </tr>\n",
       "    <tr>\n",
       "      <th>1</th>\n",
       "      <td>2014-03-27</td>\n",
       "      <td>1849.04</td>\n",
       "      <td>1295.000</td>\n",
       "      <td>101.25</td>\n",
       "      <td>1.3752</td>\n",
       "      <td>460.450012</td>\n",
       "    </tr>\n",
       "    <tr>\n",
       "      <th>2</th>\n",
       "      <td>2014-03-28</td>\n",
       "      <td>1857.62</td>\n",
       "      <td>1295.750</td>\n",
       "      <td>101.73</td>\n",
       "      <td>1.3753</td>\n",
       "      <td>482.609985</td>\n",
       "    </tr>\n",
       "    <tr>\n",
       "      <th>3</th>\n",
       "      <td>2014-03-31</td>\n",
       "      <td>1872.34</td>\n",
       "      <td>1294.000</td>\n",
       "      <td>101.57</td>\n",
       "      <td>1.3777</td>\n",
       "      <td>463.450012</td>\n",
       "    </tr>\n",
       "    <tr>\n",
       "      <th>4</th>\n",
       "      <td>2014-04-01</td>\n",
       "      <td>1885.52</td>\n",
       "      <td>1286.50</td>\n",
       "      <td>99.69</td>\n",
       "      <td>1.3804</td>\n",
       "      <td>424.369995</td>\n",
       "    </tr>\n",
       "  </tbody>\n",
       "</table>\n",
       "</div>"
      ],
      "text/plain": [
       "         DATE    SP500 GOLDAMGBD228NLBM DCOILWTICO DEXUSEU         BTC\n",
       "0  2014-03-26  1852.56         1314.500     100.61  1.3786  562.450012\n",
       "1  2014-03-27  1849.04         1295.000     101.25  1.3752  460.450012\n",
       "2  2014-03-28  1857.62         1295.750     101.73  1.3753  482.609985\n",
       "3  2014-03-31  1872.34         1294.000     101.57  1.3777  463.450012\n",
       "4  2014-04-01  1885.52          1286.50      99.69  1.3804  424.369995"
      ]
     },
     "execution_count": 46,
     "metadata": {},
     "output_type": "execute_result"
    }
   ],
   "source": [
    "df.head()"
   ]
  },
  {
   "cell_type": "code",
   "execution_count": 47,
   "metadata": {},
   "outputs": [
    {
     "name": "stdout",
     "output_type": "stream",
     "text": [
      "<class 'pandas.core.frame.DataFrame'>\n",
      "Int64Index: 1165 entries, 0 to 1242\n",
      "Data columns (total 6 columns):\n",
      "DATE                1165 non-null object\n",
      "SP500               1165 non-null object\n",
      "GOLDAMGBD228NLBM    1165 non-null object\n",
      "DCOILWTICO          1165 non-null object\n",
      "DEXUSEU             1165 non-null object\n",
      "BTC                 1165 non-null float64\n",
      "dtypes: float64(1), object(5)\n",
      "memory usage: 63.7+ KB\n"
     ]
    }
   ],
   "source": [
    "df.info()"
   ]
  },
  {
   "cell_type": "code",
   "execution_count": 48,
   "metadata": {},
   "outputs": [
    {
     "data": {
      "text/plain": [
       "(1165, 6)"
      ]
     },
     "execution_count": 48,
     "metadata": {},
     "output_type": "execute_result"
    }
   ],
   "source": [
    "df.shape"
   ]
  },
  {
   "cell_type": "code",
   "execution_count": 49,
   "metadata": {},
   "outputs": [
    {
     "name": "stdout",
     "output_type": "stream",
     "text": [
      "DATE                datetime64[ns]\n",
      "SP500                      float64\n",
      "GOLDAMGBD228NLBM           float64\n",
      "DCOILWTICO                 float64\n",
      "DEXUSEU                    float64\n",
      "BTC                        float64\n",
      "dtype: object\n"
     ]
    }
   ],
   "source": [
    "df['GOLDAMGBD228NLBM'] = df['GOLDAMGBD228NLBM'].astype(float)\n",
    "df['SP500'] = df['SP500'].astype(float)\n",
    "df['DCOILWTICO'] = df['DCOILWTICO'].astype(float)\n",
    "df['DEXUSEU'] = df['DEXUSEU'].astype(float)\n",
    "df['BTC'] = df['BTC'].astype(float)\n",
    "df['DATE']=pd.to_datetime(df.DATE)\n",
    "print(df.dtypes)"
   ]
  },
  {
   "cell_type": "code",
   "execution_count": 50,
   "metadata": {},
   "outputs": [
    {
     "data": {
      "text/plain": [
       "['BTC', 'DEXUSEU', 'DCOILWTICO', 'SP500', 'GOLDAMGBD228NLBM']"
      ]
     },
     "execution_count": 50,
     "metadata": {},
     "output_type": "execute_result"
    }
   ],
   "source": [
    "c=['BTC', 'DEXUSEU', 'DCOILWTICO', 'SP500', 'GOLDAMGBD228NLBM']\n",
    "c"
   ]
  },
  {
   "cell_type": "markdown",
   "metadata": {},
   "source": [
    "## 4.Plot"
   ]
  },
  {
   "cell_type": "code",
   "execution_count": 51,
   "metadata": {},
   "outputs": [
    {
     "data": {
      "text/plain": [
       "<matplotlib.axes._subplots.AxesSubplot at 0x284648ecf60>"
      ]
     },
     "execution_count": 51,
     "metadata": {},
     "output_type": "execute_result"
    },
    {
     "data": {
      "image/png": "[encoded data removed]",
      "text/plain": [
       "<Figure size 432x288 with 1 Axes>"
      ]
     },
     "metadata": {},
     "output_type": "display_data"
    }
   ],
   "source": [
    "df[[r for r in c] + \n",
    "   ['DATE']].groupby('DATE').sum().plot()"
   ]
  },
  {
   "cell_type": "markdown",
   "metadata": {},
   "source": [
    "## 5. Regression"
   ]
  },
  {
   "cell_type": "code",
   "execution_count": 52,
   "metadata": {},
   "outputs": [],
   "source": [
    "import statsmodels.api as sm"
   ]
  },
  {
   "cell_type": "code",
   "execution_count": 53,
   "metadata": {},
   "outputs": [
    {
     "name": "stdout",
     "output_type": "stream",
     "text": [
      "const   -41723.464532\n",
      "x1          10.376821\n",
      "x2          -1.245297\n",
      "x3         -59.774503\n",
      "x4       22202.942181\n",
      "dtype: float64\n"
     ]
    }
   ],
   "source": [
    "X = np.column_stack((df['SP500'], df['GOLDAMGBD228NLBM'],df['DCOILWTICO'],df['DEXUSEU']))\n",
    "X = sm.add_constant(X)\n",
    "model = sm.OLS(df['BTC'],X)\n",
    "results = model.fit()\n",
    "print(results.params)"
   ]
  },
  {
   "cell_type": "code",
   "execution_count": 54,
   "metadata": {},
   "outputs": [
    {
     "name": "stdout",
     "output_type": "stream",
     "text": [
      "                            OLS Regression Results                            \n",
      "==============================================================================\n",
      "Dep. Variable:                    BTC   R-squared:                       0.789\n",
      "Model:                            OLS   Adj. R-squared:                  0.788\n",
      "Method:                 Least Squares   F-statistic:                     1082.\n",
      "Date:                Wed, 10 Apr 2019   Prob (F-statistic):               0.00\n",
      "Time:                        22:52:26   Log-Likelihood:                -10274.\n",
      "No. Observations:                1165   AIC:                         2.056e+04\n",
      "Df Residuals:                    1160   BIC:                         2.058e+04\n",
      "Df Model:                           4                                         \n",
      "Covariance Type:            nonrobust                                         \n",
      "==============================================================================\n",
      "                 coef    std err          t      P>|t|      [0.025      0.975]\n",
      "------------------------------------------------------------------------------\n",
      "const      -4.172e+04   1250.421    -33.368      0.000   -4.42e+04   -3.93e+04\n",
      "x1            10.3768      0.174     59.680      0.000      10.036      10.718\n",
      "x2            -1.2453      0.867     -1.437      0.151      -2.945       0.455\n",
      "x3           -59.7745      5.375    -11.121      0.000     -70.320     -49.229\n",
      "x4           2.22e+04   1290.405     17.206      0.000    1.97e+04    2.47e+04\n",
      "==============================================================================\n",
      "Omnibus:                      767.433   Durbin-Watson:                   0.046\n",
      "Prob(Omnibus):                  0.000   Jarque-Bera (JB):            11506.341\n",
      "Skew:                           2.839   Prob(JB):                         0.00\n",
      "Kurtosis:                      17.311   Cond. No.                     9.02e+04\n",
      "==============================================================================\n",
      "\n",
      "Warnings:\n",
      "[1] Standard Errors assume that the covariance matrix of the errors is correctly specified.\n",
      "[2] The condition number is large, 9.02e+04. This might indicate that there are\n",
      "strong multicollinearity or other numerical problems.\n"
     ]
    }
   ],
   "source": [
    "print(results.summary())"
   ]
  },
  {
   "cell_type": "markdown",
   "metadata": {},
   "source": [
    "## 6.KPSS"
   ]
  },
  {
   "cell_type": "code",
   "execution_count": 55,
   "metadata": {},
   "outputs": [],
   "source": [
    "from statsmodels.tsa.api import kpss"
   ]
  },
  {
   "cell_type": "code",
   "execution_count": 56,
   "metadata": {},
   "outputs": [],
   "source": [
    "def test_stationarity(timeseries):\n",
    "\n",
    "    #Determing rolling statistics\n",
    "    rolmean = pd.rolling_mean(timeseries, window=12)\n",
    "    rolstd = pd.rolling_std(timeseries, window=12)\n",
    "\n",
    "    #Plot rolling statistics:\n",
    "    fig = plt.figure(figsize=(12, 8))\n",
    "    orig = plt.plot(timeseries, color='blue',label='Original')\n",
    "    mean = plt.plot(rolmean, color='red', label='Rolling Mean')\n",
    "    std = plt.plot(rolstd, color='black', label = 'Rolling Std')\n",
    "    plt.legend(loc='best')\n",
    "    plt.title('Rolling Mean & Standard Deviation')\n",
    "    plt.show()\n",
    "    \n",
    "    #Perform  test:\n",
    "    return(kpss_test(timeseries))"
   ]
  },
  {
   "cell_type": "code",
   "execution_count": 57,
   "metadata": {},
   "outputs": [],
   "source": [
    "def kpss_test(times):\n",
    "    kpsstest=kpss(times,regression='c')\n",
    "    kpss_output=pd.Series(kpsstest[0:3],index=['Test Statistic','P-value','Lags used'])\n",
    "    for key, value in kpsstest[3].items():\n",
    "        kpss_output['Critical Value(%s)'%key] =value\n",
    "    return kpss_output"
   ]
  },
  {
   "cell_type": "code",
   "execution_count": 58,
   "metadata": {},
   "outputs": [
    {
     "name": "stderr",
     "output_type": "stream",
     "text": [
      "C:\\Users\\Siddarth\\Anaconda3\\lib\\site-packages\\statsmodels\\tsa\\stattools.py:1276: InterpolationWarning: p-value is smaller than the indicated p-value\n",
      "  warn(\"p-value is smaller than the indicated p-value\", InterpolationWarning)\n"
     ]
    },
    {
     "data": {
      "text/plain": [
       "Test Statistic           3.063346\n",
       "P-value                  0.010000\n",
       "Lags used               23.000000\n",
       "Critical Value(10%)      0.347000\n",
       "Critical Value(5%)       0.463000\n",
       "Critical Value(2.5%)     0.574000\n",
       "Critical Value(1%)       0.739000\n",
       "dtype: float64"
      ]
     },
     "execution_count": 58,
     "metadata": {},
     "output_type": "execute_result"
    }
   ],
   "source": [
    "kpss_test(df['BTC']) #not"
   ]
  },
  {
   "cell_type": "code",
   "execution_count": 59,
   "metadata": {},
   "outputs": [
    {
     "name": "stderr",
     "output_type": "stream",
     "text": [
      "C:\\Users\\Siddarth\\Anaconda3\\lib\\site-packages\\statsmodels\\tsa\\stattools.py:1276: InterpolationWarning: p-value is smaller than the indicated p-value\n",
      "  warn(\"p-value is smaller than the indicated p-value\", InterpolationWarning)\n"
     ]
    },
    {
     "data": {
      "text/plain": [
       "Test Statistic           1.141792\n",
       "P-value                  0.010000\n",
       "Lags used               23.000000\n",
       "Critical Value(10%)      0.347000\n",
       "Critical Value(5%)       0.463000\n",
       "Critical Value(2.5%)     0.574000\n",
       "Critical Value(1%)       0.739000\n",
       "dtype: float64"
      ]
     },
     "execution_count": 59,
     "metadata": {},
     "output_type": "execute_result"
    }
   ],
   "source": [
    "kpss_test(df['DEXUSEU']) #not"
   ]
  },
  {
   "cell_type": "code",
   "execution_count": 60,
   "metadata": {},
   "outputs": [
    {
     "name": "stderr",
     "output_type": "stream",
     "text": [
      "C:\\Users\\Siddarth\\Anaconda3\\lib\\site-packages\\statsmodels\\tsa\\stattools.py:1276: InterpolationWarning: p-value is smaller than the indicated p-value\n",
      "  warn(\"p-value is smaller than the indicated p-value\", InterpolationWarning)\n"
     ]
    },
    {
     "data": {
      "text/plain": [
       "Test Statistic           4.395969\n",
       "P-value                  0.010000\n",
       "Lags used               23.000000\n",
       "Critical Value(10%)      0.347000\n",
       "Critical Value(5%)       0.463000\n",
       "Critical Value(2.5%)     0.574000\n",
       "Critical Value(1%)       0.739000\n",
       "dtype: float64"
      ]
     },
     "execution_count": 60,
     "metadata": {},
     "output_type": "execute_result"
    }
   ],
   "source": [
    "kpss_test(df['SP500']) #not"
   ]
  },
  {
   "cell_type": "code",
   "execution_count": 61,
   "metadata": {},
   "outputs": [
    {
     "name": "stderr",
     "output_type": "stream",
     "text": [
      "C:\\Users\\Siddarth\\Anaconda3\\lib\\site-packages\\statsmodels\\tsa\\stattools.py:1276: InterpolationWarning: p-value is smaller than the indicated p-value\n",
      "  warn(\"p-value is smaller than the indicated p-value\", InterpolationWarning)\n"
     ]
    },
    {
     "data": {
      "text/plain": [
       "Test Statistic           0.786909\n",
       "P-value                  0.010000\n",
       "Lags used               23.000000\n",
       "Critical Value(10%)      0.347000\n",
       "Critical Value(5%)       0.463000\n",
       "Critical Value(2.5%)     0.574000\n",
       "Critical Value(1%)       0.739000\n",
       "dtype: float64"
      ]
     },
     "execution_count": 61,
     "metadata": {},
     "output_type": "execute_result"
    }
   ],
   "source": [
    "kpss_test(df['GOLDAMGBD228NLBM']) #not 2.5%"
   ]
  },
  {
   "cell_type": "code",
   "execution_count": 62,
   "metadata": {},
   "outputs": [
    {
     "name": "stderr",
     "output_type": "stream",
     "text": [
      "C:\\Users\\Siddarth\\Anaconda3\\lib\\site-packages\\statsmodels\\tsa\\stattools.py:1276: InterpolationWarning: p-value is smaller than the indicated p-value\n",
      "  warn(\"p-value is smaller than the indicated p-value\", InterpolationWarning)\n"
     ]
    },
    {
     "data": {
      "text/plain": [
       "Test Statistic           1.152118\n",
       "P-value                  0.010000\n",
       "Lags used               23.000000\n",
       "Critical Value(10%)      0.347000\n",
       "Critical Value(5%)       0.463000\n",
       "Critical Value(2.5%)     0.574000\n",
       "Critical Value(1%)       0.739000\n",
       "dtype: float64"
      ]
     },
     "execution_count": 62,
     "metadata": {},
     "output_type": "execute_result"
    }
   ],
   "source": [
    "kpss_test(df['DCOILWTICO']) #not"
   ]
  },
  {
   "cell_type": "code",
   "execution_count": 63,
   "metadata": {},
   "outputs": [],
   "source": [
    "# If the test statistic Test Statistic is greater than the critical value of 10,5,2,5,1, we reject the null hypothesis (the sequence is not stationary).\n",
    "#If the test statistic is less than the critical value, the null hypothesis cannot be rejected (the sequence is stationary).\n",
    "# For the  data, the value of the test statistic is greater than the critical value in all confidence intervals, so it can be said that the sequence is not stable"
   ]
  },
  {
   "cell_type": "markdown",
   "metadata": {},
   "source": [
    "## 7.Differenced series"
   ]
  },
  {
   "cell_type": "code",
   "execution_count": 64,
   "metadata": {},
   "outputs": [],
   "source": [
    "# create a differenced series\n",
    "def difference(dataset, interval):\n",
    "    diff = list()\n",
    "    for i in range(interval, len(dataset)):\n",
    "        value = dataset[i] - dataset[i - interval]\n",
    "        diff.append(value)\n",
    "    return Series(diff)"
   ]
  },
  {
   "cell_type": "code",
   "execution_count": 65,
   "metadata": {},
   "outputs": [
    {
     "data": {
      "text/html": [
       "<div>\n",
       "<style scoped>\n",
       "    .dataframe tbody tr th:only-of-type {\n",
       "        vertical-align: middle;\n",
       "    }\n",
       "\n",
       "    .dataframe tbody tr th {\n",
       "        vertical-align: top;\n",
       "    }\n",
       "\n",
       "    .dataframe thead th {\n",
       "        text-align: right;\n",
       "    }\n",
       "</style>\n",
       "<table border=\"1\" class=\"dataframe\">\n",
       "  <thead>\n",
       "    <tr style=\"text-align: right;\">\n",
       "      <th></th>\n",
       "      <th>DATE</th>\n",
       "      <th>SP500</th>\n",
       "      <th>GOLDAMGBD228NLBM</th>\n",
       "      <th>DCOILWTICO</th>\n",
       "      <th>DEXUSEU</th>\n",
       "      <th>BTC</th>\n",
       "    </tr>\n",
       "  </thead>\n",
       "  <tbody>\n",
       "    <tr>\n",
       "      <th>0</th>\n",
       "      <td>2014-03-26</td>\n",
       "      <td>1852.56</td>\n",
       "      <td>1314.50</td>\n",
       "      <td>100.61</td>\n",
       "      <td>1.3786</td>\n",
       "      <td>562.450012</td>\n",
       "    </tr>\n",
       "    <tr>\n",
       "      <th>1</th>\n",
       "      <td>2014-03-27</td>\n",
       "      <td>1849.04</td>\n",
       "      <td>1295.00</td>\n",
       "      <td>101.25</td>\n",
       "      <td>1.3752</td>\n",
       "      <td>460.450012</td>\n",
       "    </tr>\n",
       "    <tr>\n",
       "      <th>2</th>\n",
       "      <td>2014-03-28</td>\n",
       "      <td>1857.62</td>\n",
       "      <td>1295.75</td>\n",
       "      <td>101.73</td>\n",
       "      <td>1.3753</td>\n",
       "      <td>482.609985</td>\n",
       "    </tr>\n",
       "    <tr>\n",
       "      <th>3</th>\n",
       "      <td>2014-03-31</td>\n",
       "      <td>1872.34</td>\n",
       "      <td>1294.00</td>\n",
       "      <td>101.57</td>\n",
       "      <td>1.3777</td>\n",
       "      <td>463.450012</td>\n",
       "    </tr>\n",
       "    <tr>\n",
       "      <th>4</th>\n",
       "      <td>2014-04-01</td>\n",
       "      <td>1885.52</td>\n",
       "      <td>1286.50</td>\n",
       "      <td>99.69</td>\n",
       "      <td>1.3804</td>\n",
       "      <td>424.369995</td>\n",
       "    </tr>\n",
       "  </tbody>\n",
       "</table>\n",
       "</div>"
      ],
      "text/plain": [
       "        DATE    SP500  GOLDAMGBD228NLBM  DCOILWTICO  DEXUSEU         BTC\n",
       "0 2014-03-26  1852.56           1314.50      100.61   1.3786  562.450012\n",
       "1 2014-03-27  1849.04           1295.00      101.25   1.3752  460.450012\n",
       "2 2014-03-28  1857.62           1295.75      101.73   1.3753  482.609985\n",
       "3 2014-03-31  1872.34           1294.00      101.57   1.3777  463.450012\n",
       "4 2014-04-01  1885.52           1286.50       99.69   1.3804  424.369995"
      ]
     },
     "execution_count": 65,
     "metadata": {},
     "output_type": "execute_result"
    }
   ],
   "source": [
    "df.head()"
   ]
  },
  {
   "cell_type": "code",
   "execution_count": 66,
   "metadata": {},
   "outputs": [],
   "source": [
    "df1=df"
   ]
  },
  {
   "cell_type": "code",
   "execution_count": 67,
   "metadata": {},
   "outputs": [
    {
     "data": {
      "image/png": "[encoded data removed]",
      "text/plain": [
       "<Figure size 432x288 with 1 Axes>"
      ]
     },
     "metadata": {},
     "output_type": "display_data"
    }
   ],
   "source": [
    "diffsp500=df1['SP500'].diff(23)\n",
    "plt.plot(diffsp500)\n",
    "plt.show()"
   ]
  },
  {
   "cell_type": "code",
   "execution_count": 68,
   "metadata": {},
   "outputs": [
    {
     "data": {
      "text/plain": [
       "[]"
      ]
     },
     "execution_count": 68,
     "metadata": {},
     "output_type": "execute_result"
    },
    {
     "data": {
      "image/png": "[encoded data removed]",
      "text/plain": [
       "<Figure size 432x288 with 1 Axes>"
      ]
     },
     "metadata": {},
     "output_type": "display_data"
    }
   ],
   "source": [
    "df1['SP500'] = df1['SP500'] - df1['SP500'].shift(23)\n",
    "df1['SP500'].dropna().plot()\n",
    "plt.plot()"
   ]
  },
  {
   "cell_type": "code",
   "execution_count": 69,
   "metadata": {},
   "outputs": [
    {
     "data": {
      "image/png": "[encoded data removed]",
      "text/plain": [
       "<Figure size 432x288 with 1 Axes>"
      ]
     },
     "metadata": {},
     "output_type": "display_data"
    }
   ],
   "source": [
    "diffbtc=df1['BTC'].diff(23)\n",
    "plt.plot(diffbtc)\n",
    "plt.show()"
   ]
  },
  {
   "cell_type": "code",
   "execution_count": 70,
   "metadata": {},
   "outputs": [
    {
     "data": {
      "text/plain": [
       "[]"
      ]
     },
     "execution_count": 70,
     "metadata": {},
     "output_type": "execute_result"
    },
    {
     "data": {
      "image/png": "[encoded data removed]",
      "text/plain": [
       "<Figure size 432x288 with 1 Axes>"
      ]
     },
     "metadata": {},
     "output_type": "display_data"
    }
   ],
   "source": [
    "df1['DEXUSEU'] = df1['DEXUSEU'] - df1['DEXUSEU'].shift(23)\n",
    "df1['DEXUSEU'].dropna().plot()\n",
    "plt.plot()"
   ]
  },
  {
   "cell_type": "code",
   "execution_count": 71,
   "metadata": {},
   "outputs": [
    {
     "data": {
      "image/png": "[encoded data removed]",
      "text/plain": [
       "<Figure size 432x288 with 1 Axes>"
      ]
     },
     "metadata": {},
     "output_type": "display_data"
    }
   ],
   "source": [
    "diffGOLDAMGBD228NLBM=df1['GOLDAMGBD228NLBM'].diff(23)\n",
    "plt.plot(diffGOLDAMGBD228NLBM)\n",
    "plt.show()"
   ]
  },
  {
   "cell_type": "code",
   "execution_count": 72,
   "metadata": {},
   "outputs": [
    {
     "data": {
      "text/plain": [
       "[]"
      ]
     },
     "execution_count": 72,
     "metadata": {},
     "output_type": "execute_result"
    },
    {
     "data": {
      "image/png": "[encoded data removed]",
      "text/plain": [
       "<Figure size 432x288 with 1 Axes>"
      ]
     },
     "metadata": {},
     "output_type": "display_data"
    }
   ],
   "source": [
    "df1['GOLDAMGBD228NLBM'] = df1['GOLDAMGBD228NLBM'] - df1['GOLDAMGBD228NLBM'].shift(23)\n",
    "df1['GOLDAMGBD228NLBM'].dropna().plot()\n",
    "plt.plot()"
   ]
  },
  {
   "cell_type": "code",
   "execution_count": 73,
   "metadata": {},
   "outputs": [
    {
     "data": {
      "image/png": "[encoded data removed]",
      "text/plain": [
       "<Figure size 432x288 with 1 Axes>"
      ]
     },
     "metadata": {},
     "output_type": "display_data"
    }
   ],
   "source": [
    "diffDCOILWTICO=df1['DCOILWTICO'].diff(23)\n",
    "plt.plot(diffDCOILWTICO)\n",
    "plt.show()"
   ]
  },
  {
   "cell_type": "code",
   "execution_count": 74,
   "metadata": {},
   "outputs": [
    {
     "data": {
      "text/plain": [
       "<matplotlib.axes._subplots.AxesSubplot at 0x284653f1550>"
      ]
     },
     "execution_count": 74,
     "metadata": {},
     "output_type": "execute_result"
    },
    {
     "data": {
      "image/png": "[encoded data removed]",
      "text/plain": [
       "<Figure size 432x288 with 1 Axes>"
      ]
     },
     "metadata": {},
     "output_type": "display_data"
    }
   ],
   "source": [
    "df['DCOILWTICO'] = df1['DCOILWTICO'] - df1['DCOILWTICO'].shift(23)\n",
    "df['DCOILWTICO'].dropna().plot()"
   ]
  },
  {
   "cell_type": "code",
   "execution_count": 75,
   "metadata": {},
   "outputs": [
    {
     "data": {
      "text/html": [
       "<div>\n",
       "<style scoped>\n",
       "    .dataframe tbody tr th:only-of-type {\n",
       "        vertical-align: middle;\n",
       "    }\n",
       "\n",
       "    .dataframe tbody tr th {\n",
       "        vertical-align: top;\n",
       "    }\n",
       "\n",
       "    .dataframe thead th {\n",
       "        text-align: right;\n",
       "    }\n",
       "</style>\n",
       "<table border=\"1\" class=\"dataframe\">\n",
       "  <thead>\n",
       "    <tr style=\"text-align: right;\">\n",
       "      <th></th>\n",
       "      <th>DATE</th>\n",
       "      <th>SP500</th>\n",
       "      <th>GOLDAMGBD228NLBM</th>\n",
       "      <th>DCOILWTICO</th>\n",
       "      <th>DEXUSEU</th>\n",
       "      <th>BTC</th>\n",
       "    </tr>\n",
       "  </thead>\n",
       "  <tbody>\n",
       "    <tr>\n",
       "      <th>0</th>\n",
       "      <td>2014-03-26</td>\n",
       "      <td>NaN</td>\n",
       "      <td>NaN</td>\n",
       "      <td>NaN</td>\n",
       "      <td>NaN</td>\n",
       "      <td>562.450012</td>\n",
       "    </tr>\n",
       "    <tr>\n",
       "      <th>1</th>\n",
       "      <td>2014-03-27</td>\n",
       "      <td>NaN</td>\n",
       "      <td>NaN</td>\n",
       "      <td>NaN</td>\n",
       "      <td>NaN</td>\n",
       "      <td>460.450012</td>\n",
       "    </tr>\n",
       "    <tr>\n",
       "      <th>2</th>\n",
       "      <td>2014-03-28</td>\n",
       "      <td>NaN</td>\n",
       "      <td>NaN</td>\n",
       "      <td>NaN</td>\n",
       "      <td>NaN</td>\n",
       "      <td>482.609985</td>\n",
       "    </tr>\n",
       "    <tr>\n",
       "      <th>3</th>\n",
       "      <td>2014-03-31</td>\n",
       "      <td>NaN</td>\n",
       "      <td>NaN</td>\n",
       "      <td>NaN</td>\n",
       "      <td>NaN</td>\n",
       "      <td>463.450012</td>\n",
       "    </tr>\n",
       "    <tr>\n",
       "      <th>4</th>\n",
       "      <td>2014-04-01</td>\n",
       "      <td>NaN</td>\n",
       "      <td>NaN</td>\n",
       "      <td>NaN</td>\n",
       "      <td>NaN</td>\n",
       "      <td>424.369995</td>\n",
       "    </tr>\n",
       "  </tbody>\n",
       "</table>\n",
       "</div>"
      ],
      "text/plain": [
       "        DATE  SP500  GOLDAMGBD228NLBM  DCOILWTICO  DEXUSEU         BTC\n",
       "0 2014-03-26    NaN               NaN         NaN      NaN  562.450012\n",
       "1 2014-03-27    NaN               NaN         NaN      NaN  460.450012\n",
       "2 2014-03-28    NaN               NaN         NaN      NaN  482.609985\n",
       "3 2014-03-31    NaN               NaN         NaN      NaN  463.450012\n",
       "4 2014-04-01    NaN               NaN         NaN      NaN  424.369995"
      ]
     },
     "execution_count": 75,
     "metadata": {},
     "output_type": "execute_result"
    }
   ],
   "source": [
    "df1.head()"
   ]
  },
  {
   "cell_type": "code",
   "execution_count": 76,
   "metadata": {},
   "outputs": [
    {
     "data": {
      "text/html": [
       "<div>\n",
       "<style scoped>\n",
       "    .dataframe tbody tr th:only-of-type {\n",
       "        vertical-align: middle;\n",
       "    }\n",
       "\n",
       "    .dataframe tbody tr th {\n",
       "        vertical-align: top;\n",
       "    }\n",
       "\n",
       "    .dataframe thead th {\n",
       "        text-align: right;\n",
       "    }\n",
       "</style>\n",
       "<table border=\"1\" class=\"dataframe\">\n",
       "  <thead>\n",
       "    <tr style=\"text-align: right;\">\n",
       "      <th></th>\n",
       "      <th>DATE</th>\n",
       "      <th>SP500</th>\n",
       "      <th>GOLDAMGBD228NLBM</th>\n",
       "      <th>DCOILWTICO</th>\n",
       "      <th>DEXUSEU</th>\n",
       "      <th>BTC</th>\n",
       "    </tr>\n",
       "  </thead>\n",
       "  <tbody>\n",
       "    <tr>\n",
       "      <th>25</th>\n",
       "      <td>2014-04-30</td>\n",
       "      <td>31.39</td>\n",
       "      <td>-22.50</td>\n",
       "      <td>-0.54</td>\n",
       "      <td>0.0084</td>\n",
       "      <td>460.130005</td>\n",
       "    </tr>\n",
       "    <tr>\n",
       "      <th>26</th>\n",
       "      <td>2014-05-01</td>\n",
       "      <td>34.64</td>\n",
       "      <td>-12.00</td>\n",
       "      <td>-1.56</td>\n",
       "      <td>0.0115</td>\n",
       "      <td>453.670013</td>\n",
       "    </tr>\n",
       "    <tr>\n",
       "      <th>27</th>\n",
       "      <td>2014-05-02</td>\n",
       "      <td>23.52</td>\n",
       "      <td>-10.75</td>\n",
       "      <td>-1.64</td>\n",
       "      <td>0.0111</td>\n",
       "      <td>438.649994</td>\n",
       "    </tr>\n",
       "    <tr>\n",
       "      <th>29</th>\n",
       "      <td>2014-05-06</td>\n",
       "      <td>-4.62</td>\n",
       "      <td>14.50</td>\n",
       "      <td>-1.76</td>\n",
       "      <td>0.0147</td>\n",
       "      <td>446.549988</td>\n",
       "    </tr>\n",
       "    <tr>\n",
       "      <th>30</th>\n",
       "      <td>2014-05-07</td>\n",
       "      <td>-7.31</td>\n",
       "      <td>24.50</td>\n",
       "      <td>1.37</td>\n",
       "      <td>0.0113</td>\n",
       "      <td>441.109985</td>\n",
       "    </tr>\n",
       "  </tbody>\n",
       "</table>\n",
       "</div>"
      ],
      "text/plain": [
       "         DATE  SP500  GOLDAMGBD228NLBM  DCOILWTICO  DEXUSEU         BTC\n",
       "25 2014-04-30  31.39            -22.50       -0.54   0.0084  460.130005\n",
       "26 2014-05-01  34.64            -12.00       -1.56   0.0115  453.670013\n",
       "27 2014-05-02  23.52            -10.75       -1.64   0.0111  438.649994\n",
       "29 2014-05-06  -4.62             14.50       -1.76   0.0147  446.549988\n",
       "30 2014-05-07  -7.31             24.50        1.37   0.0113  441.109985"
      ]
     },
     "execution_count": 76,
     "metadata": {},
     "output_type": "execute_result"
    }
   ],
   "source": [
    "df2=df1.dropna() \n",
    "df2.head()"
   ]
  },
  {
   "cell_type": "code",
   "execution_count": 77,
   "metadata": {},
   "outputs": [
    {
     "name": "stdout",
     "output_type": "stream",
     "text": [
      "const     2840.586314\n",
      "x1           1.177124\n",
      "x2          -2.982370\n",
      "x3          89.912025\n",
      "x4       14983.426161\n",
      "dtype: float64\n"
     ]
    }
   ],
   "source": [
    "X2 = np.column_stack((df2['SP500'], df2['GOLDAMGBD228NLBM'],df2['DCOILWTICO'],df2['DEXUSEU']))\n",
    "X2 = sm.add_constant(X2)\n",
    "model = sm.OLS(df2['BTC'],X2)\n",
    "results = model.fit()\n",
    "print(results.params)\n"
   ]
  },
  {
   "cell_type": "code",
   "execution_count": 78,
   "metadata": {},
   "outputs": [
    {
     "name": "stdout",
     "output_type": "stream",
     "text": [
      "                            OLS Regression Results                            \n",
      "==============================================================================\n",
      "Dep. Variable:                    BTC   R-squared:                       0.051\n",
      "Model:                            OLS   Adj. R-squared:                  0.048\n",
      "Method:                 Least Squares   F-statistic:                     15.29\n",
      "Date:                Wed, 10 Apr 2019   Prob (F-statistic):           3.50e-12\n",
      "Time:                        22:52:27   Log-Likelihood:                -10935.\n",
      "No. Observations:                1142   AIC:                         2.188e+04\n",
      "Df Residuals:                    1137   BIC:                         2.191e+04\n",
      "Df Model:                           4                                         \n",
      "Covariance Type:            nonrobust                                         \n",
      "==============================================================================\n",
      "                 coef    std err          t      P>|t|      [0.025      0.975]\n",
      "------------------------------------------------------------------------------\n",
      "const       2840.5863    109.060     26.046      0.000    2626.605    3054.567\n",
      "x1             1.1771      1.464      0.804      0.421      -1.695       4.049\n",
      "x2            -2.9824      2.346     -1.272      0.204      -7.584       1.620\n",
      "x3            89.9120     18.094      4.969      0.000      54.410     125.414\n",
      "x4          1.498e+04   4162.490      3.600      0.000    6816.402    2.32e+04\n",
      "==============================================================================\n",
      "Omnibus:                      305.270   Durbin-Watson:                   0.010\n",
      "Prob(Omnibus):                  0.000   Jarque-Bera (JB):              644.968\n",
      "Skew:                           1.521   Prob(JB):                    8.85e-141\n",
      "Kurtosis:                       5.075   Cond. No.                     3.11e+03\n",
      "==============================================================================\n",
      "\n",
      "Warnings:\n",
      "[1] Standard Errors assume that the covariance matrix of the errors is correctly specified.\n",
      "[2] The condition number is large, 3.11e+03. This might indicate that there are\n",
      "strong multicollinearity or other numerical problems.\n"
     ]
    }
   ],
   "source": [
    "print(results.summary())"
   ]
  },
  {
   "cell_type": "markdown",
   "metadata": {},
   "source": [
    "## 8.Removing dates before 2017"
   ]
  },
  {
   "cell_type": "code",
   "execution_count": 79,
   "metadata": {},
   "outputs": [],
   "source": [
    "import datetime\n",
    "\n",
    "df_before = datetime.date(2016, 12, 31)\n",
    "bdate = df[df['DATE'] > pd.to_datetime(df_before)]"
   ]
  },
  {
   "cell_type": "code",
   "execution_count": 80,
   "metadata": {},
   "outputs": [
    {
     "data": {
      "text/html": [
       "<div>\n",
       "<style scoped>\n",
       "    .dataframe tbody tr th:only-of-type {\n",
       "        vertical-align: middle;\n",
       "    }\n",
       "\n",
       "    .dataframe tbody tr th {\n",
       "        vertical-align: top;\n",
       "    }\n",
       "\n",
       "    .dataframe thead th {\n",
       "        text-align: right;\n",
       "    }\n",
       "</style>\n",
       "<table border=\"1\" class=\"dataframe\">\n",
       "  <thead>\n",
       "    <tr style=\"text-align: right;\">\n",
       "      <th></th>\n",
       "      <th>DATE</th>\n",
       "      <th>SP500</th>\n",
       "      <th>GOLDAMGBD228NLBM</th>\n",
       "      <th>DCOILWTICO</th>\n",
       "      <th>DEXUSEU</th>\n",
       "      <th>BTC</th>\n",
       "    </tr>\n",
       "  </thead>\n",
       "  <tbody>\n",
       "    <tr>\n",
       "      <th>724</th>\n",
       "      <td>2017-01-03</td>\n",
       "      <td>56.11</td>\n",
       "      <td>-40.45</td>\n",
       "      <td>6.70</td>\n",
       "      <td>-0.0160</td>\n",
       "      <td>1033.300049</td>\n",
       "    </tr>\n",
       "    <tr>\n",
       "      <th>725</th>\n",
       "      <td>2017-01-04</td>\n",
       "      <td>66.09</td>\n",
       "      <td>-21.40</td>\n",
       "      <td>7.97</td>\n",
       "      <td>-0.0150</td>\n",
       "      <td>1135.410034</td>\n",
       "    </tr>\n",
       "    <tr>\n",
       "      <th>726</th>\n",
       "      <td>2017-01-05</td>\n",
       "      <td>70.19</td>\n",
       "      <td>-14.35</td>\n",
       "      <td>4.36</td>\n",
       "      <td>0.0020</td>\n",
       "      <td>989.349976</td>\n",
       "    </tr>\n",
       "    <tr>\n",
       "      <th>727</th>\n",
       "      <td>2017-01-06</td>\n",
       "      <td>85.90</td>\n",
       "      <td>9.25</td>\n",
       "      <td>2.90</td>\n",
       "      <td>-0.0074</td>\n",
       "      <td>886.159973</td>\n",
       "    </tr>\n",
       "    <tr>\n",
       "      <th>728</th>\n",
       "      <td>2017-01-09</td>\n",
       "      <td>76.95</td>\n",
       "      <td>4.45</td>\n",
       "      <td>0.25</td>\n",
       "      <td>-0.0090</td>\n",
       "      <td>899.780029</td>\n",
       "    </tr>\n",
       "  </tbody>\n",
       "</table>\n",
       "</div>"
      ],
      "text/plain": [
       "          DATE  SP500  GOLDAMGBD228NLBM  DCOILWTICO  DEXUSEU          BTC\n",
       "724 2017-01-03  56.11            -40.45        6.70  -0.0160  1033.300049\n",
       "725 2017-01-04  66.09            -21.40        7.97  -0.0150  1135.410034\n",
       "726 2017-01-05  70.19            -14.35        4.36   0.0020   989.349976\n",
       "727 2017-01-06  85.90              9.25        2.90  -0.0074   886.159973\n",
       "728 2017-01-09  76.95              4.45        0.25  -0.0090   899.780029"
      ]
     },
     "execution_count": 80,
     "metadata": {},
     "output_type": "execute_result"
    }
   ],
   "source": [
    "bdate.head()"
   ]
  },
  {
   "cell_type": "markdown",
   "metadata": {},
   "source": [
    "## 9.ACF and PACF"
   ]
  },
  {
   "cell_type": "code",
   "execution_count": 81,
   "metadata": {},
   "outputs": [
    {
     "name": "stderr",
     "output_type": "stream",
     "text": [
      "C:\\Users\\Siddarth\\Anaconda3\\lib\\site-packages\\pandas\\core\\series.py:3724: FutureWarning: from_csv is deprecated. Please use read_csv(...) instead. Note that some of the default arguments are different, so please refer to the documentation for from_csv when changing your function calls\n",
      "  infer_datetime_format=infer_datetime_format)\n"
     ]
    },
    {
     "data": {
      "image/png": "[encoded data removed]",
      "text/plain": [
       "<Figure size 432x288 with 1 Axes>"
      ]
     },
     "metadata": {},
     "output_type": "display_data"
    }
   ],
   "source": [
    "from pandas import Series\n",
    "from matplotlib import pyplot\n",
    "from statsmodels.graphics.tsaplots import plot_acf\n",
    "series = Series.from_csv('BTC-USD (2).csv', header=0)\n",
    "plot_acf(series)\n",
    "pyplot.show()"
   ]
  },
  {
   "cell_type": "code",
   "execution_count": 82,
   "metadata": {},
   "outputs": [
    {
     "data": {
      "image/png": "[encoded data removed]",
      "text/plain": [
       "<Figure size 432x288 with 1 Axes>"
      ]
     },
     "metadata": {},
     "output_type": "display_data"
    }
   ],
   "source": [
    "from pandas import Series\n",
    "from matplotlib import pyplot\n",
    "from statsmodels.graphics.tsaplots import plot_acf\n",
    "series1 = bdate.iloc[:,1]\n",
    "plot_acf(series, lags=50)\n",
    "pyplot.show()"
   ]
  },
  {
   "cell_type": "code",
   "execution_count": 83,
   "metadata": {},
   "outputs": [
    {
     "data": {
      "image/png": "[encoded data removed]",
      "text/plain": [
       "<Figure size 432x288 with 1 Axes>"
      ]
     },
     "metadata": {},
     "output_type": "display_data"
    }
   ],
   "source": [
    "from pandas import Series\n",
    "from matplotlib import pyplot\n",
    "from statsmodels.graphics.tsaplots import plot_pacf\n",
    "series1 = bdate.iloc[:,1]\n",
    "plot_pacf(series, lags=50)\n",
    "pyplot.show()"
   ]
  },
  {
   "cell_type": "code",
   "execution_count": 84,
   "metadata": {},
   "outputs": [
    {
     "name": "stderr",
     "output_type": "stream",
     "text": [
      "C:\\Users\\Siddarth\\Anaconda3\\lib\\site-packages\\ipykernel_launcher.py:3: FutureWarning: 'pandas.tools.plotting.autocorrelation_plot' is deprecated, import 'pandas.plotting.autocorrelation_plot' instead.\n",
      "  This is separate from the ipykernel package so we can avoid doing imports until\n"
     ]
    },
    {
     "data": {
      "image/png": "[encoded data removed]",
      "text/plain": [
       "<Figure size 432x288 with 1 Axes>"
      ]
     },
     "metadata": {},
     "output_type": "display_data"
    }
   ],
   "source": [
    "series2 = df.iloc[:,2]\n",
    "from pandas.tools.plotting import autocorrelation_plot\n",
    "autocorrelation_plot(series2)\n",
    "pyplot.show()"
   ]
  },
  {
   "cell_type": "code",
   "execution_count": 85,
   "metadata": {},
   "outputs": [
    {
     "name": "stderr",
     "output_type": "stream",
     "text": [
      "C:\\Users\\Siddarth\\Anaconda3\\lib\\site-packages\\ipykernel_launcher.py:2: FutureWarning: 'pandas.tools.plotting.autocorrelation_plot' is deprecated, import 'pandas.plotting.autocorrelation_plot' instead.\n",
      "  \n"
     ]
    },
    {
     "data": {
      "image/png": "[encoded data removed]",
      "text/plain": [
       "<Figure size 432x288 with 1 Axes>"
      ]
     },
     "metadata": {},
     "output_type": "display_data"
    }
   ],
   "source": [
    "from pandas.tools.plotting import autocorrelation_plot\n",
    "autocorrelation_plot(series1)\n",
    "pyplot.show()"
   ]
  },
  {
   "cell_type": "markdown",
   "metadata": {},
   "source": [
    "## 10.ARIMA"
   ]
  },
  {
   "cell_type": "code",
   "execution_count": 86,
   "metadata": {},
   "outputs": [],
   "source": [
    "import pandas\n",
    "import matplotlib.mlab as mlab\n",
    "import matplotlib.pyplot as plt\n",
    "import numpy as np\n",
    "import math\n",
    "from statsmodels.tsa.stattools import acf, pacf\n",
    "import statsmodels.tsa.stattools as ts\n",
    "from statsmodels.tsa.arima_model import ARIMA"
   ]
  },
  {
   "cell_type": "code",
   "execution_count": 87,
   "metadata": {},
   "outputs": [
    {
     "data": {
      "image/png": "[encoded data removed]",
      "text/plain": [
       "<Figure size 432x288 with 1 Axes>"
      ]
     },
     "metadata": {},
     "output_type": "display_data"
    },
    {
     "data": {
      "image/png": "[encoded data removed]",
      "text/plain": [
       "<Figure size 432x288 with 1 Axes>"
      ]
     },
     "metadata": {},
     "output_type": "display_data"
    },
    {
     "name": "stderr",
     "output_type": "stream",
     "text": [
      "C:\\Users\\Siddarth\\Anaconda3\\lib\\site-packages\\statsmodels\\regression\\linear_model.py:1283: RuntimeWarning: invalid value encountered in sqrt\n",
      "  return rho, np.sqrt(sigmasq)\n"
     ]
    },
    {
     "data": {
      "image/png": "[encoded data removed]",
      "text/plain": [
       "<Figure size 432x288 with 1 Axes>"
      ]
     },
     "metadata": {},
     "output_type": "display_data"
    },
    {
     "data": {
      "text/plain": [
       "(-0.32224064805965275,\n",
       " 0.922294791573623,\n",
       " 0,\n",
       " 1164,\n",
       " {'1%': -3.4359803948357723,\n",
       "  '5%': -2.8640262259528595,\n",
       "  '10%': -2.5680937227063922},\n",
       " -3821.661691346326)"
      ]
     },
     "execution_count": 87,
     "metadata": {},
     "output_type": "execute_result"
    },
    {
     "data": {
      "image/png": "[encoded data removed]",
      "text/plain": [
       "<Figure size 432x288 with 1 Axes>"
      ]
     },
     "metadata": {},
     "output_type": "display_data"
    }
   ],
   "source": [
    "lnprice=np.log(df['BTC'])\n",
    "lnprice\n",
    "plt.plot(lnprice)\n",
    "plt.show()\n",
    "acf_1 =  acf(lnprice)[1:20]\n",
    "plt.plot(acf_1)\n",
    "plt.show()\n",
    "test_df = pandas.DataFrame([acf_1]).T\n",
    "test_df.columns = ['Pandas Autocorrelation']\n",
    "test_df.index += 1\n",
    "test_df.plot(kind='bar')\n",
    "pacf_1 =  pacf(lnprice)[1:20]\n",
    "plt.plot(pacf_1)\n",
    "plt.show()\n",
    "test_df = pandas.DataFrame([pacf_1]).T\n",
    "test_df.columns = ['Pandas Partial Autocorrelation']\n",
    "test_df.index += 1\n",
    "test_df.plot(kind='bar')\n",
    "result = ts.adfuller(lnprice, 1)\n",
    "result"
   ]
  },
  {
   "cell_type": "code",
   "execution_count": 88,
   "metadata": {},
   "outputs": [
    {
     "data": {
      "image/png": "[encoded data removed]",
      "text/plain": [
       "<Figure size 432x288 with 1 Axes>"
      ]
     },
     "metadata": {},
     "output_type": "display_data"
    }
   ],
   "source": [
    "lnprice_diff=lnprice-lnprice.shift()\n",
    "diff=lnprice_diff.dropna()\n",
    "acf_1_diff =  acf(diff)[1:20]\n",
    "test_df = pandas.DataFrame([acf_1_diff]).T\n",
    "test_df.columns = ['First Difference Autocorrelation']\n",
    "test_df.index += 1\n",
    "test_df.plot(kind='bar')\n",
    "pacf_1_diff =  pacf(diff)[1:20]\n",
    "plt.plot(pacf_1_diff)\n",
    "plt.show()"
   ]
  },
  {
   "cell_type": "code",
   "execution_count": 89,
   "metadata": {},
   "outputs": [
    {
     "name": "stderr",
     "output_type": "stream",
     "text": [
      "C:\\Users\\Siddarth\\Anaconda3\\lib\\site-packages\\ipykernel_launcher.py:1: FutureWarning: Method .as_matrix will be removed in a future version. Use .values instead.\n",
      "  \"\"\"Entry point for launching an IPython kernel.\n"
     ]
    }
   ],
   "source": [
    "price_matrix=lnprice.as_matrix()\n",
    "model = ARIMA(price_matrix, order=(3,1,0))\n",
    "model_fit = model.fit(disp=0)\n"
   ]
  },
  {
   "cell_type": "code",
   "execution_count": 90,
   "metadata": {},
   "outputs": [
    {
     "name": "stdout",
     "output_type": "stream",
     "text": [
      "                             ARIMA Model Results                              \n",
      "==============================================================================\n",
      "Dep. Variable:                    D.y   No. Observations:                 1164\n",
      "Model:                 ARIMA(3, 1, 0)   Log Likelihood                1907.104\n",
      "Method:                       css-mle   S.D. of innovations              0.047\n",
      "Date:                Wed, 10 Apr 2019   AIC                          -3804.207\n",
      "Time:                        22:52:29   BIC                          -3778.909\n",
      "Sample:                             1   HQIC                         -3794.664\n",
      "                                                                              \n",
      "==============================================================================\n",
      "                 coef    std err          z      P>|z|      [0.025      0.975]\n",
      "------------------------------------------------------------------------------\n",
      "const          0.0017      0.001      1.195      0.232      -0.001       0.004\n",
      "ar.L1.D.y     -0.0146      0.030     -0.494      0.622      -0.073       0.043\n",
      "ar.L2.D.y      0.0457      0.030      1.546      0.122      -0.012       0.104\n",
      "ar.L3.D.y     -0.0150      0.030     -0.508      0.612      -0.073       0.043\n",
      "                                    Roots                                    \n",
      "=============================================================================\n",
      "                  Real          Imaginary           Modulus         Frequency\n",
      "-----------------------------------------------------------------------------\n",
      "AR.1           -3.1909           -0.0000j            3.1909           -0.5000\n",
      "AR.2            3.1156           -3.3387j            4.5666           -0.1305\n",
      "AR.3            3.1156           +3.3387j            4.5666            0.1305\n",
      "-----------------------------------------------------------------------------\n"
     ]
    }
   ],
   "source": [
    "print(model_fit.summary())"
   ]
  },
  {
   "cell_type": "code",
   "execution_count": 91,
   "metadata": {},
   "outputs": [
    {
     "data": {
      "image/png": "[encoded data removed]",
      "text/plain": [
       "<Figure size 432x288 with 1 Axes>"
      ]
     },
     "metadata": {},
     "output_type": "display_data"
    },
    {
     "data": {
      "image/png": "[encoded data removed]",
      "text/plain": [
       "<Figure size 432x288 with 1 Axes>"
      ]
     },
     "metadata": {},
     "output_type": "display_data"
    },
    {
     "name": "stdout",
     "output_type": "stream",
     "text": [
      "                  0\n",
      "count  1.164000e+03\n",
      "mean   8.717892e-07\n",
      "std    4.703351e-02\n",
      "min   -2.951909e-01\n",
      "25%   -1.532061e-02\n",
      "50%    3.353931e-04\n",
      "75%    1.939908e-02\n",
      "max    2.426331e-01\n"
     ]
    }
   ],
   "source": [
    "# plot residual errors\n",
    "residuals = DataFrame(model_fit.resid)\n",
    "residuals.plot()\n",
    "pyplot.show()\n",
    "residuals.plot(kind='kde')\n",
    "pyplot.show()\n",
    "print(residuals.describe())"
   ]
  },
  {
   "cell_type": "code",
   "execution_count": 92,
   "metadata": {},
   "outputs": [
    {
     "name": "stdout",
     "output_type": "stream",
     "text": [
      "predict=1204.070555, expect=1215.199951\n",
      "predict=1214.200419, expect=1238.089966\n",
      "predict=1238.080284, expect=1249.640015\n",
      "predict=1246.876166, expect=1240.890015\n",
      "predict=1239.403063, expect=1249.140015\n",
      "predict=1251.506501, expect=1248.180054\n",
      "predict=1247.034424, expect=1264.310059\n",
      "predict=1265.658024, expect=1286.630005\n",
      "predict=1285.284059, expect=1332.910034\n",
      "predict=1331.915355, expect=1329.619995\n",
      "predict=1322.737639, expect=1336.280029\n",
      "predict=1338.361202, expect=1351.910034\n",
      "predict=1351.902591, expect=1415.810059\n",
      "predict=1416.661033, expect=1445.930054\n",
      "predict=1437.771935, expect=1485.550049\n",
      "predict=1484.485009, expect=1516.760010\n",
      "predict=1513.346284, expect=1507.770020\n",
      "predict=1503.901821, expect=1545.290039\n",
      "predict=1549.919828, expect=1554.449951\n",
      "predict=1549.466451, expect=1664.469971\n",
      "predict=1670.149727, expect=1697.500000\n",
      "predict=1683.657778, expect=1752.310059\n",
      "predict=1754.314239, expect=1819.290039\n",
      "predict=1817.760464, expect=1686.390015\n",
      "predict=1672.117801, expect=1763.739990\n",
      "predict=1788.112864, expect=1772.550049\n",
      "predict=1758.997166, expect=1708.920044\n",
      "predict=1709.225258, expect=1729.339966\n",
      "predict=1740.216457, expect=1801.300049\n",
      "predict=1799.074250, expect=1880.989990\n",
      "predict=1875.531941, expect=1962.000000\n",
      "predict=1958.818896, expect=2040.180054\n",
      "predict=2038.852912, expect=2044.189941\n",
      "predict=2039.080947, expect=2124.409912\n",
      "predict=2134.059142, expect=2272.580078\n",
      "predict=2274.976256, expect=2445.280029\n",
      "predict=2453.433591, expect=2307.219971\n",
      "predict=2284.019053, expect=2244.889893\n",
      "predict=2269.242864, expect=2052.429932\n",
      "predict=2041.658436, expect=2189.020020\n",
      "predict=2219.977791, expect=2278.209961\n",
      "predict=2271.452066, expect=2192.550049\n",
      "predict=2176.740349, expect=2303.340088\n",
      "predict=2322.115353, expect=2412.649902\n",
      "predict=2404.038198, expect=2492.600098\n",
      "predict=2488.234424, expect=2545.429932\n",
      "predict=2544.122869, expect=2524.060059\n",
      "predict=2519.455810, expect=2704.959961\n",
      "predict=2723.383887, expect=2870.500000\n",
      "predict=2866.192046, expect=2691.510010\n",
      "predict=2665.331363, expect=2798.780029\n",
      "predict=2838.961391, expect=2811.429932\n",
      "predict=2789.978528, expect=2900.250000\n",
      "predict=2909.548461, expect=2973.449951\n",
      "predict=2970.230856, expect=2656.770020\n",
      "predict=2641.846712, expect=2712.989990\n",
      "predict=2758.682457, expect=2467.270020\n",
      "predict=2456.595933, expect=2442.459961\n",
      "predict=2458.156389, expect=2508.580078\n",
      "predict=2503.561559, expect=2655.100098\n",
      "predict=2653.630243, expect=2539.560059\n",
      "predict=2531.597741, expect=2616.820068\n",
      "predict=2626.126771, expect=2754.379883\n",
      "predict=2747.384832, expect=2677.620117\n",
      "predict=2671.808966, expect=2722.840088\n",
      "predict=2733.813606, expect=2710.370117\n",
      "predict=2706.645071, expect=2590.050049\n",
      "predict=2595.310675, expect=2541.620117\n",
      "predict=2551.505381, expect=2446.050049\n",
      "predict=2446.121434, expect=2583.750000\n",
      "predict=2588.858601, expect=2577.739990\n",
      "predict=2567.688344, expect=2558.370117\n",
      "predict=2563.988769, expect=2480.610107\n",
      "predict=2484.147497, expect=2424.610107\n",
      "predict=2431.267711, expect=2536.459961\n",
      "predict=2539.202784, expect=2572.469971\n",
      "predict=2564.491780, expect=2617.320068\n",
      "predict=2617.319064, expect=2627.860107\n",
      "predict=2626.652329, expect=2614.239990\n",
      "predict=2615.732451, expect=2513.879883\n",
      "predict=2517.232249, expect=2564.860107\n",
      "predict=2572.699197, expect=2511.429932\n",
      "predict=2509.076352, expect=2344.020020\n",
      "predict=2351.464979, expect=2324.290039\n",
      "predict=2336.325730, expect=2403.090088\n",
      "predict=2402.296985, expect=2362.439941\n",
      "predict=2357.394904, expect=2234.169922\n",
      "predict=2241.219278, expect=1975.079956\n",
      "predict=1980.677301, expect=1914.089966\n",
      "predict=1929.588318, expect=2233.389893\n",
      "predict=2249.496394, expect=2320.229980\n",
      "predict=2286.105751, expect=2282.580078\n",
      "predict=2266.154887, expect=2866.020020\n",
      "predict=2895.357484, expect=2675.080078\n",
      "predict=2628.159066, expect=2836.530029\n",
      "predict=2875.113110, expect=2756.610107\n",
      "predict=2752.881321, expect=2763.419922\n",
      "predict=2771.750433, expect=2582.580078\n",
      "predict=2593.712864, expect=2559.209961\n",
      "predict=2565.026345, expect=2691.879883\n",
      "predict=2682.102027, expect=2806.750000\n",
      "predict=2798.111836, expect=2733.500000\n",
      "predict=2737.071221, expect=2766.489990\n",
      "predict=2769.821412, expect=2883.270020\n",
      "predict=2875.789022, expect=2746.989990\n",
      "predict=2753.875109, expect=2720.530029\n",
      "predict=2731.419557, expect=2809.989990\n",
      "predict=2803.622219, expect=2878.489990\n",
      "predict=2871.596867, expect=3262.800049\n",
      "predict=3245.836690, expect=3232.030029\n",
      "predict=3225.887506, expect=3401.909912\n",
      "predict=3404.172455, expect=3429.379883\n",
      "predict=3429.235433, expect=3348.790039\n",
      "predict=3359.512120, expect=3425.669922\n",
      "predict=3424.903693, expect=3654.370117\n",
      "predict=3642.252351, expect=3871.620117\n",
      "predict=3869.611117, expect=4062.600098\n",
      "predict=4074.310990, expect=4327.939941\n",
      "predict=4352.528037, expect=4161.660156\n",
      "predict=4179.417608, expect=4387.399902\n",
      "predict=4393.221632, expect=4278.919922\n",
      "predict=4288.109580, expect=4105.370117\n",
      "predict=4121.014810, expect=4150.450195\n",
      "predict=4139.230348, expect=4066.600098\n",
      "predict=4061.916857, expect=4005.100098\n",
      "predict=4008.703356, expect=4089.699951\n",
      "predict=4081.810706, expect=4141.089844\n",
      "predict=4140.923132, expect=4318.350098\n",
      "predict=4324.119595, expect=4364.410156\n",
      "predict=4376.286705, expect=4352.299805\n",
      "predict=4367.859986, expect=4345.750000\n",
      "predict=4350.683455, expect=4390.310059\n",
      "predict=4390.894757, expect=4597.310059\n",
      "predict=4597.684690, expect=4583.020020\n",
      "predict=4596.255211, expect=4735.109863\n",
      "predict=4747.297732, expect=4921.850098\n",
      "predict=4928.644575, expect=4573.799805\n",
      "predict=4604.865401, expect=4612.919922\n",
      "predict=4618.986956, expect=4267.450195\n",
      "predict=4264.949820, expect=4409.080078\n",
      "predict=4382.270925, expect=4618.709961\n",
      "predict=4603.884020, expect=4635.600098\n",
      "predict=4652.600811, expect=4326.450195\n",
      "predict=4347.361053, expect=4335.129883\n",
      "predict=4330.685011, expect=4245.890137\n",
      "predict=4244.937747, expect=4217.899902\n",
      "predict=4218.946832, expect=4158.919922\n",
      "predict=4160.396081, expect=3870.290039\n",
      "predict=3879.086553, expect=3243.080078\n",
      "predict=3215.052717, expect=3713.760010\n",
      "predict=3673.010353, expect=3698.919922\n",
      "predict=3685.575229, expect=3689.610107\n",
      "predict=3705.855762, expect=4100.279785\n",
      "predict=4077.328887, expect=3907.959961\n",
      "predict=3926.278189, expect=3882.159912\n",
      "predict=3916.990762, expect=3617.270020\n",
      "predict=3628.682921, expect=3600.830078\n",
      "predict=3599.191849, expect=3788.020020\n",
      "predict=3764.749774, expect=3667.520020\n",
      "predict=3678.211358, expect=3932.830078\n",
      "predict=3921.893780, expect=3892.699951\n",
      "predict=3895.671446, expect=4212.200195\n",
      "predict=4198.136050, expect=4195.649902\n",
      "predict=4207.763593, expect=4172.790039\n",
      "predict=4190.633493, expect=4360.620117\n",
      "predict=4345.553999, expect=4403.089844\n",
      "predict=4406.323122, expect=4401.319824\n",
      "predict=4415.655945, expect=4314.180176\n",
      "predict=4326.123297, expect=4218.660156\n",
      "predict=4226.420116, expect=4321.439941\n",
      "predict=4308.693247, expect=4371.939941\n",
      "predict=4368.282427, expect=4435.810059\n",
      "predict=4439.408703, expect=4611.700195\n",
      "predict=4604.956501, expect=4777.490234\n",
      "predict=4777.167769, expect=4763.359863\n",
      "predict=4781.480341, expect=4824.200195\n",
      "predict=4831.184308, expect=5432.620117\n",
      "predict=5396.559648, expect=5637.259766\n",
      "predict=5659.687384, expect=5824.709961\n",
      "predict=5880.701206, expect=5688.140137\n",
      "predict=5716.267871, expect=5759.330078\n",
      "predict=5763.637867, expect=5598.580078\n",
      "predict=5605.060974, expect=5575.830078\n",
      "predict=5574.866092, expect=5698.649902\n",
      "predict=5687.760645, expect=5993.109863\n",
      "predict=5992.460035, expect=6006.649902\n",
      "predict=6029.135411, expect=5982.859863\n",
      "predict=5999.651782, expect=5903.609863\n",
      "predict=5908.824060, expect=5513.080078\n",
      "predict=5520.733211, expect=5734.000000\n",
      "predict=5708.984965, expect=5887.609863\n",
      "predict=5881.273981, expect=5764.560059\n",
      "predict=5785.061531, expect=5726.609863\n",
      "predict=5733.827058, expect=6147.520020\n",
      "predict=6128.830287, expect=6124.279785\n",
      "predict=6133.782888, expect=6451.240234\n",
      "predict=6460.822286, expect=6737.779785\n",
      "predict=6746.030956, expect=7024.810059\n",
      "predict=7062.644319, expect=7152.120117\n",
      "predict=7192.237326, expect=7363.799805\n",
      "predict=7398.006013, expect=7389.549805\n",
      "predict=7417.602742, expect=6959.229980\n",
      "predict=6980.699866, expect=7102.750000\n",
      "predict=7084.256804, expect=7444.359863\n",
      "predict=7419.092142, expect=7129.589844\n",
      "predict=7160.961547, expect=6565.799805\n"
     ]
    },
    {
     "name": "stdout",
     "output_type": "stream",
     "text": [
      "predict=6595.814232, expect=6339.859863\n",
      "predict=6314.805685, expect=5878.129883\n",
      "predict=5803.114997, expect=6522.450195\n",
      "predict=6510.423055, expect=6597.060059\n",
      "predict=6596.241854, expect=7283.220215\n",
      "predict=7289.509202, expect=7853.680176\n",
      "predict=7944.517034, expect=7699.950195\n",
      "predict=7747.009740, expect=7780.910156\n",
      "predict=7796.300906, expect=8042.640137\n",
      "predict=8055.374703, expect=8244.690430\n",
      "predict=8276.412844, expect=8099.970215\n",
      "predict=8118.293048, expect=8234.549805\n",
      "predict=8246.448239, expect=8013.410156\n",
      "predict=8010.934471, expect=8200.799805\n",
      "predict=8203.576864, expect=8754.690430\n",
      "predict=8783.406555, expect=9318.419922\n",
      "predict=9403.220740, expect=9733.200195\n",
      "predict=9837.865106, expect=9906.040039\n",
      "predict=9980.561876, expect=9837.860352\n",
      "predict=9860.201991, expect=9946.759766\n",
      "predict=9963.238295, expect=10861.469730\n",
      "predict=10968.904584, expect=10912.730470\n",
      "predict=10985.383067, expect=11246.209960\n",
      "predict=11335.357920, expect=11623.910160\n",
      "predict=11701.726436, expect=11667.129880\n",
      "predict=11733.322903, expect=13749.570310\n",
      "predict=14019.225081, expect=16850.310550\n",
      "predict=18612.410278, expect=16047.610350\n",
      "predict=15946.771976, expect=14843.419920\n",
      "predict=15149.311454, expect=15059.599610\n",
      "predict=15329.042706, expect=16732.470700\n",
      "predict=17090.208875, expect=17083.900390\n",
      "predict=16704.270812, expect=16286.820310\n",
      "predict=16102.127641, expect=16467.910160\n",
      "predict=16852.337236, expect=17604.849610\n",
      "predict=17812.810777, expect=19345.490230\n"
     ]
    },
    {
     "name": "stderr",
     "output_type": "stream",
     "text": [
      "C:\\Users\\Siddarth\\Anaconda3\\lib\\site-packages\\statsmodels\\base\\model.py:508: ConvergenceWarning: Maximum Likelihood optimization failed to converge. Check mle_retvals\n",
      "  \"Check mle_retvals\", ConvergenceWarning)\n"
     ]
    },
    {
     "name": "stdout",
     "output_type": "stream",
     "text": [
      "predict=19634.175968, expect=19065.710940\n",
      "predict=18454.735849, expect=18972.320310\n",
      "predict=19258.329112, expect=17523.699220\n",
      "predict=17099.614118, expect=16461.970700\n",
      "predict=16548.160764, expect=15632.120120\n",
      "predict=15591.625527, expect=13664.969730\n",
      "predict=12953.851323, expect=14396.459960\n",
      "predict=15098.210218, expect=13789.950200\n",
      "predict=13371.936588, expect=13833.490230\n",
      "predict=13972.792160, expect=15756.559570\n",
      "predict=16291.545496, expect=15416.639650\n",
      "predict=14968.103083, expect=14398.700200\n",
      "predict=14365.555923, expect=14392.570310\n",
      "predict=14593.855465, expect=12531.519530\n",
      "predict=11951.830204, expect=13850.400390\n",
      "predict=14377.719998, expect=13444.879880\n",
      "predict=13203.772387, expect=14754.129880\n",
      "predict=14904.073324, expect=15156.620120\n",
      "predict=15158.938315, expect=15180.080080\n",
      "predict=15123.924339, expect=16954.779300\n",
      "predict=17215.763439, expect=17172.300780\n",
      "predict=17122.739649, expect=16228.160160\n",
      "predict=16108.114247, expect=14976.169920\n",
      "predict=14860.578001, expect=14468.500000\n",
      "predict=14510.237745, expect=14919.490230\n",
      "predict=15079.668082, expect=13308.059570\n",
      "predict=13042.735354, expect=13841.190430\n",
      "predict=14011.641944, expect=14243.120120\n",
      "predict=14271.319124, expect=13638.629880\n",
      "predict=13548.245460, expect=13631.980470\n",
      "predict=13689.490007, expect=11282.490230\n",
      "predict=11002.482962, expect=11162.700200\n",
      "predict=11265.494330, expect=11175.519530\n",
      "predict=11199.874392, expect=11521.759770\n",
      "predict=11570.285094, expect=12783.940430\n",
      "predict=12930.834027, expect=11549.929690\n",
      "predict=11369.002275, expect=10814.519530\n",
      "predict=10788.127418, expect=10858.230470\n",
      "predict=10934.818942, expect=11429.019530\n",
      "predict=11514.238861, expect=11175.870120\n",
      "predict=11118.517973, expect=11104.200200\n",
      "predict=11106.713683, expect=11459.709960\n",
      "predict=11514.185701, expect=11767.740230\n",
      "predict=11786.315464, expect=11233.950200\n",
      "predict=11156.497069, expect=10107.259770\n",
      "predict=10016.865099, expect=10226.860350\n",
      "predict=10341.514643, expect=9114.719727\n",
      "predict=9012.009013, expect=8870.820313\n",
      "predict=8910.536739, expect=9251.269531\n",
      "predict=9327.406795, expect=8218.049805\n",
      "predict=8091.902243, expect=6937.080078\n",
      "predict=6858.612686, expect=7701.250000\n",
      "predict=7874.170407, expect=7592.720215\n",
      "predict=7510.500382, expect=8260.690430\n",
      "predict=8342.922014, expect=8696.830078\n",
      "predict=8703.972317, expect=8569.290039\n",
      "predict=8536.132535, expect=8084.609863\n",
      "predict=8047.742639, expect=8911.269531\n",
      "predict=9033.063337, expect=8544.690430\n",
      "predict=8456.050248, expect=9485.639648\n",
      "predict=9595.978189, expect=10033.750000\n",
      "predict=10036.069911, expect=10188.730470\n",
      "predict=10182.665492, expect=11097.209960\n",
      "predict=11192.255437, expect=10417.230470\n",
      "predict=10317.301137, expect=11182.280270\n",
      "predict=11287.334559, expect=11256.429690\n",
      "predict=11232.007935, expect=10481.660160\n",
      "predict=10432.376727, expect=9847.959961\n",
      "predict=9837.069815, expect=10175.509770\n",
      "predict=10233.650288, expect=9705.730469\n",
      "predict=9647.531161, expect=9610.110352\n",
      "predict=9635.200410, expect=10326.500000\n",
      "predict=10387.962134, expect=10594.759770\n",
      "predict=10584.374134, expect=10334.440430\n",
      "predict=10316.584727, expect=10929.370120\n",
      "predict=11003.878868, expect=11043.120120\n",
      "predict=11021.614844, expect=11465.360350\n",
      "predict=11513.302381, expect=11504.419920\n",
      "predict=11495.611685, expect=11440.730470\n",
      "predict=11448.832988, expect=10735.450200\n",
      "predict=10687.293016, expect=9928.559570\n",
      "predict=9896.821155, expect=9316.719727\n",
      "predict=9289.209232, expect=9252.759766\n",
      "predict=9265.328456, expect=8797.269531\n",
      "predict=8748.664049, expect=9544.839844\n",
      "predict=9635.497527, expect=9142.150391\n",
      "predict=9076.009014, expect=9160.120117\n",
      "predict=9194.021977, expect=8217.700195\n",
      "predict=8139.395006, expect=8268.410156\n",
      "predict=8308.740102, expect=8283.230469\n",
      "predict=8281.159967, expect=7883.450195\n",
      "predict=7854.683218, expect=8215.400391\n",
      "predict=8260.456392, expect=8623.139648\n",
      "predict=8645.538387, expect=8920.709961\n",
      "predict=8939.927927, expect=8911.349609\n",
      "predict=8909.273933, expect=8724.980469\n",
      "predict=8717.199945, expect=8934.799805\n",
      "predict=8963.650251, expect=8548.059570\n",
      "predict=8512.018445, expect=8472.839844\n",
      "predict=8486.503457, expect=8152.200195\n",
      "predict=8129.184274, expect=7808.479980\n",
      "predict=7793.561115, expect=7959.779785\n",
      "predict=7984.817519, expect=7106.620117\n",
      "predict=7031.789424, expect=6853.759766\n",
      "predict=6864.232644, expect=6943.770020\n",
      "predict=6951.011749, expect=6835.839844\n",
      "predict=6823.966769, expect=7074.600098\n",
      "predict=7102.691626, expect=7434.299805\n",
      "predict=7459.396697, expect=6815.500000\n",
      "predict=6760.761851, expect=6790.450195\n",
      "predict=6817.554360, expect=6634.859863\n",
      "predict=6617.485470, expect=6917.200195\n",
      "predict=6948.110013, expect=7049.919922\n",
      "predict=7053.650715, expect=6789.529785\n",
      "predict=6771.609144, expect=6871.069824\n",
      "predict=6891.309849, expect=6977.129883\n",
      "predict=6983.227498, expect=7927.729980\n",
      "predict=8006.811987, expect=7899.109863\n",
      "predict=7872.575499, expect=8022.509766\n",
      "predict=8047.759384, expect=8376.730469\n",
      "predict=8405.660581, expect=8079.770020\n",
      "predict=8051.529503, expect=7921.629883\n",
      "predict=7927.418523, expect=8189.959961\n",
      "predict=8216.243414, expect=8301.820313\n",
      "predict=8304.298168, expect=8877.080078\n",
      "predict=8928.307189, expect=8935.719727\n",
      "predict=8929.363540, expect=8823.360352\n",
      "predict=8825.178624, expect=8968.250000\n",
      "predict=8989.028107, expect=9655.769531\n",
      "predict=9710.489696, expect=8873.620117\n",
      "predict=8799.410083, expect=9282.120117\n",
      "predict=9350.060328, expect=8938.469727\n",
      "predict=8899.086159, expect=9351.469727\n",
      "predict=9396.004230, expect=9407.040039\n",
      "predict=9403.237549, expect=9248.450195\n",
      "predict=9245.577239, expect=9077.280273\n",
      "predict=9074.959184, expect=9232.190430\n",
      "predict=9250.309018, expect=9745.040039\n",
      "predict=9779.967117, expect=9699.610352\n",
      "predict=9690.339940, expect=9845.900391\n",
      "predict=9866.777597, expect=9644.919922\n",
      "predict=9632.842064, expect=9377.809570\n",
      "predict=9370.892590, expect=9196.129883\n",
      "predict=9193.675021, expect=9321.160156\n",
      "predict=9337.232936, expect=9032.219727\n",
      "predict=9013.146315, expect=8421.000000\n",
      "predict=8391.414947, expect=8486.669922\n",
      "predict=8508.340259, expect=8709.459961\n",
      "predict=8722.379117, expect=8672.900391\n",
      "predict=8669.793900, expect=8480.160156\n",
      "predict=8474.420701, expect=8344.780273\n",
      "predict=8344.700144, expect=8071.040039\n",
      "predict=8058.096752, expect=8247.910156\n",
      "predict=8270.609462, expect=8249.240234\n",
      "predict=8246.747016, expect=8533.000000\n",
      "predict=8558.489181, expect=8419.650391\n",
      "predict=8409.093978, expect=7992.750000\n",
      "predict=7972.662144, expect=7505.770020\n",
      "predict=7485.644531, expect=7584.740234\n",
      "predict=7604.752845, expect=7475.359863\n",
      "predict=7466.257838, expect=7355.060059\n",
      "predict=7353.866856, expect=7362.229980\n",
      "predict=7368.967605, expect=7118.879883\n",
      "predict=7104.303561, expect=7474.750000\n",
      "predict=7509.871547, expect=7393.020020\n",
      "predict=7380.415897, expect=7502.149902\n",
      "predict=7518.063092, expect=7530.549805\n",
      "predict=7533.175920, expect=7643.259766\n",
      "predict=7655.087411, expect=7719.750000\n",
      "predict=7726.477290, expect=7503.200195\n",
      "predict=7490.980773, expect=7629.399902\n",
      "predict=7648.055315, expect=7661.790039\n",
      "predict=7663.396692, expect=7700.109863\n",
      "predict=7706.821261, expect=7627.520020\n",
      "predict=7625.773815, expect=7513.689941\n",
      "predict=7511.857300, expect=6773.720215\n",
      "predict=6727.955722, expect=6887.370117\n",
      "predict=6916.333309, expect=6556.939941\n",
      "predict=6530.587728, expect=6310.430176\n",
      "predict=6305.023234, expect=6643.259766\n",
      "predict=6672.292570, expect=6396.709961\n",
      "predict=6373.493018, expect=6503.100098\n",
      "predict=6522.033660, expect=6457.779785\n",
      "predict=6453.516459, expect=6714.819824\n",
      "predict=6737.188980, expect=6741.279785\n",
      "predict=6740.486119, expect=6761.270020\n",
      "predict=6767.557431, expect=6720.640137\n",
      "predict=6721.141914, expect=6051.470215\n",
      "predict=6010.864432, expect=6166.540039\n",
      "predict=6191.610002, expect=6157.779785\n",
      "predict=6152.558805, expect=6260.350098\n",
      "predict=6271.258625, expect=6088.390137\n",
      "predict=6077.918173, expect=6141.569824\n",
      "predict=6152.531573, expect=5871.279785\n",
      "predict=5854.350499, expect=6203.799805\n",
      "predict=6234.171562, expect=6385.379883\n",
      "predict=6391.694636, expect=6339.040039\n",
      "predict=6337.438345, expect=6615.660156\n",
      "predict=6639.099303, expect=6509.580078\n",
      "predict=6500.009629, expect=6590.060059\n",
      "predict=6602.597315, expect=6534.810059\n",
      "predict=6532.241175, expect=6602.020020\n"
     ]
    },
    {
     "name": "stdout",
     "output_type": "stream",
     "text": [
      "predict=6611.309938, expect=6758.080078\n",
      "predict=6769.755947, expect=6707.379883\n",
      "predict=6704.787912, expect=6668.839844\n",
      "predict=6671.819830, expect=6306.850098\n",
      "predict=6287.282450, expect=6394.359863\n",
      "predict=6410.283948, expect=6253.600098\n",
      "predict=6243.868910, expect=6229.830078\n",
      "predict=6234.753028, expect=6268.750000\n",
      "predict=6273.966573, expect=6364.259766\n",
      "predict=6372.601685, expect=6740.549805\n",
      "predict=6766.334616, expect=7326.700195\n",
      "predict=7362.362604, expect=7383.390137\n",
      "predict=7381.876205, expect=7477.500000\n",
      "predict=7490.222299, expect=7333.930176\n",
      "predict=7326.729952, expect=7405.399902\n",
      "predict=7417.071264, expect=7398.640137\n",
      "predict=7399.816298, expect=7718.000000\n",
      "predict=7743.406318, expect=8395.820313\n",
      "predict=8440.063164, expect=8170.229980\n",
      "predict=8148.162081, expect=7937.250000\n",
      "predict=7933.907104, expect=8182.890137\n",
      "predict=8206.781556, expect=8230.870117\n",
      "predict=8231.430036, expect=8216.780273\n",
      "predict=8220.671925, expect=8176.060059\n",
      "predict=8178.169858, expect=7735.299805\n",
      "predict=7710.766766, expect=7610.899902\n",
      "predict=7615.624445, expect=7542.339844\n",
      "predict=7541.347919, expect=7417.600098\n",
      "predict=7413.556509, expect=7017.890137\n",
      "predict=6996.522145, expect=7042.390137\n",
      "predict=7054.951332, expect=6945.779785\n",
      "predict=6939.229663, expect=6723.209961\n",
      "predict=6713.715508, expect=6285.020020\n",
      "predict=6261.830001, expect=6543.240234\n",
      "predict=6571.080930, expect=6153.410156\n",
      "predict=6121.926928, expect=6242.540039\n",
      "predict=6260.776955, expect=6322.919922\n",
      "predict=6326.328515, expect=6263.200195\n",
      "predict=6261.599192, expect=6199.600098\n",
      "predict=6200.267027, expect=6274.220215\n",
      "predict=6282.854983, expect=6323.810059\n",
      "predict=6328.182959, expect=6591.160156\n",
      "predict=6611.664906, expect=6405.709961\n",
      "predict=6392.134952, expect=6502.180176\n",
      "predict=6517.301723, expect=6269.899902\n",
      "predict=6254.751946, expect=6491.109863\n",
      "predict=6513.295426, expect=6366.129883\n",
      "predict=6355.768565, expect=6538.950195\n",
      "predict=6556.727760, expect=6708.959961\n",
      "predict=6719.262489, expect=6749.560059\n",
      "predict=6753.757907, expect=6720.600098\n",
      "predict=6722.522369, expect=6915.729980\n",
      "predict=6932.360943, expect=7091.379883\n",
      "predict=7102.566988, expect=7052.000000\n",
      "predict=7051.336838, expect=6998.759766\n",
      "predict=7000.738722, expect=7026.959961\n",
      "predict=7032.865348, expect=7203.459961\n",
      "predict=7217.448304, expect=7301.259766\n",
      "predict=7308.262977, expect=7270.049805\n",
      "predict=7271.178467, expect=7369.859863\n",
      "predict=7381.150611, expect=6705.029785\n",
      "predict=6664.166040, expect=6515.419922\n",
      "predict=6518.542365, expect=6411.779785\n",
      "predict=6406.957151, expect=6200.160156\n",
      "predict=6189.611069, expect=6249.069824\n",
      "predict=6257.896979, expect=6324.430176\n",
      "predict=6329.905991, expect=6295.540039\n",
      "predict=6295.824114, expect=6337.109863\n",
      "predict=6343.906414, expect=6492.000000\n",
      "predict=6504.239417, expect=6486.009766\n",
      "predict=6486.504033, expect=6522.080078\n",
      "predict=6528.878678, expect=6502.439941\n",
      "predict=6503.650061, expect=6261.479980\n",
      "predict=6249.475029, expect=6346.439941\n",
      "predict=6358.811017, expect=6398.799805\n",
      "predict=6401.911963, expect=6505.899902\n",
      "predict=6515.726855, expect=6762.060059\n",
      "predict=6780.580583, expect=6716.600098\n",
      "predict=6713.485429, expect=6702.700195\n",
      "predict=6707.788973, expect=6583.529785\n",
      "predict=6578.858790, expect=6437.740234\n",
      "predict=6433.212301, expect=6462.600098\n",
      "predict=6468.804734, expect=6686.129883\n",
      "predict=6702.357294, expect=6635.379883\n",
      "predict=6631.688950, expect=6603.750000\n",
      "predict=6607.388844, expect=6623.709961\n",
      "predict=6628.328223, expect=6594.979980\n",
      "predict=6595.692782, expect=6525.470215\n",
      "predict=6524.713382, expect=6492.259766\n",
      "predict=6494.157901, expect=6579.790039\n",
      "predict=6588.640528, expect=6632.870117\n",
      "predict=6637.740460, expect=6589.939941\n",
      "predict=6590.049050, expect=6601.149902\n",
      "predict=6606.150700, expect=6650.069824\n",
      "predict=6655.894720, expect=6631.790039\n",
      "predict=6633.010955, expect=6581.069824\n",
      "predict=6581.589706, expect=6209.470215\n",
      "predict=6188.962499, expect=6250.850098\n",
      "predict=6262.424902, expect=6267.270020\n",
      "predict=6267.848763, expect=6277.729980\n",
      "predict=6281.386293, expect=6612.359863\n",
      "predict=6637.123664, expect=6583.049805\n",
      "predict=6578.663260, expect=6574.520020\n",
      "predict=6580.067782, expect=6488.720215\n",
      "predict=6486.171002, expect=6469.279785\n",
      "predict=6472.468243, expect=6490.560059\n",
      "predict=6494.710780, expect=6509.870117\n",
      "predict=6513.689469, expect=6483.229980\n",
      "predict=6484.385565, expect=6470.220215\n",
      "predict=6473.013517, expect=6476.250000\n",
      "predict=6479.715640, expect=6462.770020\n",
      "predict=6464.743385, expect=6457.209961\n",
      "predict=6460.157276, expect=6470.169922\n",
      "predict=6474.044414, expect=6470.740234\n",
      "predict=6473.558298, expect=6313.910156\n",
      "predict=6306.802894, expect=6309.109863\n",
      "predict=6314.416984, expect=6342.609863\n",
      "predict=6346.697555, expect=6381.299805\n",
      "predict=6386.182973, expect=6394.660156\n",
      "predict=6398.094590, expect=6376.319824\n",
      "predict=6378.157092, expect=6467.049805\n",
      "predict=6476.349730, expect=6433.740234\n",
      "predict=6432.914066, expect=6479.720215\n",
      "predict=6486.931047, expect=6529.680176\n",
      "predict=6534.943138, expect=6446.060059\n",
      "predict=6443.147149, expect=6377.990234\n",
      "predict=6378.345043, expect=6396.370117\n",
      "predict=6401.099883, expect=6408.180176\n",
      "predict=6411.120397, expect=6375.080078\n",
      "predict=6375.831107, expect=6339.169922\n",
      "predict=6340.439169, expect=5741.470215\n",
      "predict=5705.697379, expect=5647.500000\n",
      "predict=5653.787543, expect=5586.270020\n",
      "predict=5582.085925, expect=5568.939941\n",
      "predict=5570.664739, expect=5615.259766\n",
      "predict=5620.676155, expect=4809.620117\n",
      "predict=4758.567792, expect=4441.810059\n",
      "predict=4432.771450, expect=4593.040039\n",
      "predict=4605.350919, expect=4320.680176\n",
      "predict=4298.188444, expect=4343.419922\n",
      "predict=4352.884496, expect=3854.110107\n",
      "predict=3820.551117, expect=4004.149902\n",
      "predict=4023.367702, expect=3784.590088\n",
      "predict=3765.642146, expect=3822.989990\n",
      "predict=3831.405074, expect=4263.549805\n",
      "predict=4291.445161, expect=4286.689941\n",
      "predict=4283.676507, expect=4009.669922\n",
      "predict=3996.879881, expect=4197.459961\n",
      "predict=4216.054504, expect=4143.859863\n",
      "predict=4136.483166, expect=3871.409912\n",
      "predict=3858.284572, expect=3948.439941\n",
      "predict=3959.001766, expect=3737.530029\n",
      "predict=3721.444649, expect=3485.179932\n",
      "predict=3474.594537, expect=3420.570068\n",
      "predict=3419.496464, expect=3461.070068\n",
      "predict=3463.336873, expect=3592.840088\n",
      "predict=3601.453191, expect=3467.159912\n",
      "predict=3458.723534, expect=3401.020020\n",
      "predict=3401.600656, expect=3485.590088\n",
      "predict=3492.160271, expect=3305.110107\n",
      "predict=3292.663880, expect=3235.479980\n",
      "predict=3236.179249, expect=3232.510010\n",
      "predict=3232.706835, expect=3255.370117\n",
      "predict=3257.388615, expect=3548.189941\n",
      "predict=3568.104705, expect=3715.850098\n",
      "predict=3723.665936, expect=3736.540039\n",
      "predict=3739.845509, expect=4137.660156\n",
      "predict=4167.127259, expect=3898.810059\n",
      "predict=3878.992136, expect=4045.239990\n",
      "predict=4064.505349, expect=4007.629883\n",
      "predict=4001.978728, expect=4081.949951\n",
      "predict=4090.557316, expect=3834.729980\n",
      "predict=3819.141773, expect=3848.780029\n",
      "predict=3855.705633, expect=3646.090088\n",
      "predict=3631.928312, expect=3947.860107\n",
      "predict=3971.364624, expect=3797.060059\n",
      "predict=3783.080730, expect=3896.209961\n",
      "predict=3908.869093, expect=3747.389893\n",
      "Test MSE: 188721.750\n"
     ]
    },
    {
     "data": {
      "image/png": "[encoded data removed]",
      "text/plain": [
       "<Figure size 432x288 with 1 Axes>"
      ]
     },
     "metadata": {},
     "output_type": "display_data"
    }
   ],
   "source": [
    "from pandas import read_csv\n",
    "from pandas import datetime\n",
    "from matplotlib import pyplot\n",
    "from statsmodels.tsa.arima_model import ARIMA\n",
    "from sklearn.metrics import mean_squared_error\n",
    " \n",
    "\n",
    "X = series.values\n",
    "size = int(len(X) * 0.66)\n",
    "train, test = X[0:size], X[size:len(X)]\n",
    "history = [x for x in train]\n",
    "predictions = list()\n",
    "for t in range(len(test)):\n",
    "    model = ARIMA(history, order=(3,1,0))\n",
    "    model_fit = model.fit(disp=0)\n",
    "    output = model_fit.forecast()\n",
    "    yhat = output[0]\n",
    "    predictions.append(yhat)\n",
    "    obs = test[t]\n",
    "    history.append(obs)\n",
    "    print('predict=%f, expect=%f' % (yhat, obs))\n",
    "error = mean_squared_error(test, predictions)\n",
    "print('Test MSE: %.3f' % error)\n",
    "# plot\n",
    "pyplot.plot(test)\n",
    "pyplot.plot(predictions, color='red')\n",
    "pyplot.show()"
   ]
  },
  {
   "cell_type": "code",
   "execution_count": 93,
   "metadata": {},
   "outputs": [],
   "source": [
    "X = df.values"
   ]
  },
  {
   "cell_type": "code",
   "execution_count": 94,
   "metadata": {},
   "outputs": [
    {
     "data": {
      "text/plain": [
       "DATE\n",
       "2013-12-31     805.940002\n",
       "2014-01-01     815.940002\n",
       "2014-01-02     856.909973\n",
       "2014-01-03     884.260010\n",
       "2014-01-04     924.690002\n",
       "2014-01-05    1014.739990\n",
       "2014-01-06    1012.650024\n",
       "2014-01-07     879.900024\n",
       "2014-01-08     938.840027\n",
       "2014-01-09     936.950012\n",
       "2014-01-10     957.760010\n",
       "2014-01-11    1005.320007\n",
       "2014-01-12     939.789978\n",
       "2014-01-13     922.909973\n",
       "2014-01-14     919.280029\n",
       "2014-01-15     941.219971\n",
       "2014-01-16     913.489990\n",
       "2014-01-17     894.159973\n",
       "2014-01-18     905.719971\n",
       "2014-01-19     954.799988\n",
       "2014-01-20     955.950012\n",
       "2014-01-21     962.210022\n",
       "2014-01-22     950.950012\n",
       "2014-01-23     944.159973\n",
       "2014-01-24     916.549988\n",
       "2014-01-25     961.049988\n",
       "2014-01-26    1007.000000\n",
       "2014-01-27     943.539978\n",
       "2014-01-28     932.679993\n",
       "2014-01-29     925.669983\n",
       "                 ...     \n",
       "2018-12-02    4143.859863\n",
       "2018-12-03    3871.409912\n",
       "2018-12-04    3948.439941\n",
       "2018-12-05    3737.530029\n",
       "2018-12-06    3485.179932\n",
       "2018-12-07    3420.570068\n",
       "2018-12-08    3461.070068\n",
       "2018-12-09    3592.840088\n",
       "2018-12-10    3467.159912\n",
       "2018-12-11    3401.020020\n",
       "2018-12-12    3485.590088\n",
       "2018-12-13    3305.110107\n",
       "2018-12-14    3235.479980\n",
       "2018-12-15    3232.510010\n",
       "2018-12-16    3255.370117\n",
       "2018-12-17    3548.189941\n",
       "2018-12-18    3715.850098\n",
       "2018-12-19    3736.540039\n",
       "2018-12-20    4137.660156\n",
       "2018-12-21    3898.810059\n",
       "2018-12-22    4045.239990\n",
       "2018-12-23    4007.629883\n",
       "2018-12-24    4081.949951\n",
       "2018-12-25    3834.729980\n",
       "2018-12-26    3848.780029\n",
       "2018-12-27    3646.090088\n",
       "2018-12-28    3947.860107\n",
       "2018-12-29    3797.060059\n",
       "2018-12-30    3896.209961\n",
       "2018-12-31    3747.389893\n",
       "Name: BTC, Length: 1827, dtype: float64"
      ]
     },
     "execution_count": 94,
     "metadata": {},
     "output_type": "execute_result"
    }
   ],
   "source": [
    "series"
   ]
  },
  {
   "cell_type": "code",
   "execution_count": 95,
   "metadata": {},
   "outputs": [
    {
     "name": "stdout",
     "output_type": "stream",
     "text": [
      "                              ARMA Model Results                              \n",
      "==============================================================================\n",
      "Dep. Variable:                      y   No. Observations:                 1462\n",
      "Model:                     ARMA(7, 1)   Log Likelihood              -10550.943\n",
      "Method:                       css-mle   S.D. of innovations            328.939\n",
      "Date:                Wed, 10 Apr 2019   AIC                          21121.886\n",
      "Time:                        22:54:17   BIC                          21174.762\n",
      "Sample:                             0   HQIC                         21141.610\n",
      "                                                                              \n",
      "==============================================================================\n",
      "                 coef    std err          z      P>|z|      [0.025      0.975]\n",
      "------------------------------------------------------------------------------\n",
      "const       1753.2813   4103.070      0.427      0.669   -6288.589    9795.152\n",
      "ar.L1.y        1.2466      0.144      8.655      0.000       0.964       1.529\n",
      "ar.L2.y       -0.3062      0.164     -1.865      0.062      -0.628       0.016\n",
      "ar.L3.y        0.0767      0.049      1.577      0.115      -0.019       0.172\n",
      "ar.L4.y       -0.0934      0.044     -2.136      0.033      -0.179      -0.008\n",
      "ar.L5.y        0.2672      0.045      5.989      0.000       0.180       0.355\n",
      "ar.L6.y       -0.3051      0.054     -5.684      0.000      -0.410      -0.200\n",
      "ar.L7.y        0.1123      0.035      3.172      0.002       0.043       0.182\n",
      "ma.L1.y       -0.1122      0.143     -0.783      0.434      -0.393       0.169\n",
      "                                    Roots                                    \n",
      "=============================================================================\n",
      "                  Real          Imaginary           Modulus         Frequency\n",
      "-----------------------------------------------------------------------------\n",
      "AR.1           -1.0321           -0.7828j            1.2954           -0.3967\n",
      "AR.2           -1.0321           +0.7828j            1.2954            0.3967\n",
      "AR.3            0.3400           -1.3441j            1.3865           -0.2106\n",
      "AR.4            0.3400           +1.3441j            1.3865            0.2106\n",
      "AR.5            1.0025           -0.0000j            1.0025           -0.0000\n",
      "AR.6            1.5500           -0.5933j            1.6596           -0.0582\n",
      "AR.7            1.5500           +0.5933j            1.6596            0.0582\n",
      "MA.1            8.9110           +0.0000j            8.9110            0.0000\n",
      "-----------------------------------------------------------------------------\n"
     ]
    }
   ],
   "source": [
    "# create a differenced series\n",
    "import numpy\n",
    "def difference(dataset, interval=1):\n",
    "    diff = list()\n",
    "    for i in range(interval, len(dataset)):\n",
    "        value = dataset[i] - dataset[i - interval]\n",
    "        diff.append(value)\n",
    "    return numpy.array(diff)\n",
    "X = series.values\n",
    "days_in_year = 365\n",
    "differenced = difference(X, days_in_year)\n",
    "# fit model\n",
    "model = ARIMA(differenced, order=(7,0,1))\n",
    "model_fit = model.fit(disp=0)\n",
    "# print summary of fit model\n",
    "print(model_fit.summary())"
   ]
  },
  {
   "cell_type": "code",
   "execution_count": 96,
   "metadata": {},
   "outputs": [
    {
     "name": "stdout",
     "output_type": "stream",
     "text": [
      "                             ARIMA Model Results                              \n",
      "==============================================================================\n",
      "Dep. Variable:                   D2.y   No. Observations:                 1460\n",
      "Model:                 ARIMA(5, 2, 2)   Log Likelihood              -10539.639\n",
      "Method:                       css-mle   S.D. of innovations            329.491\n",
      "Date:                Wed, 10 Apr 2019   AIC                          21097.278\n",
      "Time:                        22:54:19   BIC                          21144.854\n",
      "Sample:                             2   HQIC                         21115.026\n",
      "                                                                              \n",
      "==============================================================================\n",
      "                 coef    std err          z      P>|z|      [0.025      0.975]\n",
      "------------------------------------------------------------------------------\n",
      "const         -0.0395      0.024     -1.622      0.105      -0.087       0.008\n",
      "ar.L1.D2.y    -0.1438      0.095     -1.510      0.131      -0.330       0.043\n",
      "ar.L2.D2.y    -0.0123      0.029     -0.431      0.667      -0.068       0.044\n",
      "ar.L3.D2.y    -0.0005      0.027     -0.020      0.984      -0.053       0.052\n",
      "ar.L4.D2.y    -0.0724      0.027     -2.713      0.007      -0.125      -0.020\n",
      "ar.L5.D2.y     0.1617      0.028      5.760      0.000       0.107       0.217\n",
      "ma.L1.D2.y    -0.7266      0.094     -7.689      0.000      -0.912      -0.541\n",
      "ma.L2.D2.y    -0.2734      0.094     -2.903      0.004      -0.458      -0.089\n",
      "                                    Roots                                    \n",
      "=============================================================================\n",
      "                  Real          Imaginary           Modulus         Frequency\n",
      "-----------------------------------------------------------------------------\n",
      "AR.1           -1.0668           -0.7905j            1.3277           -0.3985\n",
      "AR.2           -1.0668           +0.7905j            1.3277            0.3985\n",
      "AR.3            0.4853           -1.3937j            1.4758           -0.1967\n",
      "AR.4            0.4853           +1.3937j            1.4758            0.1967\n",
      "AR.5            1.6106           -0.0000j            1.6106           -0.0000\n",
      "MA.1            1.0000           +0.0000j            1.0000            0.0000\n",
      "MA.2           -3.6575           +0.0000j            3.6575            0.5000\n",
      "-----------------------------------------------------------------------------\n"
     ]
    }
   ],
   "source": [
    "# create a differenced series\n",
    "import numpy\n",
    "def difference(dataset, interval=1):\n",
    "    diff = list()\n",
    "    for i in range(interval, len(dataset)):\n",
    "        value = dataset[i] - dataset[i - interval]\n",
    "        diff.append(value)\n",
    "    return numpy.array(diff)\n",
    "X = series.values\n",
    "days_in_year = 365\n",
    "differenced = difference(X, days_in_year)\n",
    "# fit model\n",
    "model = ARIMA(differenced, order=(5,2,2))\n",
    "model_fit = model.fit(disp=0)\n",
    "# print summary of fit model\n",
    "print(model_fit.summary())"
   ]
  },
  {
   "cell_type": "markdown",
   "metadata": {},
   "source": [
    "## 11. Forcecast"
   ]
  },
  {
   "cell_type": "code",
   "execution_count": 97,
   "metadata": {},
   "outputs": [],
   "source": [
    "forecast = model_fit.predict()"
   ]
  },
  {
   "cell_type": "code",
   "execution_count": 98,
   "metadata": {},
   "outputs": [
    {
     "data": {
      "text/plain": [
       "array([-3.95189432e-02,  1.15370338e+01,  1.70732030e+01, ...,\n",
       "       -9.96605200e+02,  7.41066453e+01, -2.04141811e+03])"
      ]
     },
     "execution_count": 98,
     "metadata": {},
     "output_type": "execute_result"
    }
   ],
   "source": [
    "forecast"
   ]
  },
  {
   "cell_type": "code",
   "execution_count": 99,
   "metadata": {},
   "outputs": [
    {
     "data": {
      "image/png": "[encoded data removed]",
      "text/plain": [
       "<Figure size 432x288 with 1 Axes>"
      ]
     },
     "metadata": {},
     "output_type": "display_data"
    }
   ],
   "source": [
    "# Plot histogram\n",
    "np.histogram(forecast, bins=30, density=True)\n",
    "plt.hist(forecast, bins='auto') \n",
    "plt.show()"
   ]
  },
  {
   "cell_type": "code",
   "execution_count": 100,
   "metadata": {},
   "outputs": [
    {
     "data": {
      "text/plain": [
       "array([4859.48016392, 5242.28490943, 5140.08895749, 5253.21656243,\n",
       "       4990.19711937, 5212.10036078, 5139.38531187, 4946.8965984 ,\n",
       "       4891.23224428, 4765.47568037, 5041.57776826, 4744.17286954,\n",
       "       4689.73253502, 3711.01767515, 3999.10983903, 3832.117814  ,\n",
       "       3593.25299768, 4096.04151173, 3925.04296931, 4006.92844264,\n",
       "       3660.11570429, 4351.7010225 , 4003.48250806, 4022.57718246,\n",
       "       3963.89804844, 3297.67186783, 3466.64706469, 3532.97797962,\n",
       "       3780.5094388 , 3465.36279019, 3585.15708968])"
      ]
     },
     "execution_count": 100,
     "metadata": {},
     "output_type": "execute_result"
    }
   ],
   "source": [
    "predictions=model_fit.predict(1245, 1275, typ='levels')\n",
    "predictions"
   ]
  },
  {
   "cell_type": "code",
   "execution_count": 101,
   "metadata": {},
   "outputs": [
    {
     "data": {
      "text/html": [
       "<div>\n",
       "<style scoped>\n",
       "    .dataframe tbody tr th:only-of-type {\n",
       "        vertical-align: middle;\n",
       "    }\n",
       "\n",
       "    .dataframe tbody tr th {\n",
       "        vertical-align: top;\n",
       "    }\n",
       "\n",
       "    .dataframe thead th {\n",
       "        text-align: right;\n",
       "    }\n",
       "</style>\n",
       "<table border=\"1\" class=\"dataframe\">\n",
       "  <thead>\n",
       "    <tr style=\"text-align: right;\">\n",
       "      <th></th>\n",
       "      <th>DATE</th>\n",
       "      <th>SP500</th>\n",
       "      <th>GOLDAMGBD228NLBM</th>\n",
       "      <th>DCOILWTICO</th>\n",
       "      <th>DEXUSEU</th>\n",
       "      <th>BTC</th>\n",
       "    </tr>\n",
       "  </thead>\n",
       "  <tbody>\n",
       "    <tr>\n",
       "      <th>1235</th>\n",
       "      <td>2018-12-19</td>\n",
       "      <td>-215.22</td>\n",
       "      <td>51.05</td>\n",
       "      <td>-7.67</td>\n",
       "      <td>0.0134</td>\n",
       "      <td>3736.540039</td>\n",
       "    </tr>\n",
       "    <tr>\n",
       "      <th>1236</th>\n",
       "      <td>2018-12-20</td>\n",
       "      <td>-234.16</td>\n",
       "      <td>53.55</td>\n",
       "      <td>-10.52</td>\n",
       "      <td>0.0120</td>\n",
       "      <td>4137.660156</td>\n",
       "    </tr>\n",
       "    <tr>\n",
       "      <th>1237</th>\n",
       "      <td>2018-12-21</td>\n",
       "      <td>-313.58</td>\n",
       "      <td>47.00</td>\n",
       "      <td>-11.07</td>\n",
       "      <td>0.0078</td>\n",
       "      <td>3898.810059</td>\n",
       "    </tr>\n",
       "    <tr>\n",
       "      <th>1241</th>\n",
       "      <td>2018-12-27</td>\n",
       "      <td>-247.44</td>\n",
       "      <td>55.30</td>\n",
       "      <td>-12.01</td>\n",
       "      <td>0.0010</td>\n",
       "      <td>3646.090088</td>\n",
       "    </tr>\n",
       "    <tr>\n",
       "      <th>1242</th>\n",
       "      <td>2018-12-28</td>\n",
       "      <td>-204.99</td>\n",
       "      <td>53.70</td>\n",
       "      <td>-12.01</td>\n",
       "      <td>-0.0003</td>\n",
       "      <td>3947.860107</td>\n",
       "    </tr>\n",
       "  </tbody>\n",
       "</table>\n",
       "</div>"
      ],
      "text/plain": [
       "           DATE   SP500  GOLDAMGBD228NLBM  DCOILWTICO  DEXUSEU          BTC\n",
       "1235 2018-12-19 -215.22             51.05       -7.67   0.0134  3736.540039\n",
       "1236 2018-12-20 -234.16             53.55      -10.52   0.0120  4137.660156\n",
       "1237 2018-12-21 -313.58             47.00      -11.07   0.0078  3898.810059\n",
       "1241 2018-12-27 -247.44             55.30      -12.01   0.0010  3646.090088\n",
       "1242 2018-12-28 -204.99             53.70      -12.01  -0.0003  3947.860107"
      ]
     },
     "execution_count": 101,
     "metadata": {},
     "output_type": "execute_result"
    }
   ],
   "source": [
    "df.tail()"
   ]
  },
  {
   "cell_type": "code",
   "execution_count": 102,
   "metadata": {},
   "outputs": [
    {
     "data": {
      "text/plain": [
       "array([6.33230226, 6.1322043 , 6.17920884, ..., 8.26842667, 8.20141066,\n",
       "       8.28092897])"
      ]
     },
     "execution_count": 102,
     "metadata": {},
     "output_type": "execute_result"
    }
   ],
   "source": [
    "price_matrix"
   ]
  },
  {
   "cell_type": "code",
   "execution_count": 103,
   "metadata": {},
   "outputs": [
    {
     "data": {
      "text/plain": [
       "0       6.332302\n",
       "1       6.132204\n",
       "2       6.179209\n",
       "3       6.138699\n",
       "4       6.050606\n",
       "5       6.078353\n",
       "6       6.096635\n",
       "7       6.123873\n",
       "8       6.145387\n",
       "9       6.125427\n",
       "10      5.952282\n",
       "11      6.075668\n",
       "12      6.081419\n",
       "13      6.266118\n",
       "14      6.285905\n",
       "15      6.218600\n",
       "16      6.185220\n",
       "19      6.188880\n",
       "20      6.215188\n",
       "21      6.140940\n",
       "22      6.126585\n",
       "23      6.100588\n",
       "24      6.099489\n",
       "25      6.131509\n",
       "26      6.117370\n",
       "27      6.083702\n",
       "29      6.101551\n",
       "30      6.089294\n",
       "31      6.099085\n",
       "32      6.113461\n",
       "          ...   \n",
       "1206    8.771224\n",
       "1207    8.760608\n",
       "1209    8.754503\n",
       "1210    8.655471\n",
       "1211    8.638968\n",
       "1212    8.628067\n",
       "1213    8.478373\n",
       "1214    8.398817\n",
       "1215    8.432297\n",
       "1218    8.238693\n",
       "1219    8.248788\n",
       "1220    8.357857\n",
       "1221    8.363270\n",
       "1222    8.296464\n",
       "1223    8.261374\n",
       "1224    8.281076\n",
       "1226    8.156275\n",
       "1227    8.137563\n",
       "1228    8.151091\n",
       "1229    8.131831\n",
       "1230    8.156393\n",
       "1231    8.103225\n",
       "1232    8.081933\n",
       "1233    8.174193\n",
       "1234    8.220363\n",
       "1235    8.225915\n",
       "1236    8.327886\n",
       "1237    8.268427\n",
       "1241    8.201411\n",
       "1242    8.280929\n",
       "Name: BTC, Length: 1165, dtype: float64"
      ]
     },
     "execution_count": 103,
     "metadata": {},
     "output_type": "execute_result"
    }
   ],
   "source": [
    "lnprice"
   ]
  },
  {
   "cell_type": "markdown",
   "metadata": {},
   "source": [
    "## 12.Periodogram"
   ]
  },
  {
   "cell_type": "code",
   "execution_count": 104,
   "metadata": {},
   "outputs": [
    {
     "data": {
      "image/png": "[encoded data removed]",
      "text/plain": [
       "<Figure size 432x288 with 1 Axes>"
      ]
     },
     "metadata": {},
     "output_type": "display_data"
    }
   ],
   "source": [
    "import scipy\n",
    "f, Pxx_den=scipy.signal.periodogram(series, fs=1.0, window=None, nfft=None, detrend='constant', return_onesided=True, scaling='density', axis=-1)\n",
    "plt.semilogy(f, Pxx_den)\n",
    "plt.show()"
   ]
  },
  {
   "cell_type": "code",
   "execution_count": 105,
   "metadata": {},
   "outputs": [
    {
     "data": {
      "text/html": [
       "<div>\n",
       "<style scoped>\n",
       "    .dataframe tbody tr th:only-of-type {\n",
       "        vertical-align: middle;\n",
       "    }\n",
       "\n",
       "    .dataframe tbody tr th {\n",
       "        vertical-align: top;\n",
       "    }\n",
       "\n",
       "    .dataframe thead th {\n",
       "        text-align: right;\n",
       "    }\n",
       "</style>\n",
       "<table border=\"1\" class=\"dataframe\">\n",
       "  <thead>\n",
       "    <tr style=\"text-align: right;\">\n",
       "      <th></th>\n",
       "      <th>DATE</th>\n",
       "      <th>SP500</th>\n",
       "      <th>GOLDAMGBD228NLBM</th>\n",
       "      <th>DCOILWTICO</th>\n",
       "      <th>DEXUSEU</th>\n",
       "      <th>BTC</th>\n",
       "    </tr>\n",
       "  </thead>\n",
       "  <tbody>\n",
       "    <tr>\n",
       "      <th>518</th>\n",
       "      <td>2016-03-21</td>\n",
       "      <td>124.78</td>\n",
       "      <td>41.85</td>\n",
       "      <td>9.23</td>\n",
       "      <td>0.0120</td>\n",
       "      <td>411.109985</td>\n",
       "    </tr>\n",
       "    <tr>\n",
       "      <th>519</th>\n",
       "      <td>2016-03-22</td>\n",
       "      <td>131.97</td>\n",
       "      <td>47.40</td>\n",
       "      <td>10.68</td>\n",
       "      <td>0.0136</td>\n",
       "      <td>416.209991</td>\n",
       "    </tr>\n",
       "    <tr>\n",
       "      <th>520</th>\n",
       "      <td>2016-03-23</td>\n",
       "      <td>118.93</td>\n",
       "      <td>10.70</td>\n",
       "      <td>8.69</td>\n",
       "      <td>0.0047</td>\n",
       "      <td>416.980011</td>\n",
       "    </tr>\n",
       "    <tr>\n",
       "      <th>521</th>\n",
       "      <td>2016-03-24</td>\n",
       "      <td>90.44</td>\n",
       "      <td>12.80</td>\n",
       "      <td>6.77</td>\n",
       "      <td>0.0145</td>\n",
       "      <td>414.739990</td>\n",
       "    </tr>\n",
       "    <tr>\n",
       "      <th>524</th>\n",
       "      <td>2016-03-29</td>\n",
       "      <td>133.74</td>\n",
       "      <td>-2.30</td>\n",
       "      <td>5.07</td>\n",
       "      <td>0.0188</td>\n",
       "      <td>412.440002</td>\n",
       "    </tr>\n",
       "    <tr>\n",
       "      <th>525</th>\n",
       "      <td>2016-03-30</td>\n",
       "      <td>134.15</td>\n",
       "      <td>5.95</td>\n",
       "      <td>6.56</td>\n",
       "      <td>0.0309</td>\n",
       "      <td>415.660004</td>\n",
       "    </tr>\n",
       "    <tr>\n",
       "      <th>526</th>\n",
       "      <td>2016-03-31</td>\n",
       "      <td>108.04</td>\n",
       "      <td>-1.80</td>\n",
       "      <td>5.54</td>\n",
       "      <td>0.0364</td>\n",
       "      <td>415.640015</td>\n",
       "    </tr>\n",
       "    <tr>\n",
       "      <th>527</th>\n",
       "      <td>2016-04-01</td>\n",
       "      <td>124.73</td>\n",
       "      <td>1.10</td>\n",
       "      <td>3.71</td>\n",
       "      <td>0.0453</td>\n",
       "      <td>418.510010</td>\n",
       "    </tr>\n",
       "    <tr>\n",
       "      <th>528</th>\n",
       "      <td>2016-04-04</td>\n",
       "      <td>133.90</td>\n",
       "      <td>-19.15</td>\n",
       "      <td>1.56</td>\n",
       "      <td>0.0518</td>\n",
       "      <td>422.070007</td>\n",
       "    </tr>\n",
       "    <tr>\n",
       "      <th>529</th>\n",
       "      <td>2016-04-05</td>\n",
       "      <td>66.82</td>\n",
       "      <td>-8.50</td>\n",
       "      <td>0.13</td>\n",
       "      <td>0.0527</td>\n",
       "      <td>421.260010</td>\n",
       "    </tr>\n",
       "    <tr>\n",
       "      <th>530</th>\n",
       "      <td>2016-04-06</td>\n",
       "      <td>80.21</td>\n",
       "      <td>-3.60</td>\n",
       "      <td>3.17</td>\n",
       "      <td>0.0585</td>\n",
       "      <td>420.140015</td>\n",
       "    </tr>\n",
       "    <tr>\n",
       "      <th>531</th>\n",
       "      <td>2016-04-07</td>\n",
       "      <td>48.51</td>\n",
       "      <td>-4.45</td>\n",
       "      <td>2.74</td>\n",
       "      <td>0.0438</td>\n",
       "      <td>417.690002</td>\n",
       "    </tr>\n",
       "    <tr>\n",
       "      <th>532</th>\n",
       "      <td>2016-04-08</td>\n",
       "      <td>47.61</td>\n",
       "      <td>-36.50</td>\n",
       "      <td>3.83</td>\n",
       "      <td>0.0396</td>\n",
       "      <td>418.049988</td>\n",
       "    </tr>\n",
       "    <tr>\n",
       "      <th>533</th>\n",
       "      <td>2016-04-11</td>\n",
       "      <td>40.23</td>\n",
       "      <td>-20.35</td>\n",
       "      <td>2.56</td>\n",
       "      <td>0.0408</td>\n",
       "      <td>424.739990</td>\n",
       "    </tr>\n",
       "    <tr>\n",
       "      <th>534</th>\n",
       "      <td>2016-04-12</td>\n",
       "      <td>82.46</td>\n",
       "      <td>-14.90</td>\n",
       "      <td>5.45</td>\n",
       "      <td>0.0367</td>\n",
       "      <td>423.470001</td>\n",
       "    </tr>\n",
       "    <tr>\n",
       "      <th>535</th>\n",
       "      <td>2016-04-13</td>\n",
       "      <td>93.16</td>\n",
       "      <td>-12.50</td>\n",
       "      <td>4.08</td>\n",
       "      <td>0.0259</td>\n",
       "      <td>424.019989</td>\n",
       "    </tr>\n",
       "    <tr>\n",
       "      <th>536</th>\n",
       "      <td>2016-04-14</td>\n",
       "      <td>93.21</td>\n",
       "      <td>-6.95</td>\n",
       "      <td>3.68</td>\n",
       "      <td>0.0100</td>\n",
       "      <td>428.670013</td>\n",
       "    </tr>\n",
       "    <tr>\n",
       "      <th>537</th>\n",
       "      <td>2016-04-15</td>\n",
       "      <td>58.54</td>\n",
       "      <td>-32.50</td>\n",
       "      <td>1.89</td>\n",
       "      <td>0.0115</td>\n",
       "      <td>430.049988</td>\n",
       "    </tr>\n",
       "    <tr>\n",
       "      <th>538</th>\n",
       "      <td>2016-04-18</td>\n",
       "      <td>74.70</td>\n",
       "      <td>-18.85</td>\n",
       "      <td>2.54</td>\n",
       "      <td>0.0215</td>\n",
       "      <td>434.920013</td>\n",
       "    </tr>\n",
       "    <tr>\n",
       "      <th>539</th>\n",
       "      <td>2016-04-19</td>\n",
       "      <td>84.87</td>\n",
       "      <td>8.10</td>\n",
       "      <td>4.56</td>\n",
       "      <td>0.0263</td>\n",
       "      <td>441.160004</td>\n",
       "    </tr>\n",
       "    <tr>\n",
       "      <th>540</th>\n",
       "      <td>2016-04-20</td>\n",
       "      <td>75.18</td>\n",
       "      <td>14.65</td>\n",
       "      <td>4.29</td>\n",
       "      <td>0.0255</td>\n",
       "      <td>449.339996</td>\n",
       "    </tr>\n",
       "    <tr>\n",
       "      <th>541</th>\n",
       "      <td>2016-04-21</td>\n",
       "      <td>50.89</td>\n",
       "      <td>-11.95</td>\n",
       "      <td>3.01</td>\n",
       "      <td>-0.0015</td>\n",
       "      <td>445.279999</td>\n",
       "    </tr>\n",
       "    <tr>\n",
       "      <th>542</th>\n",
       "      <td>2016-04-22</td>\n",
       "      <td>42.00</td>\n",
       "      <td>-9.10</td>\n",
       "      <td>3.29</td>\n",
       "      <td>-0.0053</td>\n",
       "      <td>450.079987</td>\n",
       "    </tr>\n",
       "    <tr>\n",
       "      <th>543</th>\n",
       "      <td>2016-04-25</td>\n",
       "      <td>36.19</td>\n",
       "      <td>-13.40</td>\n",
       "      <td>1.76</td>\n",
       "      <td>0.0014</td>\n",
       "      <td>466.000000</td>\n",
       "    </tr>\n",
       "    <tr>\n",
       "      <th>544</th>\n",
       "      <td>2016-04-26</td>\n",
       "      <td>41.90</td>\n",
       "      <td>-17.30</td>\n",
       "      <td>1.07</td>\n",
       "      <td>0.0090</td>\n",
       "      <td>447.010010</td>\n",
       "    </tr>\n",
       "    <tr>\n",
       "      <th>545</th>\n",
       "      <td>2016-04-27</td>\n",
       "      <td>58.44</td>\n",
       "      <td>12.55</td>\n",
       "      <td>7.01</td>\n",
       "      <td>0.0148</td>\n",
       "      <td>448.480011</td>\n",
       "    </tr>\n",
       "    <tr>\n",
       "      <th>546</th>\n",
       "      <td>2016-04-28</td>\n",
       "      <td>39.87</td>\n",
       "      <td>40.15</td>\n",
       "      <td>7.89</td>\n",
       "      <td>0.0162</td>\n",
       "      <td>454.980011</td>\n",
       "    </tr>\n",
       "    <tr>\n",
       "      <th>547</th>\n",
       "      <td>2016-04-29</td>\n",
       "      <td>10.29</td>\n",
       "      <td>58.05</td>\n",
       "      <td>9.07</td>\n",
       "      <td>0.0237</td>\n",
       "      <td>448.529999</td>\n",
       "    </tr>\n",
       "    <tr>\n",
       "      <th>549</th>\n",
       "      <td>2016-05-03</td>\n",
       "      <td>-0.58</td>\n",
       "      <td>58.30</td>\n",
       "      <td>6.74</td>\n",
       "      <td>0.0178</td>\n",
       "      <td>445.799988</td>\n",
       "    </tr>\n",
       "    <tr>\n",
       "      <th>550</th>\n",
       "      <td>2016-05-04</td>\n",
       "      <td>-8.62</td>\n",
       "      <td>46.70</td>\n",
       "      <td>6.83</td>\n",
       "      <td>0.0096</td>\n",
       "      <td>448.079987</td>\n",
       "    </tr>\n",
       "    <tr>\n",
       "      <th>...</th>\n",
       "      <td>...</td>\n",
       "      <td>...</td>\n",
       "      <td>...</td>\n",
       "      <td>...</td>\n",
       "      <td>...</td>\n",
       "      <td>...</td>\n",
       "    </tr>\n",
       "    <tr>\n",
       "      <th>865</th>\n",
       "      <td>2017-07-19</td>\n",
       "      <td>35.91</td>\n",
       "      <td>-28.40</td>\n",
       "      <td>2.31</td>\n",
       "      <td>0.0241</td>\n",
       "      <td>2866.020020</td>\n",
       "    </tr>\n",
       "    <tr>\n",
       "      <th>866</th>\n",
       "      <td>2017-07-20</td>\n",
       "      <td>40.99</td>\n",
       "      <td>-23.70</td>\n",
       "      <td>2.26</td>\n",
       "      <td>0.0482</td>\n",
       "      <td>2675.080078</td>\n",
       "    </tr>\n",
       "    <tr>\n",
       "      <th>867</th>\n",
       "      <td>2017-07-21</td>\n",
       "      <td>39.39</td>\n",
       "      <td>-9.35</td>\n",
       "      <td>1.05</td>\n",
       "      <td>0.0461</td>\n",
       "      <td>2836.530029</td>\n",
       "    </tr>\n",
       "    <tr>\n",
       "      <th>868</th>\n",
       "      <td>2017-07-24</td>\n",
       "      <td>16.45</td>\n",
       "      <td>4.75</td>\n",
       "      <td>1.97</td>\n",
       "      <td>0.0482</td>\n",
       "      <td>2582.580078</td>\n",
       "    </tr>\n",
       "    <tr>\n",
       "      <th>869</th>\n",
       "      <td>2017-07-25</td>\n",
       "      <td>40.10</td>\n",
       "      <td>5.50</td>\n",
       "      <td>4.43</td>\n",
       "      <td>0.0532</td>\n",
       "      <td>2559.209961</td>\n",
       "    </tr>\n",
       "    <tr>\n",
       "      <th>870</th>\n",
       "      <td>2017-07-26</td>\n",
       "      <td>42.22</td>\n",
       "      <td>-1.65</td>\n",
       "      <td>6.10</td>\n",
       "      <td>0.0489</td>\n",
       "      <td>2691.879883</td>\n",
       "    </tr>\n",
       "    <tr>\n",
       "      <th>871</th>\n",
       "      <td>2017-07-27</td>\n",
       "      <td>40.92</td>\n",
       "      <td>10.65</td>\n",
       "      <td>6.52</td>\n",
       "      <td>0.0508</td>\n",
       "      <td>2806.750000</td>\n",
       "    </tr>\n",
       "    <tr>\n",
       "      <th>872</th>\n",
       "      <td>2017-07-28</td>\n",
       "      <td>33.80</td>\n",
       "      <td>3.30</td>\n",
       "      <td>6.86</td>\n",
       "      <td>0.0558</td>\n",
       "      <td>2733.500000</td>\n",
       "    </tr>\n",
       "    <tr>\n",
       "      <th>873</th>\n",
       "      <td>2017-07-31</td>\n",
       "      <td>31.23</td>\n",
       "      <td>25.50</td>\n",
       "      <td>6.97</td>\n",
       "      <td>0.0630</td>\n",
       "      <td>2746.989990</td>\n",
       "    </tr>\n",
       "    <tr>\n",
       "      <th>874</th>\n",
       "      <td>2017-08-01</td>\n",
       "      <td>56.97</td>\n",
       "      <td>16.65</td>\n",
       "      <td>4.94</td>\n",
       "      <td>0.0499</td>\n",
       "      <td>2720.530029</td>\n",
       "    </tr>\n",
       "    <tr>\n",
       "      <th>875</th>\n",
       "      <td>2017-08-02</td>\n",
       "      <td>36.88</td>\n",
       "      <td>15.05</td>\n",
       "      <td>4.86</td>\n",
       "      <td>0.0497</td>\n",
       "      <td>2809.989990</td>\n",
       "    </tr>\n",
       "    <tr>\n",
       "      <th>876</th>\n",
       "      <td>2017-08-03</td>\n",
       "      <td>52.46</td>\n",
       "      <td>15.20</td>\n",
       "      <td>4.15</td>\n",
       "      <td>0.0460</td>\n",
       "      <td>2878.489990</td>\n",
       "    </tr>\n",
       "    <tr>\n",
       "      <th>877</th>\n",
       "      <td>2017-08-04</td>\n",
       "      <td>53.42</td>\n",
       "      <td>26.05</td>\n",
       "      <td>3.55</td>\n",
       "      <td>0.0343</td>\n",
       "      <td>3262.800049</td>\n",
       "    </tr>\n",
       "    <tr>\n",
       "      <th>878</th>\n",
       "      <td>2017-08-07</td>\n",
       "      <td>48.37</td>\n",
       "      <td>35.65</td>\n",
       "      <td>4.26</td>\n",
       "      <td>0.0452</td>\n",
       "      <td>3429.379883</td>\n",
       "    </tr>\n",
       "    <tr>\n",
       "      <th>879</th>\n",
       "      <td>2017-08-08</td>\n",
       "      <td>65.17</td>\n",
       "      <td>37.15</td>\n",
       "      <td>3.55</td>\n",
       "      <td>0.0315</td>\n",
       "      <td>3348.790039</td>\n",
       "    </tr>\n",
       "    <tr>\n",
       "      <th>880</th>\n",
       "      <td>2017-08-09</td>\n",
       "      <td>48.84</td>\n",
       "      <td>47.55</td>\n",
       "      <td>5.34</td>\n",
       "      <td>0.0352</td>\n",
       "      <td>3425.669922</td>\n",
       "    </tr>\n",
       "    <tr>\n",
       "      <th>881</th>\n",
       "      <td>2017-08-10</td>\n",
       "      <td>10.78</td>\n",
       "      <td>71.35</td>\n",
       "      <td>4.14</td>\n",
       "      <td>0.0355</td>\n",
       "      <td>3654.370117</td>\n",
       "    </tr>\n",
       "    <tr>\n",
       "      <th>882</th>\n",
       "      <td>2017-08-11</td>\n",
       "      <td>15.79</td>\n",
       "      <td>76.40</td>\n",
       "      <td>3.75</td>\n",
       "      <td>0.0381</td>\n",
       "      <td>3871.620117</td>\n",
       "    </tr>\n",
       "    <tr>\n",
       "      <th>883</th>\n",
       "      <td>2017-08-14</td>\n",
       "      <td>22.59</td>\n",
       "      <td>61.70</td>\n",
       "      <td>2.11</td>\n",
       "      <td>0.0375</td>\n",
       "      <td>4161.660156</td>\n",
       "    </tr>\n",
       "    <tr>\n",
       "      <th>885</th>\n",
       "      <td>2017-08-16</td>\n",
       "      <td>20.28</td>\n",
       "      <td>48.75</td>\n",
       "      <td>0.74</td>\n",
       "      <td>0.0318</td>\n",
       "      <td>4278.919922</td>\n",
       "    </tr>\n",
       "    <tr>\n",
       "      <th>886</th>\n",
       "      <td>2017-08-17</td>\n",
       "      <td>-29.26</td>\n",
       "      <td>66.95</td>\n",
       "      <td>0.54</td>\n",
       "      <td>0.0284</td>\n",
       "      <td>4105.370117</td>\n",
       "    </tr>\n",
       "    <tr>\n",
       "      <th>887</th>\n",
       "      <td>2017-08-18</td>\n",
       "      <td>-33.59</td>\n",
       "      <td>65.40</td>\n",
       "      <td>2.57</td>\n",
       "      <td>0.0278</td>\n",
       "      <td>4150.450195</td>\n",
       "    </tr>\n",
       "    <tr>\n",
       "      <th>888</th>\n",
       "      <td>2017-08-21</td>\n",
       "      <td>-32.24</td>\n",
       "      <td>50.50</td>\n",
       "      <td>0.99</td>\n",
       "      <td>0.0236</td>\n",
       "      <td>4089.699951</td>\n",
       "    </tr>\n",
       "    <tr>\n",
       "      <th>889</th>\n",
       "      <td>2017-08-22</td>\n",
       "      <td>-21.32</td>\n",
       "      <td>45.25</td>\n",
       "      <td>0.55</td>\n",
       "      <td>0.0244</td>\n",
       "      <td>4141.089844</td>\n",
       "    </tr>\n",
       "    <tr>\n",
       "      <th>890</th>\n",
       "      <td>2017-08-23</td>\n",
       "      <td>-29.41</td>\n",
       "      <td>49.90</td>\n",
       "      <td>1.72</td>\n",
       "      <td>0.0168</td>\n",
       "      <td>4318.350098</td>\n",
       "    </tr>\n",
       "    <tr>\n",
       "      <th>891</th>\n",
       "      <td>2017-08-24</td>\n",
       "      <td>-33.57</td>\n",
       "      <td>38.65</td>\n",
       "      <td>1.46</td>\n",
       "      <td>0.0146</td>\n",
       "      <td>4364.410156</td>\n",
       "    </tr>\n",
       "    <tr>\n",
       "      <th>892</th>\n",
       "      <td>2017-08-25</td>\n",
       "      <td>-26.86</td>\n",
       "      <td>31.20</td>\n",
       "      <td>1.44</td>\n",
       "      <td>0.0232</td>\n",
       "      <td>4352.299805</td>\n",
       "    </tr>\n",
       "    <tr>\n",
       "      <th>894</th>\n",
       "      <td>2017-08-29</td>\n",
       "      <td>-30.83</td>\n",
       "      <td>71.40</td>\n",
       "      <td>-1.31</td>\n",
       "      <td>0.0369</td>\n",
       "      <td>4583.020020</td>\n",
       "    </tr>\n",
       "    <tr>\n",
       "      <th>895</th>\n",
       "      <td>2017-08-30</td>\n",
       "      <td>-20.24</td>\n",
       "      <td>65.20</td>\n",
       "      <td>-2.62</td>\n",
       "      <td>0.0295</td>\n",
       "      <td>4735.109863</td>\n",
       "    </tr>\n",
       "    <tr>\n",
       "      <th>896</th>\n",
       "      <td>2017-08-31</td>\n",
       "      <td>-3.77</td>\n",
       "      <td>43.75</td>\n",
       "      <td>-1.79</td>\n",
       "      <td>0.0238</td>\n",
       "      <td>4921.850098</td>\n",
       "    </tr>\n",
       "  </tbody>\n",
       "</table>\n",
       "<p>355 rows × 6 columns</p>\n",
       "</div>"
      ],
      "text/plain": [
       "          DATE   SP500  GOLDAMGBD228NLBM  DCOILWTICO  DEXUSEU          BTC\n",
       "518 2016-03-21  124.78             41.85        9.23   0.0120   411.109985\n",
       "519 2016-03-22  131.97             47.40       10.68   0.0136   416.209991\n",
       "520 2016-03-23  118.93             10.70        8.69   0.0047   416.980011\n",
       "521 2016-03-24   90.44             12.80        6.77   0.0145   414.739990\n",
       "524 2016-03-29  133.74             -2.30        5.07   0.0188   412.440002\n",
       "525 2016-03-30  134.15              5.95        6.56   0.0309   415.660004\n",
       "526 2016-03-31  108.04             -1.80        5.54   0.0364   415.640015\n",
       "527 2016-04-01  124.73              1.10        3.71   0.0453   418.510010\n",
       "528 2016-04-04  133.90            -19.15        1.56   0.0518   422.070007\n",
       "529 2016-04-05   66.82             -8.50        0.13   0.0527   421.260010\n",
       "530 2016-04-06   80.21             -3.60        3.17   0.0585   420.140015\n",
       "531 2016-04-07   48.51             -4.45        2.74   0.0438   417.690002\n",
       "532 2016-04-08   47.61            -36.50        3.83   0.0396   418.049988\n",
       "533 2016-04-11   40.23            -20.35        2.56   0.0408   424.739990\n",
       "534 2016-04-12   82.46            -14.90        5.45   0.0367   423.470001\n",
       "535 2016-04-13   93.16            -12.50        4.08   0.0259   424.019989\n",
       "536 2016-04-14   93.21             -6.95        3.68   0.0100   428.670013\n",
       "537 2016-04-15   58.54            -32.50        1.89   0.0115   430.049988\n",
       "538 2016-04-18   74.70            -18.85        2.54   0.0215   434.920013\n",
       "539 2016-04-19   84.87              8.10        4.56   0.0263   441.160004\n",
       "540 2016-04-20   75.18             14.65        4.29   0.0255   449.339996\n",
       "541 2016-04-21   50.89            -11.95        3.01  -0.0015   445.279999\n",
       "542 2016-04-22   42.00             -9.10        3.29  -0.0053   450.079987\n",
       "543 2016-04-25   36.19            -13.40        1.76   0.0014   466.000000\n",
       "544 2016-04-26   41.90            -17.30        1.07   0.0090   447.010010\n",
       "545 2016-04-27   58.44             12.55        7.01   0.0148   448.480011\n",
       "546 2016-04-28   39.87             40.15        7.89   0.0162   454.980011\n",
       "547 2016-04-29   10.29             58.05        9.07   0.0237   448.529999\n",
       "549 2016-05-03   -0.58             58.30        6.74   0.0178   445.799988\n",
       "550 2016-05-04   -8.62             46.70        6.83   0.0096   448.079987\n",
       "..         ...     ...               ...         ...      ...          ...\n",
       "865 2017-07-19   35.91            -28.40        2.31   0.0241  2866.020020\n",
       "866 2017-07-20   40.99            -23.70        2.26   0.0482  2675.080078\n",
       "867 2017-07-21   39.39             -9.35        1.05   0.0461  2836.530029\n",
       "868 2017-07-24   16.45              4.75        1.97   0.0482  2582.580078\n",
       "869 2017-07-25   40.10              5.50        4.43   0.0532  2559.209961\n",
       "870 2017-07-26   42.22             -1.65        6.10   0.0489  2691.879883\n",
       "871 2017-07-27   40.92             10.65        6.52   0.0508  2806.750000\n",
       "872 2017-07-28   33.80              3.30        6.86   0.0558  2733.500000\n",
       "873 2017-07-31   31.23             25.50        6.97   0.0630  2746.989990\n",
       "874 2017-08-01   56.97             16.65        4.94   0.0499  2720.530029\n",
       "875 2017-08-02   36.88             15.05        4.86   0.0497  2809.989990\n",
       "876 2017-08-03   52.46             15.20        4.15   0.0460  2878.489990\n",
       "877 2017-08-04   53.42             26.05        3.55   0.0343  3262.800049\n",
       "878 2017-08-07   48.37             35.65        4.26   0.0452  3429.379883\n",
       "879 2017-08-08   65.17             37.15        3.55   0.0315  3348.790039\n",
       "880 2017-08-09   48.84             47.55        5.34   0.0352  3425.669922\n",
       "881 2017-08-10   10.78             71.35        4.14   0.0355  3654.370117\n",
       "882 2017-08-11   15.79             76.40        3.75   0.0381  3871.620117\n",
       "883 2017-08-14   22.59             61.70        2.11   0.0375  4161.660156\n",
       "885 2017-08-16   20.28             48.75        0.74   0.0318  4278.919922\n",
       "886 2017-08-17  -29.26             66.95        0.54   0.0284  4105.370117\n",
       "887 2017-08-18  -33.59             65.40        2.57   0.0278  4150.450195\n",
       "888 2017-08-21  -32.24             50.50        0.99   0.0236  4089.699951\n",
       "889 2017-08-22  -21.32             45.25        0.55   0.0244  4141.089844\n",
       "890 2017-08-23  -29.41             49.90        1.72   0.0168  4318.350098\n",
       "891 2017-08-24  -33.57             38.65        1.46   0.0146  4364.410156\n",
       "892 2017-08-25  -26.86             31.20        1.44   0.0232  4352.299805\n",
       "894 2017-08-29  -30.83             71.40       -1.31   0.0369  4583.020020\n",
       "895 2017-08-30  -20.24             65.20       -2.62   0.0295  4735.109863\n",
       "896 2017-08-31   -3.77             43.75       -1.79   0.0238  4921.850098\n",
       "\n",
       "[355 rows x 6 columns]"
      ]
     },
     "execution_count": 105,
     "metadata": {},
     "output_type": "execute_result"
    }
   ],
   "source": [
    "newbitcoin = df[488:843]\n",
    "newbitcoin"
   ]
  },
  {
   "cell_type": "markdown",
   "metadata": {},
   "source": [
    "## 13"
   ]
  },
  {
   "cell_type": "code",
   "execution_count": 106,
   "metadata": {},
   "outputs": [
    {
     "data": {
      "image/png": "[encoded data removed]",
      "text/plain": [
       "<Figure size 432x288 with 1 Axes>"
      ]
     },
     "metadata": {},
     "output_type": "display_data"
    }
   ],
   "source": [
    "from pandas import Series\n",
    "from statsmodels.graphics.tsaplots import plot_acf\n",
    "from statsmodels.graphics.tsaplots import plot_pacf\n",
    "from matplotlib import pyplot\n",
    "\n",
    "price = newbitcoin.iloc[:,-1].values\n",
    "date = newbitcoin.iloc[:,0].values\n",
    "plot_acf(price, ax=pyplot.gca())\n",
    "pyplot.show()"
   ]
  },
  {
   "cell_type": "code",
   "execution_count": 107,
   "metadata": {},
   "outputs": [
    {
     "name": "stderr",
     "output_type": "stream",
     "text": [
      "C:\\Users\\Siddarth\\Anaconda3\\lib\\site-packages\\statsmodels\\regression\\linear_model.py:1283: RuntimeWarning: invalid value encountered in sqrt\n",
      "  return rho, np.sqrt(sigmasq)\n"
     ]
    },
    {
     "data": {
      "image/png": "[encoded data removed]",
      "text/plain": [
       "<Figure size 432x288 with 1 Axes>"
      ]
     },
     "metadata": {},
     "output_type": "display_data"
    }
   ],
   "source": [
    "plot_pacf(price, ax=pyplot.gca())\n",
    "pyplot.show()"
   ]
  },
  {
   "cell_type": "markdown",
   "metadata": {},
   "source": [
    "## 14"
   ]
  },
  {
   "cell_type": "code",
   "execution_count": 108,
   "metadata": {},
   "outputs": [],
   "source": [
    "from statsmodels.tsa.arima_model import ARIMA\n",
    "xarima = ARIMA(price,order=(1,0,0)).fit()"
   ]
  },
  {
   "cell_type": "code",
   "execution_count": 109,
   "metadata": {},
   "outputs": [
    {
     "data": {
      "text/plain": [
       "array([4920.08077086, 4918.31272071, 4916.54594662, 4914.78044768,\n",
       "       4913.01622295, 4911.25327153, 4909.49159249, 4907.73118492,\n",
       "       4905.97204789, 4904.21418049, 4902.45758181, 4900.70225092,\n",
       "       4898.94818692, 4897.19538889, 4895.44385591, 4893.69358708,\n",
       "       4891.94458147, 4890.19683818, 4888.4503563 , 4886.70513492,\n",
       "       4884.96117312, 4883.21847   , 4881.47702465, 4879.73683617,\n",
       "       4877.99790363, 4876.26022615, 4874.5238028 , 4872.7886327 ,\n",
       "       4871.05471492, 4869.32204858])"
      ]
     },
     "execution_count": 109,
     "metadata": {},
     "output_type": "execute_result"
    }
   ],
   "source": [
    "#from statsmodels.tsa.arima_model import ARMAResults\n",
    "\n",
    "x= xarima.forecast(steps=30)[0]\n",
    "x\n",
    "\n"
   ]
  }
 ],
 "metadata": {
  "kernelspec": {
   "display_name": "Python 3",
   "language": "python",
   "name": "python3"
  },
  "language_info": {
   "codemirror_mode": {
    "name": "ipython",
    "version": 3
   },
   "file_extension": ".py",
   "mimetype": "text/x-python",
   "name": "python",
   "nbconvert_exporter": "python",
   "pygments_lexer": "ipython3",
   "version": "3.6.5"
  }
 },
 "nbformat": 4,
 "nbformat_minor": 2
}
