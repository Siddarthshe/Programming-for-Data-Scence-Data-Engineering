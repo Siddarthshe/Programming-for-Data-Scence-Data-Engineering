{
 "cells": [
  {
   "cell_type": "code",
   "execution_count": 23,
   "metadata": {},
   "outputs": [],
   "source": [
    "import numpy as np\n",
    "import pandas as pd\n",
    "from scipy.stats import norm\n",
    "\n",
    "Flogit = lambda x: 1/(1+np.exp(-x))\n",
    "flogit = lambda x: Flogit(x)*(1-Flogit(x))\n",
    "def NewtonRhapson(xinit,J,H):\n",
    "    x = xinit\n",
    "    for i in range(1000):\n",
    "        #upd = np.linalg.inv(H(x)).dot(J(x))\n",
    "        upd = np.linalg.solve(H(x),J(x))\n",
    "        x -= upd\n",
    "        if (np.power(upd,2)).sum()<1e-16: return(x,J(x),H(x),i)\n",
    "    raise Exception('did not converge')\n",
    "\n",
    "    \n",
    "def kfold(model,stat,x,y,k):\n",
    "    n = y.shape[0]\n",
    "    perm = np.random.permutation(n)\n",
    "    siz = n//k\n",
    "    mod = model(x,y)\n",
    "    r = stat(mod,x,y).size\n",
    "    outp = np.zeros((r,1))\n",
    "    for i in range(k):\n",
    "        test = perm[siz*i:siz*(i+1)]\n",
    "        trainl = perm[:siz*i]\n",
    "        trainu = perm[siz*(i+1):]\n",
    "        train = np.hstack((trainl,trainu))\n",
    "        mod = model(x[train,:],y[train])\n",
    "        outp += stat(mod,x[test,:],y[test])\n",
    "    return outp/k\n",
    "\n",
    "class logit:\n",
    "    def __init__(self,x,y):\n",
    "        n = y.shape[0]\n",
    "        ones = np.ones((n,1))\n",
    "        x = np.hstack((ones,x))\n",
    "        r = x.shape[1]\n",
    "        (self.n,self.r) = (n,r)\n",
    "        self.y = y\n",
    "        self.x = x\n",
    "        def multifunction(b):\n",
    "            logL = 0\n",
    "            dlogL = 0\n",
    "            ddlogL = 0\n",
    "            for i in range(n):\n",
    "                xcur = x[i,:].reshape(-1,1)\n",
    "                inner = xcur.T.dot(b)\n",
    "                Fx = Flogit(inner)\n",
    "                logL += y[i]*np.log(Fx)+(1-y[i])*np.log(1-Fx)\n",
    "                dlogL += (y[i]-Fx)*xcur\n",
    "                ddlogL -= flogit(inner)*(xcur.dot(xcur.T))\n",
    "            return(logL, dlogL, ddlogL)\n",
    "        b = np.zeros((r,1))\n",
    "        jac = lambda x: multifunction(x)[1]\n",
    "        hess = lambda x: multifunction(x)[2]\n",
    "        (b,J,H,it) = NewtonRhapson(b,jac,hess)\n",
    "        self.b = b.reshape(-1,1)\n",
    "        self.vb = -np.linalg.inv(H)\n",
    "        e = y.reshape(-1,1) - Flogit(x.dot(b)).reshape(-1,1)\n",
    "        self.resid = e\n",
    "        self.se = np.sqrt(np.diagonal(self.vb)).reshape(-1,1)\n",
    "        self.tstat = np.divide(self.b,self.se)\n",
    "        self.pval = 2*norm.cdf(-np.abs(self.tstat))\n",
    "        self.logl = multifunction(b)[0][0,0]\n",
    "        self.aic = 2*self.r-2*self.logl\n",
    "        self.bic = np.log(self.n)*self.r-2*self.logl\n",
    "        def multifunction(b):\n",
    "            logL = 0\n",
    "            dlogL = 0\n",
    "            ddlogL = 0\n",
    "            for i in range(n):\n",
    "                xcur = np.ones((1,1))\n",
    "                inner = xcur.T.dot(b)\n",
    "                Fx = Flogit(inner)\n",
    "                logL += y[i]*np.log(Fx)+(1-y[i])*np.log(1-Fx)\n",
    "                dlogL += (y[i]-Fx)*xcur\n",
    "                ddlogL -= flogit(inner)*(xcur.dot(xcur.T))\n",
    "            return(logL, dlogL, ddlogL)\n",
    "        b = np.zeros((1,1))\n",
    "        (b,J,H,it) = NewtonRhapson(b,jac,hess)\n",
    "        self.nulllike = multifunction(b)[0][0,0]\n",
    "        self.deviance = 2*(self.logl-self.nulllike)\n",
    "        self.mcfrsq = 1-self.logl/self.nulllike\n",
    "        Fhat = Flogit(x.dot(self.b))\n",
    "        self.blrsq = ((y*Fhat)/n)+(1-y)*(1-Fhat)\n",
    "        self.vzrsq = 1-(((y-Fhat)**2)/((y-np.mean(y))**2))\n",
    "        l=n/(2*self.logl)\n",
    "        self.efrsq = ((l-1)/(l-(self.mcfrsq)**2))*(self.mcfrsq)**2\n",
    "        self.mzrsq = (x*b-np.mean(x)*b)**2/(n+(x*b-np.mean(x)*b)**2)\n",
    "    def predict(self,*args):\n",
    "        if len(args)>=2:\n",
    "            raise Exception('Predict takes 0 or 1 argument')\n",
    "        elif len(args)==0:\n",
    "            newx = self.x\n",
    "        else:\n",
    "            m = args[0].shape[0]\n",
    "            ones = np.ones((m,1))\n",
    "            newx = np.hstack((ones,args[0]))\n",
    "        return Flogit(np.dot(newx,self.b))\n",
    "    def tidy(self):\n",
    "        df = [self.b,self.se,self.tstat,self.pval]\n",
    "        df = [x.reshape(-1,1) for x in df]\n",
    "        df = np.hstack(df)\n",
    "        df = pd.DataFrame(df,columns=['est','std.err','t.stat','p.val'])\n",
    "        return df\n",
    "    def glance(self):\n",
    "        df = pd.DataFrame(columns=['mcfadden.rsq','r','logl',\\\n",
    "                                   'aic','bic','deviance','df',\\\n",
    "                                   'bl.rsq','vz.rsq','ef.rsq','mz.rsq'])\n",
    "        df.loc[0] = [self.mcfrsq,self.r,self.logl,self.aic,\\\n",
    "                     self.bic,self.deviance,self.n-self.r,\\\n",
    "                    self.blrsq,self.vzrsq,self.efrsq,self.mzrsq]\n",
    "        return df\n",
    "    def mspe(self,xtest,ytest):\n",
    "        err = ytest - self.predict(xtest)\n",
    "        return np.array((err**2).mean())\n",
    "    \n"
   ]
  },
  {
   "cell_type": "code",
   "execution_count": 24,
   "metadata": {},
   "outputs": [],
   "source": [
    "bwght = pd.read_csv('BWGHT.csv')\n",
    "bwght['smokes'] = (bwght['cigs']>0).astype(int)"
   ]
  },
  {
   "cell_type": "code",
   "execution_count": 25,
   "metadata": {},
   "outputs": [
    {
     "data": {
      "text/html": [
       "<div>\n",
       "<style scoped>\n",
       "    .dataframe tbody tr th:only-of-type {\n",
       "        vertical-align: middle;\n",
       "    }\n",
       "\n",
       "    .dataframe tbody tr th {\n",
       "        vertical-align: top;\n",
       "    }\n",
       "\n",
       "    .dataframe thead th {\n",
       "        text-align: right;\n",
       "    }\n",
       "</style>\n",
       "<table border=\"1\" class=\"dataframe\">\n",
       "  <thead>\n",
       "    <tr style=\"text-align: right;\">\n",
       "      <th></th>\n",
       "      <th>mcfadden.rsq</th>\n",
       "      <th>r</th>\n",
       "      <th>logl</th>\n",
       "      <th>aic</th>\n",
       "      <th>bic</th>\n",
       "      <th>deviance</th>\n",
       "      <th>df</th>\n",
       "      <th>bl.rsq</th>\n",
       "      <th>vz.rsq</th>\n",
       "      <th>ef.rsq</th>\n",
       "      <th>mz.rsq</th>\n",
       "    </tr>\n",
       "  </thead>\n",
       "  <tbody>\n",
       "    <tr>\n",
       "      <th>0</th>\n",
       "      <td>0.04798</td>\n",
       "      <td>3</td>\n",
       "      <td>-564.80598</td>\n",
       "      <td>1135.61196</td>\n",
       "      <td>1151.318818</td>\n",
       "      <td>56.930245</td>\n",
       "      <td>1385</td>\n",
       "      <td>[[0.768024402253501, 0.768024402253501, 0.7680...</td>\n",
       "      <td>[[-1.3067037163627435, -1.3067037163627435, -1...</td>\n",
       "      <td>0.004168</td>\n",
       "      <td>[[0.1537958233852185, 0.0215818984146378, 0.15...</td>\n",
       "    </tr>\n",
       "  </tbody>\n",
       "</table>\n",
       "</div>"
      ],
      "text/plain": [
       "   mcfadden.rsq  r       logl         aic          bic   deviance    df  \\\n",
       "0       0.04798  3 -564.80598  1135.61196  1151.318818  56.930245  1385   \n",
       "\n",
       "                                              bl.rsq  \\\n",
       "0  [[0.768024402253501, 0.768024402253501, 0.7680...   \n",
       "\n",
       "                                              vz.rsq    ef.rsq  \\\n",
       "0  [[-1.3067037163627435, -1.3067037163627435, -1...  0.004168   \n",
       "\n",
       "                                              mz.rsq  \n",
       "0  [[0.1537958233852185, 0.0215818984146378, 0.15...  "
      ]
     },
     "execution_count": 25,
     "metadata": {},
     "output_type": "execute_result"
    }
   ],
   "source": [
    "y = bwght['smokes'].values\n",
    "x = (bwght['faminc'],bwght['white'])\n",
    "x = pd.concat(x,1)\n",
    "x = x.values\n",
    "logit(x,y).glance()"
   ]
  },
  {
   "cell_type": "code",
   "execution_count": 7,
   "metadata": {},
   "outputs": [],
   "source": [
    "np.random.seed(75080)\n",
    "x = np.random.normal(size=(1000,1))\n",
    "e = np.random.normal(size=(1000,1))\n",
    "y = ((2*x+e)>0).astype(int)"
   ]
  },
  {
   "cell_type": "code",
   "execution_count": 8,
   "metadata": {},
   "outputs": [
    {
     "ename": "NameError",
     "evalue": "name 'logitclassifier' is not defined",
     "traceback": [
      "\u001b[1;31m---------------------------------------------------------------------------\u001b[0m",
      "\u001b[1;31mNameError\u001b[0m                                 Traceback (most recent call last)",
      "\u001b[1;32m<ipython-input-8-2a38cc178b6e>\u001b[0m in \u001b[0;36m<module>\u001b[1;34m\u001b[0m\n\u001b[0;32m      1\u001b[0m \u001b[0mnp\u001b[0m\u001b[1;33m.\u001b[0m\u001b[0mrandom\u001b[0m\u001b[1;33m.\u001b[0m\u001b[0mseed\u001b[0m\u001b[1;33m(\u001b[0m\u001b[1;36m75080\u001b[0m\u001b[1;33m)\u001b[0m\u001b[1;33m\u001b[0m\u001b[0m\n\u001b[1;32m----> 2\u001b[1;33m \u001b[0mkfold\u001b[0m\u001b[1;33m(\u001b[0m\u001b[0mlogitclassifier\u001b[0m\u001b[1;33m,\u001b[0m\u001b[0mlogitclassifier\u001b[0m\u001b[1;33m.\u001b[0m\u001b[0mmspe\u001b[0m\u001b[1;33m,\u001b[0m\u001b[0mx\u001b[0m\u001b[1;33m,\u001b[0m\u001b[0my\u001b[0m\u001b[1;33m,\u001b[0m\u001b[1;36m10\u001b[0m\u001b[1;33m)\u001b[0m\u001b[1;33m\u001b[0m\u001b[0m\n\u001b[0m",
      "\u001b[1;31mNameError\u001b[0m: name 'logitclassifier' is not defined"
     ],
     "output_type": "error"
    }
   ],
   "source": [
    "np.random.seed(75080)\n",
    "kfold(logitclassifier,logitclassifier.mspe,x,y,10)"
   ]
  },
  {
   "cell_type": "code",
   "execution_count": 9,
   "metadata": {},
   "outputs": [
    {
     "ename": "NameError",
     "evalue": "name 'logitclassifier' is not defined",
     "traceback": [
      "\u001b[1;31m---------------------------------------------------------------------------\u001b[0m",
      "\u001b[1;31mNameError\u001b[0m                                 Traceback (most recent call last)",
      "\u001b[1;32m<ipython-input-9-932cf9ea36de>\u001b[0m in \u001b[0;36m<module>\u001b[1;34m\u001b[0m\n\u001b[0;32m      1\u001b[0m \u001b[0mnp\u001b[0m\u001b[1;33m.\u001b[0m\u001b[0mrandom\u001b[0m\u001b[1;33m.\u001b[0m\u001b[0mseed\u001b[0m\u001b[1;33m(\u001b[0m\u001b[1;36m75080\u001b[0m\u001b[1;33m)\u001b[0m\u001b[1;33m\u001b[0m\u001b[0m\n\u001b[1;32m----> 2\u001b[1;33m \u001b[0mkfold\u001b[0m\u001b[1;33m(\u001b[0m\u001b[0mlogitclassifier\u001b[0m\u001b[1;33m,\u001b[0m\u001b[0mlogitclassifier\u001b[0m\u001b[1;33m.\u001b[0m\u001b[0maccuracy\u001b[0m\u001b[1;33m,\u001b[0m\u001b[0mx\u001b[0m\u001b[1;33m,\u001b[0m\u001b[0my\u001b[0m\u001b[1;33m,\u001b[0m\u001b[1;36m10\u001b[0m\u001b[1;33m)\u001b[0m\u001b[1;33m\u001b[0m\u001b[0m\n\u001b[0m",
      "\u001b[1;31mNameError\u001b[0m: name 'logitclassifier' is not defined"
     ],
     "output_type": "error"
    }
   ],
   "source": [
    "np.random.seed(75080)\n",
    "kfold(logitclassifier,logitclassifier.accuracy,x,y,10)"
   ]
  },
  {
   "cell_type": "code",
   "execution_count": 9,
   "metadata": {},
   "outputs": [
    {
     "data": {
      "text/plain": [
       "array([[0.87811591]])"
      ]
     },
     "execution_count": 9,
     "metadata": {},
     "output_type": "execute_result"
    }
   ],
   "source": [
    "np.random.seed(75080)\n",
    "kfold(logitclassifier,logitclassifier.F1,x,y,10)"
   ]
  }
 ],
 "metadata": {
  "kernelspec": {
   "display_name": "Python 3",
   "language": "python",
   "name": "python3"
  },
  "language_info": {
   "codemirror_mode": {
    "name": "ipython",
    "version": 3
   },
   "file_extension": ".py",
   "mimetype": "text/x-python",
   "name": "python",
   "nbconvert_exporter": "python",
   "pygments_lexer": "ipython3",
   "version": "3.6.0"
  }
 },
 "nbformat": 4,
 "nbformat_minor": 2
}
