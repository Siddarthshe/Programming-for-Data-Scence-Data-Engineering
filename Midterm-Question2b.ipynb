{
 "cells": [
  {
   "cell_type": "code",
   "execution_count": 1,
   "metadata": {},
   "outputs": [],
   "source": [
    "import numpy as np\n",
    "import pandas as pd\n",
    "from lec6code import *\n",
    "from scipy.special import *"
   ]
  },
  {
   "cell_type": "code",
   "execution_count": 2,
   "metadata": {},
   "outputs": [],
   "source": [
    "def betagmm(data):\n",
    "    # Write code here\n",
    "def betamle(data,xinit):\n",
    "    # Write code here"
   ]
  },
  {
   "cell_type": "code",
   "execution_count": 3,
   "metadata": {},
   "outputs": [
    {
     "data": {
      "text/html": [
       "<div>\n",
       "<style scoped>\n",
       "    .dataframe tbody tr th:only-of-type {\n",
       "        vertical-align: middle;\n",
       "    }\n",
       "\n",
       "    .dataframe tbody tr th {\n",
       "        vertical-align: top;\n",
       "    }\n",
       "\n",
       "    .dataframe thead th {\n",
       "        text-align: right;\n",
       "    }\n",
       "</style>\n",
       "<table border=\"1\" class=\"dataframe\">\n",
       "  <thead>\n",
       "    <tr style=\"text-align: right;\">\n",
       "      <th></th>\n",
       "      <th>param</th>\n",
       "      <th>gmm</th>\n",
       "      <th>mle</th>\n",
       "      <th>mle_lower</th>\n",
       "      <th>mle_upper</th>\n",
       "    </tr>\n",
       "  </thead>\n",
       "  <tbody>\n",
       "    <tr>\n",
       "      <th>0</th>\n",
       "      <td>alpha</td>\n",
       "      <td>5.329913207442092</td>\n",
       "      <td>5.195719349466759</td>\n",
       "      <td>3.7791850399250837</td>\n",
       "      <td>6.612253659008434</td>\n",
       "    </tr>\n",
       "    <tr>\n",
       "      <th>1</th>\n",
       "      <td>beta</td>\n",
       "      <td>3.8991119221166426</td>\n",
       "      <td>3.788828364134886</td>\n",
       "      <td>2.774153598647147</td>\n",
       "      <td>4.803503129622625</td>\n",
       "    </tr>\n",
       "  </tbody>\n",
       "</table>\n",
       "</div>"
      ],
      "text/plain": [
       "   param                 gmm                mle           mle_lower  \\\n",
       "0  alpha   5.329913207442092  5.195719349466759  3.7791850399250837   \n",
       "1   beta  3.8991119221166426  3.788828364134886   2.774153598647147   \n",
       "\n",
       "           mle_upper  \n",
       "0  6.612253659008434  \n",
       "1  4.803503129622625  "
      ]
     },
     "execution_count": 3,
     "metadata": {},
     "output_type": "execute_result"
    }
   ],
   "source": [
    "np.random.seed(75080)\n",
    "y = np.random.beta(6,4,size=(100,1))\n",
    "bgmm = betagmm(y)\n",
    "mle = betamle(y,bgmm)\n",
    "bmle = mle[0]\n",
    "vb = mle[1]\n",
    "se = np.sqrt(np.diagonal(vb)).reshape(-1,1)\n",
    "confint = np.hstack((bmle-1.96*se,bmle+1.96*se))\n",
    "df = np.matrix([['alpha'],['beta']])\n",
    "df = (df,bgmm,bmle,confint)\n",
    "df = np.hstack(df)\n",
    "df = pd.DataFrame(df)\n",
    "df.columns = ['param','gmm','mle','mle_lower','mle_upper']\n",
    "df"
   ]
  }
 ],
 "metadata": {
  "kernelspec": {
   "display_name": "Python 3",
   "language": "python",
   "name": "python3"
  },
  "language_info": {
   "codemirror_mode": {
    "name": "ipython",
    "version": 3
   },
   "file_extension": ".py",
   "mimetype": "text/x-python",
   "name": "python",
   "nbconvert_exporter": "python",
   "pygments_lexer": "ipython3",
   "version": "3.6.5"
  }
 },
 "nbformat": 4,
 "nbformat_minor": 2
}
