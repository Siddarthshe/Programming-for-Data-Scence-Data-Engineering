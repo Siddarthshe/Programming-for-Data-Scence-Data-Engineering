{
 "cells": [
  {
   "cell_type": "code",
   "execution_count": 517,
   "metadata": {},
   "outputs": [],
   "source": [
    "import numpy as np\n",
    "import pandas as pd\n",
    "import random as rd\n",
    "import matplotlib.pyplot as plt"
   ]
  },
  {
   "cell_type": "markdown",
   "metadata": {},
   "source": [
    "## Question2 part 1"
   ]
  },
  {
   "cell_type": "code",
   "execution_count": 518,
   "metadata": {},
   "outputs": [],
   "source": [
    "def montecarlo():\n",
    "    e=np.random.normal(0,1,100)\n",
    "    y=[]\n",
    "    y=[0]*100\n",
    "    for t in range(1,100):\n",
    "        y[t]=y[t-1]+e[t]\n",
    "        y=np.array(y)\n",
    "    return(y)"
   ]
  },
  {
   "cell_type": "code",
   "execution_count": 519,
   "metadata": {},
   "outputs": [
    {
     "name": "stdout",
     "output_type": "stream",
     "text": [
      "[  0.           1.68775439   2.54694678   1.54106102   0.49514972\n",
      "   1.31484166  -0.49906813  -0.57840267   1.73780673   1.4900341\n",
      "  -0.20297934  -0.20631242  -0.40619918  -0.83105086  -1.35914419\n",
      "  -2.67790374  -3.84577152  -3.8061516   -5.04976637  -4.51624364\n",
      "  -3.74692093  -2.77474002  -2.0792882   -2.59058709  -4.15835204\n",
      "  -4.02597945  -4.99103897  -5.71959938  -5.13271516  -5.49453877\n",
      "  -6.07767916  -6.17137838  -6.31162089  -8.57997845  -7.75007027\n",
      "  -7.51567569  -8.43379243  -7.5062343   -8.71536969  -8.97374726\n",
      " -10.00754745  -8.88915436  -8.92005072  -8.00433659  -8.02192666\n",
      "  -8.31672581  -8.24707286  -8.5229687   -7.90357826  -7.17448698\n",
      "  -8.01264463 -10.09390523 -10.11336993  -8.89647082  -8.88661744\n",
      " -10.35964941  -9.54377782  -9.62819044  -9.12917815  -9.21886118\n",
      "  -7.91649673  -8.15368153  -8.51389609 -10.18444777 -10.71718914\n",
      " -11.66169383 -11.17803823 -10.23135067 -10.7729217  -11.34995465\n",
      " -11.85899675 -12.76913447 -12.61170199 -13.73100463 -12.32924901\n",
      " -12.92968642 -12.9422178  -14.63954178 -14.2898976  -15.06019649\n",
      " -15.01065274 -15.38872565 -16.25460222 -16.04245721 -16.81241213\n",
      " -18.12348319 -19.25977788 -19.20690018 -19.84220585 -19.32608551\n",
      " -18.5390762  -19.03565216 -17.89684235 -17.80021047 -17.52818634\n",
      " -16.80935081 -16.46111031 -15.86461534 -14.68466288 -15.48177638]\n"
     ]
    }
   ],
   "source": [
    "r=montecarlo()\n",
    "print(r)"
   ]
  },
  {
   "cell_type": "code",
   "execution_count": 520,
   "metadata": {},
   "outputs": [
    {
     "data": {
      "text/plain": [
       "(array([ 9.,  9.,  6.,  9., 18., 16.,  9.,  9.,  8.,  7.]),\n",
       " array([-19.84220585, -17.60329058, -15.36437532, -13.12546006,\n",
       "        -10.8865448 ,  -8.64762954,  -6.40871427,  -4.16979901,\n",
       "         -1.93088375,   0.30803151,   2.54694678]),\n",
       " <a list of 10 Patch objects>)"
      ]
     },
     "execution_count": 520,
     "metadata": {},
     "output_type": "execute_result"
    },
    {
     "data": {
      "image/png": "[encoded data removed]",
      "text/plain": [
       "<Figure size 432x288 with 1 Axes>"
      ]
     },
     "metadata": {
      "needs_background": "light"
     },
     "output_type": "display_data"
    }
   ],
   "source": [
    "%matplotlib inline\n",
    "plt.hist(r)"
   ]
  },
  {
   "cell_type": "code",
   "execution_count": 521,
   "metadata": {},
   "outputs": [],
   "source": [
    "def createUti():\n",
    "    u=[[0]*100]*100\n",
    "    for i in range (1,100):\n",
    "        u[i] = np.random.normal(0,1,100)\n",
    "    return u"
   ]
  },
  {
   "cell_type": "code",
   "execution_count": 522,
   "metadata": {},
   "outputs": [],
   "source": [
    "def montecarloUpdated(Uti):     \n",
    "    X=[[0]*100]*100\n",
    "    \n",
    "    for t in range(1,100):\n",
    "        for i in range(1,100):\n",
    "            X[t][i]=X[t-1][i]+Uti[t][i]\n",
    "            X=np.array(X)\n",
    "    return(X)"
   ]
  },
  {
   "cell_type": "code",
   "execution_count": 523,
   "metadata": {},
   "outputs": [],
   "source": [
    "Uti = createUti()"
   ]
  },
  {
   "cell_type": "code",
   "execution_count": 524,
   "metadata": {},
   "outputs": [
    {
     "name": "stdout",
     "output_type": "stream",
     "text": [
      "[[  0.          -1.82359674   0.         ...   0.           0.\n",
      "    0.        ]\n",
      " [  0.          -1.82359674  -1.44500754 ...   0.24391017  -1.74550594\n",
      "   -0.12126407]\n",
      " [  0.          -2.52663425  -0.87192969 ...   1.15144395  -2.24502212\n",
      "    1.06303242]\n",
      " ...\n",
      " [  0.           5.43791866  -9.72511289 ...   1.0979237  -12.14255744\n",
      "   10.99730453]\n",
      " [  0.           5.2222637   -9.10413194 ...  -1.03962723 -11.89607948\n",
      "   10.99268829]\n",
      " [  0.           3.7480465   -9.16605025 ...  -0.47933782 -10.29932305\n",
      "    9.88738678]]\n"
     ]
    }
   ],
   "source": [
    "m=montecarloUpdated(Uti)\n",
    "print(m)"
   ]
  },
  {
   "cell_type": "code",
   "execution_count": 525,
   "metadata": {},
   "outputs": [
    {
     "data": {
      "text/plain": [
       "([array([  0.,   0.,   0.,   0., 100.,   0.,   0.,   0.,   0.,   0.]),\n",
       "  array([ 0.,  0.,  0.,  0., 21., 64., 15.,  0.,  0.,  0.]),\n",
       "  array([ 0.,  0., 21., 35., 44.,  0.,  0.,  0.,  0.,  0.]),\n",
       "  array([ 0.,  9., 10.,  6., 61., 14.,  0.,  0.,  0.,  0.]),\n",
       "  array([ 0.,  0.,  0.,  9., 62., 25.,  4.,  0.,  0.,  0.]),\n",
       "  array([ 0.,  0.,  0.,  0., 39., 10., 49.,  2.,  0.,  0.]),\n",
       "  array([ 0.,  0.,  0.,  0., 54., 32., 14.,  0.,  0.,  0.]),\n",
       "  array([ 0.,  0.,  0.,  1., 70., 29.,  0.,  0.,  0.,  0.]),\n",
       "  array([ 0.,  0.,  0.,  0., 38., 38., 17.,  7.,  0.,  0.]),\n",
       "  array([ 0.,  0.,  0.,  8., 39., 48.,  5.,  0.,  0.,  0.]),\n",
       "  array([ 0.,  0.,  0.,  0.,  9., 39., 15., 37.,  0.,  0.]),\n",
       "  array([ 0.,  0., 12., 34., 37., 17.,  0.,  0.,  0.,  0.]),\n",
       "  array([ 0.,  0.,  0.,  7., 17., 44., 31.,  1.,  0.,  0.]),\n",
       "  array([ 0.,  8., 41., 33., 16.,  2.,  0.,  0.,  0.,  0.]),\n",
       "  array([ 0.,  0.,  3., 30., 59.,  8.,  0.,  0.,  0.,  0.]),\n",
       "  array([ 0.,  0.,  0.,  0.,  1., 46., 25., 28.,  0.,  0.]),\n",
       "  array([ 0.,  0.,  0., 32., 58., 10.,  0.,  0.,  0.,  0.]),\n",
       "  array([ 0.,  0.,  0.,  7., 51., 28., 14.,  0.,  0.,  0.]),\n",
       "  array([ 0.,  0.,  8., 53., 37.,  2.,  0.,  0.,  0.,  0.]),\n",
       "  array([ 0., 12., 47., 34.,  7.,  0.,  0.,  0.,  0.,  0.]),\n",
       "  array([ 0.,  3.,  7., 13., 54., 23.,  0.,  0.,  0.,  0.]),\n",
       "  array([ 0.,  0.,  0.,  4., 55., 34.,  7.,  0.,  0.,  0.]),\n",
       "  array([ 0.,  0.,  4., 36., 58.,  2.,  0.,  0.,  0.,  0.]),\n",
       "  array([ 0.,  0.,  0.,  0.,  3., 38., 59.,  0.,  0.,  0.]),\n",
       "  array([ 0.,  0.,  0.,  0., 12., 39., 45.,  4.,  0.,  0.]),\n",
       "  array([ 0.,  0.,  0.,  5., 70., 21.,  4.,  0.,  0.,  0.]),\n",
       "  array([ 0.,  0.,  0.,  8., 40., 52.,  0.,  0.,  0.,  0.]),\n",
       "  array([ 0.,  0.,  0.,  0., 23., 73.,  4.,  0.,  0.,  0.]),\n",
       "  array([ 0.,  0.,  0.,  2., 28., 31., 31.,  8.,  0.,  0.]),\n",
       "  array([ 0.,  0., 12., 15., 13., 56.,  4.,  0.,  0.,  0.]),\n",
       "  array([ 0.,  0.,  0.,  0., 16., 54., 29.,  1.,  0.,  0.]),\n",
       "  array([ 0., 21., 35., 37.,  7.,  0.,  0.,  0.,  0.,  0.]),\n",
       "  array([ 0.,  0.,  0.,  6., 78., 16.,  0.,  0.,  0.,  0.]),\n",
       "  array([15., 29., 39., 12.,  5.,  0.,  0.,  0.,  0.,  0.]),\n",
       "  array([ 0.,  0.,  0.,  0., 77., 23.,  0.,  0.,  0.,  0.]),\n",
       "  array([ 0.,  0.,  3., 27., 66.,  4.,  0.,  0.,  0.,  0.]),\n",
       "  array([ 0.,  0.,  0.,  0., 15., 57., 28.,  0.,  0.,  0.]),\n",
       "  array([ 0.,  0.,  0.,  0.,  3., 27., 59., 11.,  0.,  0.]),\n",
       "  array([ 0.,  5., 32., 30., 18., 15.,  0.,  0.,  0.,  0.]),\n",
       "  array([ 0.,  0.,  0.,  5., 26., 26., 43.,  0.,  0.,  0.]),\n",
       "  array([ 0.,  0.,  9., 58., 24.,  9.,  0.,  0.,  0.,  0.]),\n",
       "  array([ 0.,  0.,  0., 27., 59., 14.,  0.,  0.,  0.,  0.]),\n",
       "  array([ 0.,  0.,  0.,  0., 12., 15.,  8., 26., 21., 18.]),\n",
       "  array([ 0.,  0.,  0.,  0., 71., 29.,  0.,  0.,  0.,  0.]),\n",
       "  array([ 0.,  0.,  0.,  0., 27., 72.,  1.,  0.,  0.,  0.]),\n",
       "  array([ 0.,  0.,  0.,  0.,  9., 76., 15.,  0.,  0.,  0.]),\n",
       "  array([ 0.,  0.,  0., 18., 79.,  3.,  0.,  0.,  0.,  0.]),\n",
       "  array([ 0.,  0.,  0.,  2., 69., 29.,  0.,  0.,  0.,  0.]),\n",
       "  array([ 0.,  0.,  0.,  0.,  1., 12., 45., 41.,  1.,  0.]),\n",
       "  array([ 0.,  0.,  0.,  0., 17., 58., 25.,  0.,  0.,  0.]),\n",
       "  array([ 0.,  0., 24., 55., 21.,  0.,  0.,  0.,  0.,  0.]),\n",
       "  array([ 0.,  0.,  0.,  0., 10., 28., 50., 11.,  1.,  0.]),\n",
       "  array([ 0.,  0.,  0.,  0.,  1., 18., 24., 57.,  0.,  0.]),\n",
       "  array([ 0.,  0.,  0.,  0.,  4., 79., 17.,  0.,  0.,  0.]),\n",
       "  array([ 0.,  0.,  0.,  0., 30., 23., 17., 30.,  0.,  0.]),\n",
       "  array([ 0.,  0., 34., 35., 31.,  0.,  0.,  0.,  0.,  0.]),\n",
       "  array([ 0.,  0., 20., 45., 30.,  5.,  0.,  0.,  0.,  0.]),\n",
       "  array([ 0.,  0.,  0.,  0., 34., 55., 11.,  0.,  0.,  0.]),\n",
       "  array([ 0.,  0.,  0., 19., 57.,  9., 15.,  0.,  0.,  0.]),\n",
       "  array([ 0.,  0.,  0., 43., 56.,  1.,  0.,  0.,  0.,  0.]),\n",
       "  array([ 0.,  0.,  0.,  0.,  8., 53., 37.,  2.,  0.,  0.]),\n",
       "  array([ 0.,  0.,  0.,  0.,  5., 25., 63.,  7.,  0.,  0.]),\n",
       "  array([ 0.,  0.,  0.,  0.,  2.,  4., 29., 62.,  3.,  0.]),\n",
       "  array([ 0.,  0.,  0.,  0., 50., 15., 25., 10.,  0.,  0.]),\n",
       "  array([ 0.,  0.,  0.,  0., 64., 36.,  0.,  0.,  0.,  0.]),\n",
       "  array([ 0.,  0.,  0., 10., 61., 29.,  0.,  0.,  0.,  0.]),\n",
       "  array([ 0.,  0.,  0.,  0., 11., 59., 26.,  4.,  0.,  0.]),\n",
       "  array([ 0.,  0.,  0.,  5., 38., 42., 15.,  0.,  0.,  0.]),\n",
       "  array([ 0.,  0.,  0.,  0., 46., 26., 28.,  0.,  0.,  0.]),\n",
       "  array([ 0.,  0.,  0.,  0.,  4., 69., 23.,  4.,  0.,  0.]),\n",
       "  array([ 0.,  0.,  0., 10., 44., 46.,  0.,  0.,  0.,  0.]),\n",
       "  array([ 0.,  0.,  0.,  0.,  8., 51., 35.,  6.,  0.,  0.]),\n",
       "  array([ 0.,  0.,  0., 16., 64., 20.,  0.,  0.,  0.,  0.]),\n",
       "  array([ 0.,  0.,  0.,  0.,  7., 57., 35.,  1.,  0.,  0.]),\n",
       "  array([ 0.,  0.,  0., 16., 81.,  3.,  0.,  0.,  0.,  0.]),\n",
       "  array([ 0.,  0., 12., 26., 45., 17.,  0.,  0.,  0.,  0.]),\n",
       "  array([ 0.,  0.,  0., 23., 53., 24.,  0.,  0.,  0.,  0.]),\n",
       "  array([ 0.,  0.,  0.,  0., 47., 53.,  0.,  0.,  0.,  0.]),\n",
       "  array([ 4., 19., 21., 21., 24., 11.,  0.,  0.,  0.,  0.]),\n",
       "  array([ 0.,  0.,  0., 19., 27., 54.,  0.,  0.,  0.,  0.]),\n",
       "  array([ 0.,  0.,  0.,  0., 38., 39., 23.,  0.,  0.,  0.]),\n",
       "  array([ 0.,  0.,  0., 34., 48., 15.,  3.,  0.,  0.,  0.]),\n",
       "  array([ 0.,  0.,  0.,  1., 88., 11.,  0.,  0.,  0.,  0.]),\n",
       "  array([ 0.,  0.,  0.,  0.,  1., 17., 23., 14., 29., 16.]),\n",
       "  array([ 0.,  0., 12., 54., 34.,  0.,  0.,  0.,  0.,  0.]),\n",
       "  array([ 0.,  5., 20., 41., 33.,  1.,  0.,  0.,  0.,  0.]),\n",
       "  array([ 0.,  0.,  5., 53., 25., 17.,  0.,  0.,  0.,  0.]),\n",
       "  array([ 0.,  0.,  0.,  0., 27., 73.,  0.,  0.,  0.,  0.]),\n",
       "  array([ 0.,  0.,  0.,  0., 75., 25.,  0.,  0.,  0.,  0.]),\n",
       "  array([ 0.,  0.,  0.,  0., 24., 38., 38.,  0.,  0.,  0.]),\n",
       "  array([ 0.,  0.,  0.,  1., 67., 32.,  0.,  0.,  0.,  0.]),\n",
       "  array([ 0.,  0.,  0.,  0.,  3., 22., 24., 13., 25., 13.]),\n",
       "  array([ 0.,  2., 19., 41., 37.,  1.,  0.,  0.,  0.,  0.]),\n",
       "  array([ 0.,  0.,  0.,  0., 38., 42., 20.,  0.,  0.,  0.]),\n",
       "  array([ 0.,  0.,  0.,  0., 32., 68.,  0.,  0.,  0.,  0.]),\n",
       "  array([ 0.,  1., 34., 19., 34., 12.,  0.,  0.,  0.,  0.]),\n",
       "  array([ 0.,  0.,  0.,  0.,  5., 44., 48.,  3.,  0.,  0.]),\n",
       "  array([ 0.,  0.,  0.,  1., 39., 52.,  8.,  0.,  0.,  0.]),\n",
       "  array([ 0.,  0., 19., 52., 28.,  1.,  0.,  0.,  0.,  0.]),\n",
       "  array([ 0.,  0.,  0.,  0., 11., 42., 45.,  2.,  0.,  0.])],\n",
       " array([-25.49102814, -20.30431171, -15.11759529,  -9.93087886,\n",
       "         -4.74416243,   0.442554  ,   5.62927043,  10.81598686,\n",
       "         16.00270328,  21.18941971,  26.37613614]),\n",
       " <a list of 100 Lists of Patches objects>)"
      ]
     },
     "execution_count": 525,
     "metadata": {},
     "output_type": "execute_result"
    },
    {
     "data": {
      "image/png": "[encoded data removed]",
      "text/plain": [
       "<Figure size 432x288 with 1 Axes>"
      ]
     },
     "metadata": {
      "needs_background": "light"
     },
     "output_type": "display_data"
    }
   ],
   "source": [
    "%matplotlib inline\n",
    "plt.hist(m)"
   ]
  },
  {
   "cell_type": "code",
   "execution_count": 526,
   "metadata": {},
   "outputs": [],
   "source": [
    "y=r\n",
    "y=np.array(y)\n",
    "y=np.reshape(y, (-1, 2))\n",
    "X1=m[1,:]\n",
    "X1=np.array(X1)\n",
    "X1=np.reshape(X1, (-1, 2))\n",
    "X2=m[2,:]\n",
    "X2=np.array(X2)\n",
    "X2=np.reshape(X2, (-1, 2))\n",
    "X3=m[3,:]\n",
    "X3=np.array(X3)\n",
    "X3=np.reshape(X3, (-1, 2))\n",
    "X5=m[5,:]\n",
    "X5=np.array(X5)\n",
    "X5=np.reshape(X5, (-1, 2))\n",
    "X10=m[10,:]\n",
    "X10=np.array(X10)\n",
    "X10=np.reshape(X10, (-1, 2))\n",
    "from sklearn.linear_model import LinearRegression\n",
    "\n"
   ]
  },
  {
   "cell_type": "code",
   "execution_count": 527,
   "metadata": {
    "scrolled": true
   },
   "outputs": [
    {
     "data": {
      "text/plain": [
       "0.011749743642751024"
      ]
     },
     "execution_count": 527,
     "metadata": {},
     "output_type": "execute_result"
    }
   ],
   "source": [
    "reg = LinearRegression().fit(X1, y)\n",
    "reg.score(X1, y)"
   ]
  },
  {
   "cell_type": "code",
   "execution_count": 528,
   "metadata": {
    "scrolled": true
   },
   "outputs": [
    {
     "data": {
      "text/plain": [
       "0.010239784162884949"
      ]
     },
     "execution_count": 528,
     "metadata": {},
     "output_type": "execute_result"
    }
   ],
   "source": [
    "reg = LinearRegression().fit(X2, y)\n",
    "reg.score(X2, y)"
   ]
  },
  {
   "cell_type": "code",
   "execution_count": 529,
   "metadata": {},
   "outputs": [
    {
     "data": {
      "text/plain": [
       "0.009323523174962982"
      ]
     },
     "execution_count": 529,
     "metadata": {},
     "output_type": "execute_result"
    }
   ],
   "source": [
    "reg = LinearRegression().fit(X3, y)\n",
    "reg.score(X3, y)"
   ]
  },
  {
   "cell_type": "code",
   "execution_count": 530,
   "metadata": {},
   "outputs": [
    {
     "data": {
      "text/plain": [
       "0.011657750026453967"
      ]
     },
     "execution_count": 530,
     "metadata": {},
     "output_type": "execute_result"
    }
   ],
   "source": [
    "reg = LinearRegression().fit(X5, y)\n",
    "reg.score(X5, y)"
   ]
  },
  {
   "cell_type": "code",
   "execution_count": 531,
   "metadata": {},
   "outputs": [
    {
     "data": {
      "text/plain": [
       "0.0520932467861431"
      ]
     },
     "execution_count": 531,
     "metadata": {},
     "output_type": "execute_result"
    }
   ],
   "source": [
    "reg = LinearRegression().fit(X10, y)\n",
    "reg.score(X10, y)"
   ]
  },
  {
   "cell_type": "markdown",
   "metadata": {},
   "source": [
    "## part 2 of question 2"
   ]
  },
  {
   "cell_type": "code",
   "execution_count": 532,
   "metadata": {},
   "outputs": [],
   "source": [
    "def montecarlo():\n",
    "    e=np.random.normal(0,1,100)\n",
    "    y=[]\n",
    "    y=[0]*100\n",
    "    for t in range(1,100):\n",
    "        y[t]=e[t]\n",
    "        y=np.array(y)\n",
    "    return(y)"
   ]
  },
  {
   "cell_type": "code",
   "execution_count": 533,
   "metadata": {},
   "outputs": [
    {
     "name": "stdout",
     "output_type": "stream",
     "text": [
      "[ 0.          0.1952216   1.44765256  0.87428676 -0.84723447  0.85001024\n",
      " -0.78947522 -1.1031486  -0.11801825 -0.44230972  1.06162275 -1.55736795\n",
      " -1.82803884 -0.62445018 -0.8372153  -2.33272728  0.03238953  1.05371504\n",
      " -0.43713474  0.87489632  0.74363932 -1.64366441  1.02586483 -0.1366361\n",
      "  0.09066427  0.510299    0.41864665  2.8959629   1.26343992  0.20063653\n",
      " -0.30588937  0.26679152 -0.98742293 -0.69314716 -1.630408   -1.46813801\n",
      "  0.06657729  0.16677934 -0.9039542  -1.3355197   1.06980569 -0.28964918\n",
      "  1.30108327  0.74078201  1.81815603 -0.19780078 -0.8122885  -0.44989344\n",
      " -0.59323463  1.86061732  0.49305291 -0.66409151  2.79345462  0.92236755\n",
      "  0.88943013 -0.48840616  0.13319827  0.22126748  0.6680453  -0.34191185\n",
      "  1.60021828 -0.20638985  0.28296924 -0.45804448 -0.01470994  0.80452122\n",
      "  0.94983996 -0.84238593 -1.23193655 -0.32227276 -1.95883708 -1.09106109\n",
      " -1.15325073  0.56637719 -0.44937253 -0.60928269 -0.54439265 -1.20219807\n",
      "  0.67548746  0.17297802 -1.96733134 -0.72345141 -0.46401054  1.21412103\n",
      "  0.85663976 -0.59633418 -0.09890623 -0.21134307 -1.55325087  0.25854053\n",
      "  0.24234747 -2.06174099  0.20366575  0.11567159  0.92426836 -0.79094327\n",
      "  0.32937604 -0.07070145 -0.40714451 -0.64803075]\n"
     ]
    }
   ],
   "source": [
    "r=montecarlo()\n",
    "print(r)"
   ]
  },
  {
   "cell_type": "code",
   "execution_count": 534,
   "metadata": {},
   "outputs": [
    {
     "data": {
      "text/plain": [
       "(array([ 5.,  6., 13., 21., 23., 10., 16.,  3.,  1.,  2.]),\n",
       " array([-2.33272728, -1.80985826, -1.28698925, -0.76412023, -0.24125121,\n",
       "         0.28161781,  0.80448683,  1.32735584,  1.85022486,  2.37309388,\n",
       "         2.8959629 ]),\n",
       " <a list of 10 Patch objects>)"
      ]
     },
     "execution_count": 534,
     "metadata": {},
     "output_type": "execute_result"
    },
    {
     "data": {
      "image/png": "[encoded data removed]",
      "text/plain": [
       "<Figure size 432x288 with 1 Axes>"
      ]
     },
     "metadata": {
      "needs_background": "light"
     },
     "output_type": "display_data"
    }
   ],
   "source": [
    "%matplotlib inline\n",
    "plt.hist(r)"
   ]
  },
  {
   "cell_type": "code",
   "execution_count": 535,
   "metadata": {},
   "outputs": [],
   "source": [
    "def createUti():\n",
    "    u=[[0]*100]*100\n",
    "    for i in range (1,100):\n",
    "        u[i] = np.random.normal(0,1,100)\n",
    "    return u"
   ]
  },
  {
   "cell_type": "code",
   "execution_count": 536,
   "metadata": {},
   "outputs": [],
   "source": [
    "def montecarloUpdated(Uti):     \n",
    "    X=[[0]*100]*100\n",
    "    \n",
    "    for t in range(1,100):\n",
    "        for i in range(1,100):\n",
    "            X[t][i]=Uti[t][i]\n",
    "            X=np.array(X)\n",
    "    return(X)"
   ]
  },
  {
   "cell_type": "code",
   "execution_count": 537,
   "metadata": {},
   "outputs": [],
   "source": [
    "Uti = createUti()"
   ]
  },
  {
   "cell_type": "code",
   "execution_count": 538,
   "metadata": {},
   "outputs": [
    {
     "name": "stdout",
     "output_type": "stream",
     "text": [
      "[[ 0.          0.04575324  0.         ...  0.          0.\n",
      "   0.        ]\n",
      " [ 0.          0.04575324 -0.71323502 ... -1.53131179 -0.34794659\n",
      "  -0.29719448]\n",
      " [ 0.          0.10085263  1.20447247 ... -0.20540885 -1.02861329\n",
      "  -0.30763391]\n",
      " ...\n",
      " [ 0.          0.72460379 -0.81230901 ... -0.59102278  0.78664348\n",
      "  -0.19548401]\n",
      " [ 0.          1.14268716  1.45021956 ... -1.82922445 -0.04900629\n",
      "  -0.2940237 ]\n",
      " [ 0.         -0.73281204 -1.26369249 ... -0.0882602  -0.91817025\n",
      "   0.73617148]]\n"
     ]
    }
   ],
   "source": [
    "m=montecarloUpdated(Uti)\n",
    "print(m)"
   ]
  },
  {
   "cell_type": "code",
   "execution_count": 539,
   "metadata": {},
   "outputs": [
    {
     "data": {
      "text/plain": [
       "([array([  0.,   0.,   0.,   0., 100.,   0.,   0.,   0.,   0.,   0.]),\n",
       "  array([ 0.,  0.,  4., 15., 36., 30., 14.,  1.,  0.,  0.]),\n",
       "  array([ 0.,  1.,  1., 19., 36., 26., 14.,  3.,  0.,  0.]),\n",
       "  array([ 0.,  0.,  2., 17., 38., 18., 22.,  3.,  0.,  0.]),\n",
       "  array([ 0.,  0.,  2., 18., 28., 32., 15.,  5.,  0.,  0.]),\n",
       "  array([ 0.,  0.,  5., 17., 38., 24., 13.,  3.,  0.,  0.]),\n",
       "  array([ 0.,  0.,  1., 14., 36., 33., 14.,  2.,  0.,  0.]),\n",
       "  array([ 0.,  1.,  3., 21., 25., 34., 13.,  3.,  0.,  0.]),\n",
       "  array([ 0.,  0.,  6., 18., 25., 28., 22.,  1.,  0.,  0.]),\n",
       "  array([ 0.,  0.,  6., 16., 29., 32., 15.,  1.,  1.,  0.]),\n",
       "  array([ 0.,  1.,  0., 12., 37., 38.,  8.,  4.,  0.,  0.]),\n",
       "  array([ 0.,  0.,  5., 27., 32., 25., 10.,  1.,  0.,  0.]),\n",
       "  array([ 0.,  0.,  5., 15., 38., 27., 14.,  1.,  0.,  0.]),\n",
       "  array([ 0.,  0.,  4., 17., 33., 26., 15.,  5.,  0.,  0.]),\n",
       "  array([ 0.,  0.,  4., 18., 26., 31., 19.,  2.,  0.,  0.]),\n",
       "  array([ 0.,  1.,  4., 15., 33., 28., 11.,  6.,  2.,  0.]),\n",
       "  array([ 0.,  0.,  3., 12., 38., 32., 13.,  1.,  1.,  0.]),\n",
       "  array([ 0.,  1.,  4., 16., 33., 27., 15.,  3.,  0.,  1.]),\n",
       "  array([ 0.,  0.,  3., 10., 34., 34., 16.,  3.,  0.,  0.]),\n",
       "  array([ 0.,  0.,  5., 16., 28., 33., 14.,  4.,  0.,  0.]),\n",
       "  array([ 0.,  0.,  4., 16., 35., 27., 17.,  1.,  0.,  0.]),\n",
       "  array([ 0.,  0.,  3., 21., 24., 31., 17.,  4.,  0.,  0.]),\n",
       "  array([ 0.,  0.,  6., 17., 29., 29., 15.,  4.,  0.,  0.]),\n",
       "  array([ 0.,  1.,  7.,  8., 33., 34., 15.,  2.,  0.,  0.]),\n",
       "  array([ 0.,  0.,  4., 16., 30., 28., 19.,  3.,  0.,  0.]),\n",
       "  array([ 0.,  0.,  3., 18., 30., 28., 15.,  6.,  0.,  0.]),\n",
       "  array([ 0.,  1.,  1., 22., 35., 28., 12.,  1.,  0.,  0.]),\n",
       "  array([ 0.,  1.,  5., 18., 34., 24., 15.,  3.,  0.,  0.]),\n",
       "  array([ 0.,  0.,  3., 19., 39., 28.,  6.,  5.,  0.,  0.]),\n",
       "  array([ 0.,  0.,  5., 17., 37., 29.,  9.,  3.,  0.,  0.]),\n",
       "  array([ 0.,  1.,  2., 20., 32., 27., 16.,  1.,  1.,  0.]),\n",
       "  array([ 0.,  0.,  5., 25., 31., 24., 13.,  2.,  0.,  0.]),\n",
       "  array([ 1.,  1.,  3., 22., 38., 23., 11.,  1.,  0.,  0.]),\n",
       "  array([ 0.,  1.,  7., 15., 35., 29.,  7.,  5.,  1.,  0.]),\n",
       "  array([ 0.,  0.,  7., 16., 32., 28., 14.,  2.,  1.,  0.]),\n",
       "  array([ 0.,  0.,  5., 10., 35., 23., 22.,  5.,  0.,  0.]),\n",
       "  array([ 0.,  1.,  2., 22., 35., 30.,  8.,  2.,  0.,  0.]),\n",
       "  array([ 0.,  1.,  3., 12., 39., 29., 14.,  2.,  0.,  0.]),\n",
       "  array([ 0.,  0.,  4., 22., 28., 33., 11.,  1.,  1.,  0.]),\n",
       "  array([ 0.,  1.,  3., 13., 35., 34., 12.,  2.,  0.,  0.]),\n",
       "  array([ 0.,  0.,  3., 19., 32., 27., 15.,  4.,  0.,  0.]),\n",
       "  array([ 0.,  0.,  2., 17., 27., 29., 20.,  5.,  0.,  0.]),\n",
       "  array([ 0.,  0.,  3., 17., 27., 29., 19.,  4.,  0.,  1.]),\n",
       "  array([ 0.,  2.,  4., 18., 30., 30., 13.,  2.,  1.,  0.]),\n",
       "  array([ 0.,  0.,  4., 17., 35., 25., 17.,  2.,  0.,  0.]),\n",
       "  array([ 0.,  0.,  2., 18., 30., 34., 12.,  4.,  0.,  0.]),\n",
       "  array([ 0.,  1.,  7., 24., 25., 25., 15.,  2.,  1.,  0.]),\n",
       "  array([ 0.,  2.,  6., 19., 29., 35.,  7.,  1.,  1.,  0.]),\n",
       "  array([ 0.,  0.,  8., 20., 39., 21.,  8.,  4.,  0.,  0.]),\n",
       "  array([ 0.,  0.,  4., 22., 34., 29.,  9.,  2.,  0.,  0.]),\n",
       "  array([ 0.,  0.,  2., 19., 33., 33., 10.,  2.,  1.,  0.]),\n",
       "  array([ 0.,  0.,  2., 18., 35., 32.,  8.,  5.,  0.,  0.]),\n",
       "  array([ 0.,  0.,  4., 19., 36., 30.,  9.,  2.,  0.,  0.]),\n",
       "  array([ 0.,  1.,  2., 20., 27., 32., 10.,  8.,  0.,  0.]),\n",
       "  array([ 0.,  0.,  3., 22., 31., 26., 14.,  4.,  0.,  0.]),\n",
       "  array([ 0.,  2.,  3., 22., 32., 29., 12.,  0.,  0.,  0.]),\n",
       "  array([ 0.,  0.,  2., 14., 35., 30., 17.,  2.,  0.,  0.]),\n",
       "  array([ 0.,  3.,  4., 21., 27., 28., 12.,  4.,  0.,  1.]),\n",
       "  array([ 0.,  0.,  6., 21., 35., 25., 11.,  2.,  0.,  0.]),\n",
       "  array([ 0.,  1.,  2., 17., 36., 30., 12.,  2.,  0.,  0.]),\n",
       "  array([ 0.,  0.,  4., 18., 27., 37., 11.,  3.,  0.,  0.]),\n",
       "  array([ 0.,  2.,  1., 19., 38., 23., 15.,  2.,  0.,  0.]),\n",
       "  array([ 0.,  0.,  5., 20., 25., 33., 14.,  3.,  0.,  0.]),\n",
       "  array([ 0.,  0.,  4., 14., 38., 32.,  9.,  2.,  1.,  0.]),\n",
       "  array([ 0.,  0.,  3., 18., 39., 22., 14.,  4.,  0.,  0.]),\n",
       "  array([ 0.,  1.,  6., 22., 25., 29., 17.,  0.,  0.,  0.]),\n",
       "  array([ 0.,  2.,  5., 12., 32., 35., 11.,  3.,  0.,  0.]),\n",
       "  array([ 0.,  0.,  2., 22., 39., 20., 14.,  3.,  0.,  0.]),\n",
       "  array([ 0.,  0.,  5., 12., 34., 35., 11.,  3.,  0.,  0.]),\n",
       "  array([ 0.,  0.,  8., 10., 38., 26., 14.,  4.,  0.,  0.]),\n",
       "  array([ 0.,  0.,  4., 16., 30., 31., 13.,  6.,  0.,  0.]),\n",
       "  array([ 0.,  0.,  6., 10., 28., 32., 20.,  4.,  0.,  0.]),\n",
       "  array([ 0.,  0.,  5., 12., 34., 37.,  8.,  3.,  1.,  0.]),\n",
       "  array([ 0.,  0.,  6., 17., 26., 29., 18.,  4.,  0.,  0.]),\n",
       "  array([ 0.,  0.,  3., 16., 38., 26., 13.,  4.,  0.,  0.]),\n",
       "  array([ 0.,  0.,  1., 22., 30., 29., 12.,  6.,  0.,  0.]),\n",
       "  array([ 0.,  1.,  6., 15., 25., 35., 13.,  5.,  0.,  0.]),\n",
       "  array([ 0.,  0.,  9., 14., 35., 29., 11.,  2.,  0.,  0.]),\n",
       "  array([ 0.,  0.,  3., 18., 29., 35., 13.,  1.,  1.,  0.]),\n",
       "  array([ 0.,  1.,  3., 20., 24., 38., 12.,  2.,  0.,  0.]),\n",
       "  array([ 0.,  0.,  4., 10., 36., 28., 19.,  1.,  2.,  0.]),\n",
       "  array([ 0.,  0.,  6., 18., 29., 28., 13.,  6.,  0.,  0.]),\n",
       "  array([ 1.,  0.,  3., 23., 28., 24., 15.,  5.,  0.,  1.]),\n",
       "  array([ 0.,  1.,  6., 21., 29., 32., 11.,  0.,  0.,  0.]),\n",
       "  array([ 0.,  0.,  3., 18., 38., 28., 12.,  1.,  0.,  0.]),\n",
       "  array([ 0.,  1.,  1., 14., 35., 37., 10.,  2.,  0.,  0.]),\n",
       "  array([ 0.,  0.,  5., 13., 36., 26., 14.,  6.,  0.,  0.]),\n",
       "  array([ 0.,  2.,  6., 17., 32., 25., 15.,  3.,  0.,  0.]),\n",
       "  array([ 0.,  0.,  1., 12., 31., 41., 14.,  1.,  0.,  0.]),\n",
       "  array([ 0.,  2.,  1., 17., 33., 36.,  9.,  2.,  0.,  0.]),\n",
       "  array([ 0.,  0.,  2., 16., 30., 38., 12.,  2.,  0.,  0.]),\n",
       "  array([ 0.,  0.,  4., 18., 40., 26.,  9.,  3.,  0.,  0.]),\n",
       "  array([ 0.,  0.,  2., 16., 31., 30., 17.,  4.,  0.,  0.]),\n",
       "  array([ 0.,  2.,  5., 10., 30., 34., 15.,  4.,  0.,  0.]),\n",
       "  array([ 0.,  1.,  2., 20., 31., 26., 17.,  2.,  1.,  0.]),\n",
       "  array([ 0.,  2.,  6., 15., 25., 29., 16.,  6.,  1.,  0.]),\n",
       "  array([ 0.,  1.,  4., 26., 29., 25.,  9.,  5.,  1.,  0.]),\n",
       "  array([ 0.,  0.,  7., 15., 31., 33., 13.,  1.,  0.,  0.]),\n",
       "  array([ 0.,  0.,  1., 24., 26., 28., 17.,  4.,  0.,  0.]),\n",
       "  array([ 0.,  0.,  3., 12., 31., 35., 13.,  6.,  0.,  0.])],\n",
       " array([-4.27861002, -3.40638686, -2.53416371, -1.66194055, -0.7897174 ,\n",
       "         0.08250576,  0.95472891,  1.82695207,  2.69917522,  3.57139838,\n",
       "         4.44362153]),\n",
       " <a list of 100 Lists of Patches objects>)"
      ]
     },
     "execution_count": 539,
     "metadata": {},
     "output_type": "execute_result"
    },
    {
     "data": {
      "image/png": "[encoded data removed]",
      "text/plain": [
       "<Figure size 432x288 with 1 Axes>"
      ]
     },
     "metadata": {
      "needs_background": "light"
     },
     "output_type": "display_data"
    }
   ],
   "source": [
    "%matplotlib inline\n",
    "plt.hist(m)"
   ]
  },
  {
   "cell_type": "code",
   "execution_count": 502,
   "metadata": {},
   "outputs": [],
   "source": [
    "y=r\n",
    "y=np.array(y)\n",
    "y=np.reshape(y, (-1, 2))\n",
    "X1=m[1,:]\n",
    "X1=np.array(X1)\n",
    "X1=np.reshape(X1, (-1, 2))\n",
    "X2=m[2,:]\n",
    "X2=np.array(X2)\n",
    "X2=np.reshape(X2, (-1, 2))\n",
    "X3=m[3,:]\n",
    "X3=np.array(X3)\n",
    "X3=np.reshape(X3, (-1, 2))\n",
    "X5=m[5,:]\n",
    "X5=np.array(X5)\n",
    "X5=np.reshape(X5, (-1, 2))\n",
    "X10=m[10,:]\n",
    "X10=np.array(X10)\n",
    "X10=np.reshape(X10, (-1, 2))\n",
    "from sklearn.linear_model import LinearRegression"
   ]
  },
  {
   "cell_type": "markdown",
   "metadata": {},
   "source": [
    "## reg = LinearRegression().fit(X2, y)\n",
    "reg.score(X2, y)"
   ]
  },
  {
   "cell_type": "code",
   "execution_count": 449,
   "metadata": {},
   "outputs": [
    {
     "data": {
      "text/plain": [
       "0.04248109090979166"
      ]
     },
     "execution_count": 449,
     "metadata": {},
     "output_type": "execute_result"
    }
   ],
   "source": [
    "reg = LinearRegression().fit(X2, y)\n",
    "reg.score(X2, y)"
   ]
  },
  {
   "cell_type": "code",
   "execution_count": 540,
   "metadata": {},
   "outputs": [
    {
     "data": {
      "text/plain": [
       "0.009323523174962982"
      ]
     },
     "execution_count": 540,
     "metadata": {},
     "output_type": "execute_result"
    }
   ],
   "source": [
    "reg = LinearRegression().fit(X3, y)\n",
    "reg.score(X3, y)"
   ]
  },
  {
   "cell_type": "code",
   "execution_count": 541,
   "metadata": {},
   "outputs": [
    {
     "data": {
      "text/plain": [
       "0.011657750026453967"
      ]
     },
     "execution_count": 541,
     "metadata": {},
     "output_type": "execute_result"
    }
   ],
   "source": [
    "reg = LinearRegression().fit(X5, y)\n",
    "reg.score(X5, y)"
   ]
  },
  {
   "cell_type": "code",
   "execution_count": 542,
   "metadata": {},
   "outputs": [
    {
     "data": {
      "text/plain": [
       "0.0520932467861431"
      ]
     },
     "execution_count": 542,
     "metadata": {},
     "output_type": "execute_result"
    }
   ],
   "source": [
    "reg = LinearRegression().fit(X10, y)\n",
    "reg.score(X10, y)"
   ]
  },
  {
   "cell_type": "code",
   "execution_count": null,
   "metadata": {},
   "outputs": [],
   "source": []
  },
  {
   "cell_type": "markdown",
   "metadata": {},
   "source": [
    "## Question 3\n"
   ]
  },
  {
   "cell_type": "code",
   "execution_count": 553,
   "metadata": {},
   "outputs": [],
   "source": [
    "def montecarlo():\n",
    "    e=np.random.normal(0,1,100)\n",
    "    rho=rd.random()\n",
    "    y=[]\n",
    "    y=[0]*100\n",
    "    for t in range(1,100):\n",
    "        y[t]=rho*y[t-1]+e[t]\n",
    "        y=np.array(y)\n",
    "    return(y)"
   ]
  },
  {
   "cell_type": "code",
   "execution_count": 554,
   "metadata": {},
   "outputs": [
    {
     "name": "stdout",
     "output_type": "stream",
     "text": [
      "[ 0.         -0.26730313 -0.89375428 -2.27092016 -0.22118936 -0.8094489\n",
      " -0.9928607  -2.13393266 -1.0218083  -1.21379758 -0.48482767 -0.00465824\n",
      "  0.84711883  0.33597311 -1.07853487 -0.99659467 -0.82084738 -1.90723417\n",
      "  0.11126454 -0.63925448  0.28852968  0.36001333  0.7759958   0.4015987\n",
      " -1.83215112 -2.40489958 -1.75852688  0.63350002  1.35819952  2.03584871\n",
      "  3.3021725   1.41539255  0.4297094  -0.16315688 -0.93747158 -1.06405077\n",
      " -1.70931889 -1.66094084 -2.05904265 -1.60122362 -1.28059755 -2.82169691\n",
      " -1.67513466 -0.78277059 -2.0414988  -1.76022068 -0.65303496  1.39598829\n",
      "  0.76490492  0.07599137  1.75033362 -0.13920643 -1.11934026 -0.34665384\n",
      " -0.66021937 -0.25277023  0.22501974  0.97818175  0.75368659  0.26885839\n",
      "  2.42940863  1.59165051  0.91947826 -0.24017674 -1.2057698  -1.59865918\n",
      "  0.47215799 -1.04742299  0.46582849  2.65396807  2.08646266  1.68944753\n",
      "  0.89729301 -0.29350628 -1.5496067  -1.22598826 -0.89556764  0.92485825\n",
      "  0.25664165 -0.17115103 -0.40536504 -0.511036   -0.99774687 -0.77702838\n",
      " -2.4795543  -1.54498264 -1.13351137  0.96683587  2.05217465  1.20735601\n",
      "  0.39429769  0.89247076  1.20693667  1.640297    0.69635351 -0.13921966\n",
      " -0.53369579 -0.5721212  -1.49404568 -0.266479  ]\n"
     ]
    }
   ],
   "source": [
    "r=montecarlo()\n",
    "print(r)"
   ]
  },
  {
   "cell_type": "code",
   "execution_count": 555,
   "metadata": {},
   "outputs": [
    {
     "data": {
      "text/plain": [
       "(array([ 4., 12., 16., 15., 16., 16., 11.,  6.,  3.,  1.]),\n",
       " array([-2.82169691, -2.20930997, -1.59692303, -0.98453608, -0.37214914,\n",
       "         0.2402378 ,  0.85262474,  1.46501168,  2.07739862,  2.68978556,\n",
       "         3.3021725 ]),\n",
       " <a list of 10 Patch objects>)"
      ]
     },
     "execution_count": 555,
     "metadata": {},
     "output_type": "execute_result"
    },
    {
     "data": {
      "image/png": "[encoded data removed]",
      "text/plain": [
       "<Figure size 432x288 with 1 Axes>"
      ]
     },
     "metadata": {
      "needs_background": "light"
     },
     "output_type": "display_data"
    }
   ],
   "source": [
    "%matplotlib inline\n",
    "plt.hist(r)"
   ]
  },
  {
   "cell_type": "code",
   "execution_count": 556,
   "metadata": {},
   "outputs": [],
   "source": [
    "def createUti():\n",
    "    u=[[0]*100]*100\n",
    "    for i in range (1,100):\n",
    "        u[i] = np.random.normal(0,1,100)\n",
    "    return u"
   ]
  },
  {
   "cell_type": "code",
   "execution_count": 557,
   "metadata": {},
   "outputs": [],
   "source": [
    "# in the first case , bias is zero , finding beta1\n",
    "def montecarloUpdated(Uti):     \n",
    "    X=[[0]*100]*100\n",
    "    \n",
    "    for t in range(1,100):\n",
    "        for i in range(1,100):\n",
    "            X[t][i]=Uti[t][i]\n",
    "            X=np.array(X)\n",
    "    return(X)"
   ]
  },
  {
   "cell_type": "code",
   "execution_count": 548,
   "metadata": {},
   "outputs": [
    {
     "name": "stdout",
     "output_type": "stream",
     "text": [
      "[[ 0.          0.04575324  0.         ...  0.          0.\n",
      "   0.        ]\n",
      " [ 0.          0.04575324 -0.71323502 ... -1.53131179 -0.34794659\n",
      "  -0.29719448]\n",
      " [ 0.          0.10085263  1.20447247 ... -0.20540885 -1.02861329\n",
      "  -0.30763391]\n",
      " ...\n",
      " [ 0.          0.72460379 -0.81230901 ... -0.59102278  0.78664348\n",
      "  -0.19548401]\n",
      " [ 0.          1.14268716  1.45021956 ... -1.82922445 -0.04900629\n",
      "  -0.2940237 ]\n",
      " [ 0.         -0.73281204 -1.26369249 ... -0.0882602  -0.91817025\n",
      "   0.73617148]]\n"
     ]
    }
   ],
   "source": [
    "m=montecarloUpdated(Uti)\n",
    "print(m)"
   ]
  },
  {
   "cell_type": "code",
   "execution_count": 666,
   "metadata": {},
   "outputs": [],
   "source": [
    "X1=m[1,:]\n",
    "X1=np.array(X1)\n",
    "X1=np.reshape(X1, (-1, 2))\n",
    "X2=m[2,:]\n",
    "X2=np.array(X2)\n",
    "X2=np.reshape(X2, (-1, 2))\n",
    "X3=m[3,:]\n",
    "X3=np.array(X3)\n",
    "X3=np.reshape(X3, (-1, 2))\n",
    "X5=m[5,:]\n",
    "X5=np.array(X5)\n",
    "X5=np.reshape(X5, (-1, 2))\n",
    "X10=m[10,:]\n",
    "X10=np.array(X10)\n",
    "X10=np.reshape(X10, (-1, 2))\n",
    "from sklearn.linear_model import LinearRegression\n"
   ]
  },
  {
   "cell_type": "code",
   "execution_count": 667,
   "metadata": {},
   "outputs": [
    {
     "data": {
      "text/plain": [
       "-0.06634375597972121"
      ]
     },
     "execution_count": 667,
     "metadata": {},
     "output_type": "execute_result"
    }
   ],
   "source": [
    "reg = LinearRegression().fit(X1, y)\n",
    "reg.score(X1, y)\n",
    "#finding bias\n",
    "reg.coef_.mean()"
   ]
  },
  {
   "cell_type": "code",
   "execution_count": 668,
   "metadata": {},
   "outputs": [
    {
     "data": {
      "text/plain": [
       "0.011106689640236436"
      ]
     },
     "execution_count": 668,
     "metadata": {},
     "output_type": "execute_result"
    }
   ],
   "source": [
    "#finding variance of beta1\n",
    "reg.intercept_.std()"
   ]
  },
  {
   "cell_type": "code",
   "execution_count": 669,
   "metadata": {},
   "outputs": [
    {
     "data": {
      "text/plain": [
       "-0.18022226405119987"
      ]
     },
     "execution_count": 669,
     "metadata": {},
     "output_type": "execute_result"
    }
   ],
   "source": [
    "reg = LinearRegression().fit(X2, y)\n",
    "reg.score(X2, y)\n",
    "#finding bias\n",
    "reg.coef_.mean()\n"
   ]
  },
  {
   "cell_type": "code",
   "execution_count": 635,
   "metadata": {},
   "outputs": [
    {
     "data": {
      "text/plain": [
       "0.03623791877080694"
      ]
     },
     "execution_count": 635,
     "metadata": {},
     "output_type": "execute_result"
    }
   ],
   "source": [
    "#finding variance in beta1\n",
    "reg.intercept_.std()"
   ]
  },
  {
   "cell_type": "code",
   "execution_count": 636,
   "metadata": {},
   "outputs": [
    {
     "data": {
      "text/plain": [
       "0.18389247208049642"
      ]
     },
     "execution_count": 636,
     "metadata": {},
     "output_type": "execute_result"
    }
   ],
   "source": [
    "reg = LinearRegression().fit(X3, y)\n",
    "reg.score(X3, y)\n",
    "#finding bias\n",
    "reg.coef_.mean()"
   ]
  },
  {
   "cell_type": "code",
   "execution_count": 637,
   "metadata": {},
   "outputs": [
    {
     "data": {
      "text/plain": [
       "0.0353300927185473"
      ]
     },
     "execution_count": 637,
     "metadata": {},
     "output_type": "execute_result"
    }
   ],
   "source": [
    "#finding variance in beta1\n",
    "reg.intercept_.std()"
   ]
  },
  {
   "cell_type": "code",
   "execution_count": 670,
   "metadata": {},
   "outputs": [
    {
     "data": {
      "text/plain": [
       "0.3046997970542759"
      ]
     },
     "execution_count": 670,
     "metadata": {},
     "output_type": "execute_result"
    }
   ],
   "source": [
    "reg = LinearRegression().fit(X5, y)\n",
    "reg.score(X5, y)\n",
    "#finding bias\n",
    "reg.coef_.mean()"
   ]
  },
  {
   "cell_type": "code",
   "execution_count": 657,
   "metadata": {},
   "outputs": [
    {
     "data": {
      "text/plain": [
       "0.03435427941715735"
      ]
     },
     "execution_count": 657,
     "metadata": {},
     "output_type": "execute_result"
    }
   ],
   "source": [
    "#finding variance in beta1\n",
    "reg.intercept_.std()"
   ]
  },
  {
   "cell_type": "code",
   "execution_count": 658,
   "metadata": {},
   "outputs": [
    {
     "data": {
      "text/plain": [
       "0.04025966564135952"
      ]
     },
     "execution_count": 658,
     "metadata": {},
     "output_type": "execute_result"
    }
   ],
   "source": [
    "reg = LinearRegression().fit(X10, y)\n",
    "reg.score(X10, y)\n",
    "#finding bias\n",
    "reg.coef_.mean()"
   ]
  },
  {
   "cell_type": "code",
   "execution_count": 671,
   "metadata": {},
   "outputs": [
    {
     "data": {
      "text/plain": [
       "0.03435427941715735"
      ]
     },
     "execution_count": 671,
     "metadata": {},
     "output_type": "execute_result"
    }
   ],
   "source": [
    "#finding variance in beta1\n",
    "reg.intercept_.std()"
   ]
  }
 ],
 "metadata": {
  "kernelspec": {
   "display_name": "Python 3",
   "language": "python",
   "name": "python3"
  },
  "language_info": {
   "codemirror_mode": {
    "name": "ipython",
    "version": 3
   },
   "file_extension": ".py",
   "mimetype": "text/x-python",
   "name": "python",
   "nbconvert_exporter": "python",
   "pygments_lexer": "ipython3",
   "version": "3.6.5"
  }
 },
 "nbformat": 4,
 "nbformat_minor": 2
}
